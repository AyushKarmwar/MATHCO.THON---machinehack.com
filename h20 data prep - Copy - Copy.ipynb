{
 "cells": [
  {
   "cell_type": "code",
   "execution_count": 9,
   "metadata": {},
   "outputs": [],
   "source": [
    "import pandas as pd\n",
    "import numpy as np\n",
    "import matplotlib.pyplot as plt\n",
    "%matplotlib inline\n",
    "import seaborn as sns\n",
    "from sklearn.preprocessing import LabelEncoder\n",
    "from sklearn.preprocessing import MaxAbsScaler\n",
    "from xgboost import XGBRegressor\n",
    "import warnings\n",
    "warnings.filterwarnings('ignore')"
   ]
  },
  {
   "cell_type": "code",
   "execution_count": null,
   "metadata": {},
   "outputs": [],
   "source": []
  },
  {
   "cell_type": "code",
   "execution_count": null,
   "metadata": {},
   "outputs": [],
   "source": []
  },
  {
   "cell_type": "code",
   "execution_count": null,
   "metadata": {},
   "outputs": [],
   "source": []
  },
  {
   "cell_type": "code",
   "execution_count": null,
   "metadata": {},
   "outputs": [],
   "source": []
  },
  {
   "cell_type": "code",
   "execution_count": 82,
   "metadata": {},
   "outputs": [
    {
     "data": {
      "text/html": [
       "<div>\n",
       "<style scoped>\n",
       "    .dataframe tbody tr th:only-of-type {\n",
       "        vertical-align: middle;\n",
       "    }\n",
       "\n",
       "    .dataframe tbody tr th {\n",
       "        vertical-align: top;\n",
       "    }\n",
       "\n",
       "    .dataframe thead th {\n",
       "        text-align: right;\n",
       "    }\n",
       "</style>\n",
       "<table border=\"1\" class=\"dataframe\">\n",
       "  <thead>\n",
       "    <tr style=\"text-align: right;\">\n",
       "      <th></th>\n",
       "      <th>ID</th>\n",
       "      <th>Price</th>\n",
       "      <th>Levy</th>\n",
       "      <th>Manufacturer</th>\n",
       "      <th>Model</th>\n",
       "      <th>Prod. year</th>\n",
       "      <th>Category</th>\n",
       "      <th>Leather interior</th>\n",
       "      <th>Fuel type</th>\n",
       "      <th>Engine volume</th>\n",
       "      <th>Mileage</th>\n",
       "      <th>Cylinders</th>\n",
       "      <th>Gear box type</th>\n",
       "      <th>Drive wheels</th>\n",
       "      <th>Doors</th>\n",
       "      <th>Wheel</th>\n",
       "      <th>Color</th>\n",
       "      <th>Airbags</th>\n",
       "    </tr>\n",
       "  </thead>\n",
       "  <tbody>\n",
       "    <tr>\n",
       "      <th>0</th>\n",
       "      <td>45654403</td>\n",
       "      <td>13328</td>\n",
       "      <td>1399</td>\n",
       "      <td>LEXUS</td>\n",
       "      <td>RX 450</td>\n",
       "      <td>2010</td>\n",
       "      <td>Jeep</td>\n",
       "      <td>Yes</td>\n",
       "      <td>Hybrid</td>\n",
       "      <td>3.5</td>\n",
       "      <td>186005 km</td>\n",
       "      <td>6.0</td>\n",
       "      <td>Automatic</td>\n",
       "      <td>4x4</td>\n",
       "      <td>04-May</td>\n",
       "      <td>Left wheel</td>\n",
       "      <td>Silver</td>\n",
       "      <td>12</td>\n",
       "    </tr>\n",
       "    <tr>\n",
       "      <th>1</th>\n",
       "      <td>44731507</td>\n",
       "      <td>16621</td>\n",
       "      <td>1018</td>\n",
       "      <td>CHEVROLET</td>\n",
       "      <td>Equinox</td>\n",
       "      <td>2011</td>\n",
       "      <td>Jeep</td>\n",
       "      <td>No</td>\n",
       "      <td>Petrol</td>\n",
       "      <td>3</td>\n",
       "      <td>192000 km</td>\n",
       "      <td>6.0</td>\n",
       "      <td>Tiptronic</td>\n",
       "      <td>4x4</td>\n",
       "      <td>04-May</td>\n",
       "      <td>Left wheel</td>\n",
       "      <td>Black</td>\n",
       "      <td>8</td>\n",
       "    </tr>\n",
       "    <tr>\n",
       "      <th>2</th>\n",
       "      <td>45774419</td>\n",
       "      <td>8467</td>\n",
       "      <td>-</td>\n",
       "      <td>HONDA</td>\n",
       "      <td>FIT</td>\n",
       "      <td>2006</td>\n",
       "      <td>Hatchback</td>\n",
       "      <td>No</td>\n",
       "      <td>Petrol</td>\n",
       "      <td>1.3</td>\n",
       "      <td>200000 km</td>\n",
       "      <td>4.0</td>\n",
       "      <td>Variator</td>\n",
       "      <td>Front</td>\n",
       "      <td>04-May</td>\n",
       "      <td>Right-hand drive</td>\n",
       "      <td>Black</td>\n",
       "      <td>2</td>\n",
       "    </tr>\n",
       "    <tr>\n",
       "      <th>3</th>\n",
       "      <td>45769185</td>\n",
       "      <td>3607</td>\n",
       "      <td>862</td>\n",
       "      <td>FORD</td>\n",
       "      <td>Escape</td>\n",
       "      <td>2011</td>\n",
       "      <td>Jeep</td>\n",
       "      <td>Yes</td>\n",
       "      <td>Hybrid</td>\n",
       "      <td>2.5</td>\n",
       "      <td>168966 km</td>\n",
       "      <td>4.0</td>\n",
       "      <td>Automatic</td>\n",
       "      <td>4x4</td>\n",
       "      <td>04-May</td>\n",
       "      <td>Left wheel</td>\n",
       "      <td>White</td>\n",
       "      <td>0</td>\n",
       "    </tr>\n",
       "    <tr>\n",
       "      <th>4</th>\n",
       "      <td>45809263</td>\n",
       "      <td>11726</td>\n",
       "      <td>446</td>\n",
       "      <td>HONDA</td>\n",
       "      <td>FIT</td>\n",
       "      <td>2014</td>\n",
       "      <td>Hatchback</td>\n",
       "      <td>Yes</td>\n",
       "      <td>Petrol</td>\n",
       "      <td>1.3</td>\n",
       "      <td>91901 km</td>\n",
       "      <td>4.0</td>\n",
       "      <td>Automatic</td>\n",
       "      <td>Front</td>\n",
       "      <td>04-May</td>\n",
       "      <td>Left wheel</td>\n",
       "      <td>Silver</td>\n",
       "      <td>4</td>\n",
       "    </tr>\n",
       "    <tr>\n",
       "      <th>...</th>\n",
       "      <td>...</td>\n",
       "      <td>...</td>\n",
       "      <td>...</td>\n",
       "      <td>...</td>\n",
       "      <td>...</td>\n",
       "      <td>...</td>\n",
       "      <td>...</td>\n",
       "      <td>...</td>\n",
       "      <td>...</td>\n",
       "      <td>...</td>\n",
       "      <td>...</td>\n",
       "      <td>...</td>\n",
       "      <td>...</td>\n",
       "      <td>...</td>\n",
       "      <td>...</td>\n",
       "      <td>...</td>\n",
       "      <td>...</td>\n",
       "      <td>...</td>\n",
       "    </tr>\n",
       "    <tr>\n",
       "      <th>19232</th>\n",
       "      <td>45798355</td>\n",
       "      <td>8467</td>\n",
       "      <td>-</td>\n",
       "      <td>MERCEDES-BENZ</td>\n",
       "      <td>CLK 200</td>\n",
       "      <td>1999</td>\n",
       "      <td>Coupe</td>\n",
       "      <td>Yes</td>\n",
       "      <td>CNG</td>\n",
       "      <td>2.0 Turbo</td>\n",
       "      <td>300000 km</td>\n",
       "      <td>4.0</td>\n",
       "      <td>Manual</td>\n",
       "      <td>Rear</td>\n",
       "      <td>02-Mar</td>\n",
       "      <td>Left wheel</td>\n",
       "      <td>Silver</td>\n",
       "      <td>5</td>\n",
       "    </tr>\n",
       "    <tr>\n",
       "      <th>19233</th>\n",
       "      <td>45778856</td>\n",
       "      <td>15681</td>\n",
       "      <td>831</td>\n",
       "      <td>HYUNDAI</td>\n",
       "      <td>Sonata</td>\n",
       "      <td>2011</td>\n",
       "      <td>Sedan</td>\n",
       "      <td>Yes</td>\n",
       "      <td>Petrol</td>\n",
       "      <td>2.4</td>\n",
       "      <td>161600 km</td>\n",
       "      <td>4.0</td>\n",
       "      <td>Tiptronic</td>\n",
       "      <td>Front</td>\n",
       "      <td>04-May</td>\n",
       "      <td>Left wheel</td>\n",
       "      <td>Red</td>\n",
       "      <td>8</td>\n",
       "    </tr>\n",
       "    <tr>\n",
       "      <th>19234</th>\n",
       "      <td>45804997</td>\n",
       "      <td>26108</td>\n",
       "      <td>836</td>\n",
       "      <td>HYUNDAI</td>\n",
       "      <td>Tucson</td>\n",
       "      <td>2010</td>\n",
       "      <td>Jeep</td>\n",
       "      <td>Yes</td>\n",
       "      <td>Diesel</td>\n",
       "      <td>2</td>\n",
       "      <td>116365 km</td>\n",
       "      <td>4.0</td>\n",
       "      <td>Automatic</td>\n",
       "      <td>Front</td>\n",
       "      <td>04-May</td>\n",
       "      <td>Left wheel</td>\n",
       "      <td>Grey</td>\n",
       "      <td>4</td>\n",
       "    </tr>\n",
       "    <tr>\n",
       "      <th>19235</th>\n",
       "      <td>45793526</td>\n",
       "      <td>5331</td>\n",
       "      <td>1288</td>\n",
       "      <td>CHEVROLET</td>\n",
       "      <td>Captiva</td>\n",
       "      <td>2007</td>\n",
       "      <td>Jeep</td>\n",
       "      <td>Yes</td>\n",
       "      <td>Diesel</td>\n",
       "      <td>2</td>\n",
       "      <td>51258 km</td>\n",
       "      <td>4.0</td>\n",
       "      <td>Automatic</td>\n",
       "      <td>Front</td>\n",
       "      <td>04-May</td>\n",
       "      <td>Left wheel</td>\n",
       "      <td>Black</td>\n",
       "      <td>4</td>\n",
       "    </tr>\n",
       "    <tr>\n",
       "      <th>19236</th>\n",
       "      <td>45813273</td>\n",
       "      <td>470</td>\n",
       "      <td>753</td>\n",
       "      <td>HYUNDAI</td>\n",
       "      <td>Sonata</td>\n",
       "      <td>2012</td>\n",
       "      <td>Sedan</td>\n",
       "      <td>Yes</td>\n",
       "      <td>Hybrid</td>\n",
       "      <td>2.4</td>\n",
       "      <td>186923 km</td>\n",
       "      <td>4.0</td>\n",
       "      <td>Automatic</td>\n",
       "      <td>Front</td>\n",
       "      <td>04-May</td>\n",
       "      <td>Left wheel</td>\n",
       "      <td>White</td>\n",
       "      <td>12</td>\n",
       "    </tr>\n",
       "  </tbody>\n",
       "</table>\n",
       "<p>19237 rows × 18 columns</p>\n",
       "</div>"
      ],
      "text/plain": [
       "             ID  Price  Levy   Manufacturer    Model  Prod. year   Category  \\\n",
       "0      45654403  13328  1399          LEXUS   RX 450        2010       Jeep   \n",
       "1      44731507  16621  1018      CHEVROLET  Equinox        2011       Jeep   \n",
       "2      45774419   8467     -          HONDA      FIT        2006  Hatchback   \n",
       "3      45769185   3607   862           FORD   Escape        2011       Jeep   \n",
       "4      45809263  11726   446          HONDA      FIT        2014  Hatchback   \n",
       "...         ...    ...   ...            ...      ...         ...        ...   \n",
       "19232  45798355   8467     -  MERCEDES-BENZ  CLK 200        1999      Coupe   \n",
       "19233  45778856  15681   831        HYUNDAI   Sonata        2011      Sedan   \n",
       "19234  45804997  26108   836        HYUNDAI   Tucson        2010       Jeep   \n",
       "19235  45793526   5331  1288      CHEVROLET  Captiva        2007       Jeep   \n",
       "19236  45813273    470   753        HYUNDAI   Sonata        2012      Sedan   \n",
       "\n",
       "      Leather interior Fuel type Engine volume    Mileage  Cylinders  \\\n",
       "0                  Yes    Hybrid           3.5  186005 km        6.0   \n",
       "1                   No    Petrol             3  192000 km        6.0   \n",
       "2                   No    Petrol           1.3  200000 km        4.0   \n",
       "3                  Yes    Hybrid           2.5  168966 km        4.0   \n",
       "4                  Yes    Petrol           1.3   91901 km        4.0   \n",
       "...                ...       ...           ...        ...        ...   \n",
       "19232              Yes       CNG     2.0 Turbo  300000 km        4.0   \n",
       "19233              Yes    Petrol           2.4  161600 km        4.0   \n",
       "19234              Yes    Diesel             2  116365 km        4.0   \n",
       "19235              Yes    Diesel             2   51258 km        4.0   \n",
       "19236              Yes    Hybrid           2.4  186923 km        4.0   \n",
       "\n",
       "      Gear box type Drive wheels   Doors             Wheel   Color  Airbags  \n",
       "0         Automatic          4x4  04-May        Left wheel  Silver       12  \n",
       "1         Tiptronic          4x4  04-May        Left wheel   Black        8  \n",
       "2          Variator        Front  04-May  Right-hand drive   Black        2  \n",
       "3         Automatic          4x4  04-May        Left wheel   White        0  \n",
       "4         Automatic        Front  04-May        Left wheel  Silver        4  \n",
       "...             ...          ...     ...               ...     ...      ...  \n",
       "19232        Manual         Rear  02-Mar        Left wheel  Silver        5  \n",
       "19233     Tiptronic        Front  04-May        Left wheel     Red        8  \n",
       "19234     Automatic        Front  04-May        Left wheel    Grey        4  \n",
       "19235     Automatic        Front  04-May        Left wheel   Black        4  \n",
       "19236     Automatic        Front  04-May        Left wheel   White       12  \n",
       "\n",
       "[19237 rows x 18 columns]"
      ]
     },
     "execution_count": 82,
     "metadata": {},
     "output_type": "execute_result"
    }
   ],
   "source": [
    "import pandas as pd\n",
    "df=pd.read_csv(\"train.csv\")\n",
    "df"
   ]
  },
  {
   "cell_type": "code",
   "execution_count": 83,
   "metadata": {},
   "outputs": [],
   "source": [
    "df['Doors'].replace('02-Mar','2',inplace=True)\n",
    "df['Doors'].replace('>5','5',inplace=True)\n",
    "df['Doors'].replace('04-May','4',inplace=True)"
   ]
  },
  {
   "cell_type": "code",
   "execution_count": 84,
   "metadata": {},
   "outputs": [],
   "source": [
    "df['Levy'].replace('-', np.nan, inplace = True)"
   ]
  },
  {
   "cell_type": "code",
   "execution_count": 85,
   "metadata": {},
   "outputs": [
    {
     "data": {
      "text/plain": [
       "ID                     0\n",
       "Price                  0\n",
       "Levy                5819\n",
       "Manufacturer           0\n",
       "Model                  0\n",
       "Prod. year             0\n",
       "Category               0\n",
       "Leather interior       0\n",
       "Fuel type              0\n",
       "Engine volume          0\n",
       "Mileage                0\n",
       "Cylinders              0\n",
       "Gear box type          0\n",
       "Drive wheels           0\n",
       "Doors                  0\n",
       "Wheel                  0\n",
       "Color                  0\n",
       "Airbags                0\n",
       "dtype: int64"
      ]
     },
     "execution_count": 85,
     "metadata": {},
     "output_type": "execute_result"
    }
   ],
   "source": [
    "df.isnull().sum()"
   ]
  },
  {
   "cell_type": "code",
   "execution_count": 86,
   "metadata": {},
   "outputs": [],
   "source": [
    "df[['Levy']] = df[[\"Levy\"]].astype(\"float64\")"
   ]
  },
  {
   "cell_type": "code",
   "execution_count": 87,
   "metadata": {},
   "outputs": [],
   "source": [
    "#filling Null values\n",
    "#df['Levy']=df['Levy'].fillna(df['Levy'].mean())\n",
    "df.fillna(df.groupby('Price').transform('mean'),inplace=True)\n",
    "df['Levy']=df['Levy'].fillna(df['Levy'].mean())"
   ]
  },
  {
   "cell_type": "code",
   "execution_count": 88,
   "metadata": {},
   "outputs": [
    {
     "data": {
      "text/plain": [
       "ID                  0\n",
       "Price               0\n",
       "Levy                0\n",
       "Manufacturer        0\n",
       "Model               0\n",
       "Prod. year          0\n",
       "Category            0\n",
       "Leather interior    0\n",
       "Fuel type           0\n",
       "Engine volume       0\n",
       "Mileage             0\n",
       "Cylinders           0\n",
       "Gear box type       0\n",
       "Drive wheels        0\n",
       "Doors               0\n",
       "Wheel               0\n",
       "Color               0\n",
       "Airbags             0\n",
       "dtype: int64"
      ]
     },
     "execution_count": 88,
     "metadata": {},
     "output_type": "execute_result"
    }
   ],
   "source": [
    "df.isnull().sum()"
   ]
  },
  {
   "cell_type": "code",
   "execution_count": 89,
   "metadata": {},
   "outputs": [],
   "source": [
    "df[['Doors']] = df[[\"Doors\"]].astype(\"int\")"
   ]
  },
  {
   "cell_type": "code",
   "execution_count": 90,
   "metadata": {},
   "outputs": [],
   "source": [
    "df[['Mileage']] = df[[\"Mileage\"]].astype(\"str\")\n",
    "df['Mileage'] = df['Mileage'].str.replace(' km', '')"
   ]
  },
  {
   "cell_type": "code",
   "execution_count": 91,
   "metadata": {},
   "outputs": [],
   "source": [
    "df[['Mileage']] = df[[\"Mileage\"]].astype(\"int64\")"
   ]
  },
  {
   "cell_type": "code",
   "execution_count": 92,
   "metadata": {},
   "outputs": [
    {
     "data": {
      "text/html": [
       "<div>\n",
       "<style scoped>\n",
       "    .dataframe tbody tr th:only-of-type {\n",
       "        vertical-align: middle;\n",
       "    }\n",
       "\n",
       "    .dataframe tbody tr th {\n",
       "        vertical-align: top;\n",
       "    }\n",
       "\n",
       "    .dataframe thead th {\n",
       "        text-align: right;\n",
       "    }\n",
       "</style>\n",
       "<table border=\"1\" class=\"dataframe\">\n",
       "  <thead>\n",
       "    <tr style=\"text-align: right;\">\n",
       "      <th></th>\n",
       "      <th>ID</th>\n",
       "      <th>Price</th>\n",
       "      <th>Levy</th>\n",
       "      <th>Manufacturer</th>\n",
       "      <th>Model</th>\n",
       "      <th>Prod. year</th>\n",
       "      <th>Category</th>\n",
       "      <th>Leather interior</th>\n",
       "      <th>Fuel type</th>\n",
       "      <th>Engine volume</th>\n",
       "      <th>Mileage</th>\n",
       "      <th>Cylinders</th>\n",
       "      <th>Gear box type</th>\n",
       "      <th>Drive wheels</th>\n",
       "      <th>Doors</th>\n",
       "      <th>Wheel</th>\n",
       "      <th>Color</th>\n",
       "      <th>Airbags</th>\n",
       "      <th>Engine volume num</th>\n",
       "      <th>turbo</th>\n",
       "    </tr>\n",
       "  </thead>\n",
       "  <tbody>\n",
       "    <tr>\n",
       "      <th>0</th>\n",
       "      <td>45654403</td>\n",
       "      <td>13328</td>\n",
       "      <td>1399.000000</td>\n",
       "      <td>LEXUS</td>\n",
       "      <td>RX 450</td>\n",
       "      <td>2010</td>\n",
       "      <td>Jeep</td>\n",
       "      <td>Yes</td>\n",
       "      <td>Hybrid</td>\n",
       "      <td>3.5</td>\n",
       "      <td>186005</td>\n",
       "      <td>6.0</td>\n",
       "      <td>Automatic</td>\n",
       "      <td>4x4</td>\n",
       "      <td>4</td>\n",
       "      <td>Left wheel</td>\n",
       "      <td>Silver</td>\n",
       "      <td>12</td>\n",
       "      <td>3.5</td>\n",
       "      <td>None</td>\n",
       "    </tr>\n",
       "    <tr>\n",
       "      <th>1</th>\n",
       "      <td>44731507</td>\n",
       "      <td>16621</td>\n",
       "      <td>1018.000000</td>\n",
       "      <td>CHEVROLET</td>\n",
       "      <td>Equinox</td>\n",
       "      <td>2011</td>\n",
       "      <td>Jeep</td>\n",
       "      <td>No</td>\n",
       "      <td>Petrol</td>\n",
       "      <td>3</td>\n",
       "      <td>192000</td>\n",
       "      <td>6.0</td>\n",
       "      <td>Tiptronic</td>\n",
       "      <td>4x4</td>\n",
       "      <td>4</td>\n",
       "      <td>Left wheel</td>\n",
       "      <td>Black</td>\n",
       "      <td>8</td>\n",
       "      <td>3</td>\n",
       "      <td>None</td>\n",
       "    </tr>\n",
       "    <tr>\n",
       "      <th>2</th>\n",
       "      <td>45774419</td>\n",
       "      <td>8467</td>\n",
       "      <td>807.478261</td>\n",
       "      <td>HONDA</td>\n",
       "      <td>FIT</td>\n",
       "      <td>2006</td>\n",
       "      <td>Hatchback</td>\n",
       "      <td>No</td>\n",
       "      <td>Petrol</td>\n",
       "      <td>1.3</td>\n",
       "      <td>200000</td>\n",
       "      <td>4.0</td>\n",
       "      <td>Variator</td>\n",
       "      <td>Front</td>\n",
       "      <td>4</td>\n",
       "      <td>Right-hand drive</td>\n",
       "      <td>Black</td>\n",
       "      <td>2</td>\n",
       "      <td>1.3</td>\n",
       "      <td>None</td>\n",
       "    </tr>\n",
       "    <tr>\n",
       "      <th>3</th>\n",
       "      <td>45769185</td>\n",
       "      <td>3607</td>\n",
       "      <td>862.000000</td>\n",
       "      <td>FORD</td>\n",
       "      <td>Escape</td>\n",
       "      <td>2011</td>\n",
       "      <td>Jeep</td>\n",
       "      <td>Yes</td>\n",
       "      <td>Hybrid</td>\n",
       "      <td>2.5</td>\n",
       "      <td>168966</td>\n",
       "      <td>4.0</td>\n",
       "      <td>Automatic</td>\n",
       "      <td>4x4</td>\n",
       "      <td>4</td>\n",
       "      <td>Left wheel</td>\n",
       "      <td>White</td>\n",
       "      <td>0</td>\n",
       "      <td>2.5</td>\n",
       "      <td>None</td>\n",
       "    </tr>\n",
       "    <tr>\n",
       "      <th>4</th>\n",
       "      <td>45809263</td>\n",
       "      <td>11726</td>\n",
       "      <td>446.000000</td>\n",
       "      <td>HONDA</td>\n",
       "      <td>FIT</td>\n",
       "      <td>2014</td>\n",
       "      <td>Hatchback</td>\n",
       "      <td>Yes</td>\n",
       "      <td>Petrol</td>\n",
       "      <td>1.3</td>\n",
       "      <td>91901</td>\n",
       "      <td>4.0</td>\n",
       "      <td>Automatic</td>\n",
       "      <td>Front</td>\n",
       "      <td>4</td>\n",
       "      <td>Left wheel</td>\n",
       "      <td>Silver</td>\n",
       "      <td>4</td>\n",
       "      <td>1.3</td>\n",
       "      <td>None</td>\n",
       "    </tr>\n",
       "    <tr>\n",
       "      <th>...</th>\n",
       "      <td>...</td>\n",
       "      <td>...</td>\n",
       "      <td>...</td>\n",
       "      <td>...</td>\n",
       "      <td>...</td>\n",
       "      <td>...</td>\n",
       "      <td>...</td>\n",
       "      <td>...</td>\n",
       "      <td>...</td>\n",
       "      <td>...</td>\n",
       "      <td>...</td>\n",
       "      <td>...</td>\n",
       "      <td>...</td>\n",
       "      <td>...</td>\n",
       "      <td>...</td>\n",
       "      <td>...</td>\n",
       "      <td>...</td>\n",
       "      <td>...</td>\n",
       "      <td>...</td>\n",
       "      <td>...</td>\n",
       "    </tr>\n",
       "    <tr>\n",
       "      <th>19232</th>\n",
       "      <td>45798355</td>\n",
       "      <td>8467</td>\n",
       "      <td>807.478261</td>\n",
       "      <td>MERCEDES-BENZ</td>\n",
       "      <td>CLK 200</td>\n",
       "      <td>1999</td>\n",
       "      <td>Coupe</td>\n",
       "      <td>Yes</td>\n",
       "      <td>CNG</td>\n",
       "      <td>2.0 Turbo</td>\n",
       "      <td>300000</td>\n",
       "      <td>4.0</td>\n",
       "      <td>Manual</td>\n",
       "      <td>Rear</td>\n",
       "      <td>2</td>\n",
       "      <td>Left wheel</td>\n",
       "      <td>Silver</td>\n",
       "      <td>5</td>\n",
       "      <td>2.0</td>\n",
       "      <td>Turbo</td>\n",
       "    </tr>\n",
       "    <tr>\n",
       "      <th>19233</th>\n",
       "      <td>45778856</td>\n",
       "      <td>15681</td>\n",
       "      <td>831.000000</td>\n",
       "      <td>HYUNDAI</td>\n",
       "      <td>Sonata</td>\n",
       "      <td>2011</td>\n",
       "      <td>Sedan</td>\n",
       "      <td>Yes</td>\n",
       "      <td>Petrol</td>\n",
       "      <td>2.4</td>\n",
       "      <td>161600</td>\n",
       "      <td>4.0</td>\n",
       "      <td>Tiptronic</td>\n",
       "      <td>Front</td>\n",
       "      <td>4</td>\n",
       "      <td>Left wheel</td>\n",
       "      <td>Red</td>\n",
       "      <td>8</td>\n",
       "      <td>2.4</td>\n",
       "      <td>None</td>\n",
       "    </tr>\n",
       "    <tr>\n",
       "      <th>19234</th>\n",
       "      <td>45804997</td>\n",
       "      <td>26108</td>\n",
       "      <td>836.000000</td>\n",
       "      <td>HYUNDAI</td>\n",
       "      <td>Tucson</td>\n",
       "      <td>2010</td>\n",
       "      <td>Jeep</td>\n",
       "      <td>Yes</td>\n",
       "      <td>Diesel</td>\n",
       "      <td>2</td>\n",
       "      <td>116365</td>\n",
       "      <td>4.0</td>\n",
       "      <td>Automatic</td>\n",
       "      <td>Front</td>\n",
       "      <td>4</td>\n",
       "      <td>Left wheel</td>\n",
       "      <td>Grey</td>\n",
       "      <td>4</td>\n",
       "      <td>2</td>\n",
       "      <td>None</td>\n",
       "    </tr>\n",
       "    <tr>\n",
       "      <th>19235</th>\n",
       "      <td>45793526</td>\n",
       "      <td>5331</td>\n",
       "      <td>1288.000000</td>\n",
       "      <td>CHEVROLET</td>\n",
       "      <td>Captiva</td>\n",
       "      <td>2007</td>\n",
       "      <td>Jeep</td>\n",
       "      <td>Yes</td>\n",
       "      <td>Diesel</td>\n",
       "      <td>2</td>\n",
       "      <td>51258</td>\n",
       "      <td>4.0</td>\n",
       "      <td>Automatic</td>\n",
       "      <td>Front</td>\n",
       "      <td>4</td>\n",
       "      <td>Left wheel</td>\n",
       "      <td>Black</td>\n",
       "      <td>4</td>\n",
       "      <td>2</td>\n",
       "      <td>None</td>\n",
       "    </tr>\n",
       "    <tr>\n",
       "      <th>19236</th>\n",
       "      <td>45813273</td>\n",
       "      <td>470</td>\n",
       "      <td>753.000000</td>\n",
       "      <td>HYUNDAI</td>\n",
       "      <td>Sonata</td>\n",
       "      <td>2012</td>\n",
       "      <td>Sedan</td>\n",
       "      <td>Yes</td>\n",
       "      <td>Hybrid</td>\n",
       "      <td>2.4</td>\n",
       "      <td>186923</td>\n",
       "      <td>4.0</td>\n",
       "      <td>Automatic</td>\n",
       "      <td>Front</td>\n",
       "      <td>4</td>\n",
       "      <td>Left wheel</td>\n",
       "      <td>White</td>\n",
       "      <td>12</td>\n",
       "      <td>2.4</td>\n",
       "      <td>None</td>\n",
       "    </tr>\n",
       "  </tbody>\n",
       "</table>\n",
       "<p>19237 rows × 20 columns</p>\n",
       "</div>"
      ],
      "text/plain": [
       "             ID  Price         Levy   Manufacturer    Model  Prod. year  \\\n",
       "0      45654403  13328  1399.000000          LEXUS   RX 450        2010   \n",
       "1      44731507  16621  1018.000000      CHEVROLET  Equinox        2011   \n",
       "2      45774419   8467   807.478261          HONDA      FIT        2006   \n",
       "3      45769185   3607   862.000000           FORD   Escape        2011   \n",
       "4      45809263  11726   446.000000          HONDA      FIT        2014   \n",
       "...         ...    ...          ...            ...      ...         ...   \n",
       "19232  45798355   8467   807.478261  MERCEDES-BENZ  CLK 200        1999   \n",
       "19233  45778856  15681   831.000000        HYUNDAI   Sonata        2011   \n",
       "19234  45804997  26108   836.000000        HYUNDAI   Tucson        2010   \n",
       "19235  45793526   5331  1288.000000      CHEVROLET  Captiva        2007   \n",
       "19236  45813273    470   753.000000        HYUNDAI   Sonata        2012   \n",
       "\n",
       "        Category Leather interior Fuel type Engine volume  Mileage  Cylinders  \\\n",
       "0           Jeep              Yes    Hybrid           3.5   186005        6.0   \n",
       "1           Jeep               No    Petrol             3   192000        6.0   \n",
       "2      Hatchback               No    Petrol           1.3   200000        4.0   \n",
       "3           Jeep              Yes    Hybrid           2.5   168966        4.0   \n",
       "4      Hatchback              Yes    Petrol           1.3    91901        4.0   \n",
       "...          ...              ...       ...           ...      ...        ...   \n",
       "19232      Coupe              Yes       CNG     2.0 Turbo   300000        4.0   \n",
       "19233      Sedan              Yes    Petrol           2.4   161600        4.0   \n",
       "19234       Jeep              Yes    Diesel             2   116365        4.0   \n",
       "19235       Jeep              Yes    Diesel             2    51258        4.0   \n",
       "19236      Sedan              Yes    Hybrid           2.4   186923        4.0   \n",
       "\n",
       "      Gear box type Drive wheels  Doors             Wheel   Color  Airbags  \\\n",
       "0         Automatic          4x4      4        Left wheel  Silver       12   \n",
       "1         Tiptronic          4x4      4        Left wheel   Black        8   \n",
       "2          Variator        Front      4  Right-hand drive   Black        2   \n",
       "3         Automatic          4x4      4        Left wheel   White        0   \n",
       "4         Automatic        Front      4        Left wheel  Silver        4   \n",
       "...             ...          ...    ...               ...     ...      ...   \n",
       "19232        Manual         Rear      2        Left wheel  Silver        5   \n",
       "19233     Tiptronic        Front      4        Left wheel     Red        8   \n",
       "19234     Automatic        Front      4        Left wheel    Grey        4   \n",
       "19235     Automatic        Front      4        Left wheel   Black        4   \n",
       "19236     Automatic        Front      4        Left wheel   White       12   \n",
       "\n",
       "      Engine volume num  turbo  \n",
       "0                   3.5   None  \n",
       "1                     3   None  \n",
       "2                   1.3   None  \n",
       "3                   2.5   None  \n",
       "4                   1.3   None  \n",
       "...                 ...    ...  \n",
       "19232               2.0  Turbo  \n",
       "19233               2.4   None  \n",
       "19234                 2   None  \n",
       "19235                 2   None  \n",
       "19236               2.4   None  \n",
       "\n",
       "[19237 rows x 20 columns]"
      ]
     },
     "execution_count": 92,
     "metadata": {},
     "output_type": "execute_result"
    }
   ],
   "source": [
    "# new data frame with split value columns\n",
    "new = df[\"Engine volume\"].str.split(\" \", n = 1, expand = True)\n",
    "                                    \n",
    "# making separate first name column from new data frame\n",
    "df[\"Engine volume num\"]= new[0]\n",
    "                                    \n",
    "# making separate last name column from new data frame\n",
    "df[\"turbo\"]= new[1] \n",
    "df"
   ]
  },
  {
   "cell_type": "code",
   "execution_count": 93,
   "metadata": {},
   "outputs": [],
   "source": [
    "df[['Engine volume num']] = df[[\"Engine volume num\"]].astype(\"float64\")"
   ]
  },
  {
   "cell_type": "code",
   "execution_count": 94,
   "metadata": {},
   "outputs": [],
   "source": [
    "df['turbo'].replace('None',0,inplace=True)\n",
    "df['turbo'].replace('Turbo',1,inplace=True)"
   ]
  },
  {
   "cell_type": "code",
   "execution_count": 95,
   "metadata": {},
   "outputs": [
    {
     "data": {
      "text/plain": [
       "array([nan,  1.])"
      ]
     },
     "execution_count": 95,
     "metadata": {},
     "output_type": "execute_result"
    }
   ],
   "source": [
    "df['turbo'].unique()"
   ]
  },
  {
   "cell_type": "code",
   "execution_count": 96,
   "metadata": {},
   "outputs": [],
   "source": [
    "df['turbo'].replace(np.nan,0,inplace=True)\n",
    "df[['turbo']] = df[[\"turbo\"]].astype(\"uint8\")"
   ]
  },
  {
   "cell_type": "code",
   "execution_count": 97,
   "metadata": {},
   "outputs": [
    {
     "data": {
      "text/plain": [
       "<matplotlib.axes._subplots.AxesSubplot at 0x23b9c1f66c8>"
      ]
     },
     "execution_count": 97,
     "metadata": {},
     "output_type": "execute_result"
    },
    {
     "data": {
      "image/png": "[encoded data removed]",
      "text/plain": [
       "<Figure size 432x288 with 1 Axes>"
      ]
     },
     "metadata": {
      "needs_background": "light"
     },
     "output_type": "display_data"
    }
   ],
   "source": [
    "#distplot for levy collum\n",
    "sns.distplot(df['Levy'])"
   ]
  },
  {
   "cell_type": "code",
   "execution_count": 98,
   "metadata": {},
   "outputs": [],
   "source": [
    "#removing outlier for levy\n",
    "df=df[df['Levy']<4000]"
   ]
  },
  {
   "cell_type": "code",
   "execution_count": 99,
   "metadata": {},
   "outputs": [
    {
     "data": {
      "text/plain": [
       "<matplotlib.axes._subplots.AxesSubplot at 0x23b9c0b6488>"
      ]
     },
     "execution_count": 99,
     "metadata": {},
     "output_type": "execute_result"
    },
    {
     "data": {
      "image/png": "[encoded data removed]",
      "text/plain": [
       "<Figure size 432x288 with 1 Axes>"
      ]
     },
     "metadata": {
      "needs_background": "light"
     },
     "output_type": "display_data"
    }
   ],
   "source": [
    "#distplot after outlier\n",
    "sns.distplot(df['Levy'])"
   ]
  },
  {
   "cell_type": "code",
   "execution_count": 100,
   "metadata": {},
   "outputs": [
    {
     "data": {
      "text/plain": [
       "<matplotlib.axes._subplots.AxesSubplot at 0x23b9c088348>"
      ]
     },
     "execution_count": 100,
     "metadata": {},
     "output_type": "execute_result"
    },
    {
     "data": {
      "image/png": "[encoded data removed]",
      "text/plain": [
       "<Figure size 1080x432 with 1 Axes>"
      ]
     },
     "metadata": {
      "needs_background": "light"
     },
     "output_type": "display_data"
    }
   ],
   "source": [
    "#barplots for categories\n",
    "plt.figure(figsize=(15,6))\n",
    "sns.barplot(x='Category',y='Price',data=df) #category"
   ]
  },
  {
   "cell_type": "code",
   "execution_count": 101,
   "metadata": {},
   "outputs": [
    {
     "data": {
      "text/plain": [
       "<matplotlib.axes._subplots.AxesSubplot at 0x23ba2606608>"
      ]
     },
     "execution_count": 101,
     "metadata": {},
     "output_type": "execute_result"
    },
    {
     "data": {
      "image/png": "[encoded data removed]",
      "text/plain": [
       "<Figure size 1080x432 with 1 Axes>"
      ]
     },
     "metadata": {
      "needs_background": "light"
     },
     "output_type": "display_data"
    }
   ],
   "source": [
    "#scatter plot\n",
    "plt.figure(figsize=(15,6))\n",
    "sns.scatterplot(x='Category',y='Price',data=df)"
   ]
  },
  {
   "cell_type": "code",
   "execution_count": 102,
   "metadata": {},
   "outputs": [
    {
     "data": {
      "text/plain": [
       "Price        26307500\n",
       "Category    Universal\n",
       "dtype: object"
      ]
     },
     "execution_count": 102,
     "metadata": {},
     "output_type": "execute_result"
    }
   ],
   "source": [
    "#handling outlier for wagon\n",
    "df[['Price','Category']].sort_values('Price',ascending=False).max()"
   ]
  },
  {
   "cell_type": "code",
   "execution_count": 103,
   "metadata": {},
   "outputs": [
    {
     "data": {
      "text/plain": [
       "<matplotlib.axes._subplots.AxesSubplot at 0x23ba2606f08>"
      ]
     },
     "execution_count": 103,
     "metadata": {},
     "output_type": "execute_result"
    },
    {
     "data": {
      "image/png": "[encoded data removed]",
      "text/plain": [
       "<Figure size 1080x432 with 1 Axes>"
      ]
     },
     "metadata": {
      "needs_background": "light"
     },
     "output_type": "display_data"
    }
   ],
   "source": [
    "#removing outlier for wagon\n",
    "df=df[df['Price']<26307500]\n",
    "plt.figure(figsize=(15,6))\n",
    "sns.scatterplot(x='Category',y='Price',data=df)"
   ]
  },
  {
   "cell_type": "code",
   "execution_count": 104,
   "metadata": {},
   "outputs": [
    {
     "data": {
      "text/plain": [
       "<matplotlib.axes._subplots.AxesSubplot at 0x23ba2064c88>"
      ]
     },
     "execution_count": 104,
     "metadata": {},
     "output_type": "execute_result"
    },
    {
     "data": {
      "image/png": "[encoded data removed]",
      "text/plain": [
       "<Figure size 1080x432 with 1 Axes>"
      ]
     },
     "metadata": {
      "needs_background": "light"
     },
     "output_type": "display_data"
    }
   ],
   "source": [
    "#barplot (wagon) ater outlier\n",
    "plt.figure(figsize=(15,6))\n",
    "sns.barplot(x='Category',y='Price',data=df)"
   ]
  },
  {
   "cell_type": "code",
   "execution_count": 105,
   "metadata": {},
   "outputs": [
    {
     "data": {
      "text/plain": [
       "<matplotlib.axes._subplots.AxesSubplot at 0x23ba29fc588>"
      ]
     },
     "execution_count": 105,
     "metadata": {},
     "output_type": "execute_result"
    },
    {
     "data": {
      "image/png": "[encoded data removed]",
      "text/plain": [
       "<Figure size 1080x432 with 1 Axes>"
      ]
     },
     "metadata": {
      "needs_background": "light"
     },
     "output_type": "display_data"
    }
   ],
   "source": [
    "#after outlier removal for universal\n",
    "plt.figure(figsize=(15,6))\n",
    "sns.scatterplot(x='Category',y='Price',data=df)"
   ]
  },
  {
   "cell_type": "code",
   "execution_count": 106,
   "metadata": {},
   "outputs": [
    {
     "data": {
      "text/plain": [
       "<matplotlib.axes._subplots.AxesSubplot at 0x23ba257a088>"
      ]
     },
     "execution_count": 106,
     "metadata": {},
     "output_type": "execute_result"
    },
    {
     "data": {
      "image/png": "[encoded data removed]",
      "text/plain": [
       "<Figure size 1080x432 with 1 Axes>"
      ]
     },
     "metadata": {
      "needs_background": "light"
     },
     "output_type": "display_data"
    }
   ],
   "source": [
    "#barplot for universal after outlier removal\n",
    "plt.figure(figsize=(15,6))\n",
    "sns.barplot(x='Category',y='Price',data=df)"
   ]
  },
  {
   "cell_type": "code",
   "execution_count": 107,
   "metadata": {},
   "outputs": [
    {
     "data": {
      "text/html": [
       "<div>\n",
       "<style scoped>\n",
       "    .dataframe tbody tr th:only-of-type {\n",
       "        vertical-align: middle;\n",
       "    }\n",
       "\n",
       "    .dataframe tbody tr th {\n",
       "        vertical-align: top;\n",
       "    }\n",
       "\n",
       "    .dataframe thead th {\n",
       "        text-align: right;\n",
       "    }\n",
       "</style>\n",
       "<table border=\"1\" class=\"dataframe\">\n",
       "  <thead>\n",
       "    <tr style=\"text-align: right;\">\n",
       "      <th></th>\n",
       "      <th>Price</th>\n",
       "      <th>Category</th>\n",
       "    </tr>\n",
       "  </thead>\n",
       "  <tbody>\n",
       "    <tr>\n",
       "      <th>8541</th>\n",
       "      <td>872946</td>\n",
       "      <td>Universal</td>\n",
       "    </tr>\n",
       "    <tr>\n",
       "      <th>1225</th>\n",
       "      <td>627220</td>\n",
       "      <td>Jeep</td>\n",
       "    </tr>\n",
       "    <tr>\n",
       "      <th>5008</th>\n",
       "      <td>308906</td>\n",
       "      <td>Coupe</td>\n",
       "    </tr>\n",
       "    <tr>\n",
       "      <th>14839</th>\n",
       "      <td>297930</td>\n",
       "      <td>Jeep</td>\n",
       "    </tr>\n",
       "    <tr>\n",
       "      <th>9367</th>\n",
       "      <td>297930</td>\n",
       "      <td>Coupe</td>\n",
       "    </tr>\n",
       "    <tr>\n",
       "      <th>...</th>\n",
       "      <td>...</td>\n",
       "      <td>...</td>\n",
       "    </tr>\n",
       "    <tr>\n",
       "      <th>221</th>\n",
       "      <td>3</td>\n",
       "      <td>Sedan</td>\n",
       "    </tr>\n",
       "    <tr>\n",
       "      <th>7276</th>\n",
       "      <td>3</td>\n",
       "      <td>Jeep</td>\n",
       "    </tr>\n",
       "    <tr>\n",
       "      <th>17596</th>\n",
       "      <td>3</td>\n",
       "      <td>Sedan</td>\n",
       "    </tr>\n",
       "    <tr>\n",
       "      <th>7815</th>\n",
       "      <td>1</td>\n",
       "      <td>Sedan</td>\n",
       "    </tr>\n",
       "    <tr>\n",
       "      <th>16992</th>\n",
       "      <td>1</td>\n",
       "      <td>Hatchback</td>\n",
       "    </tr>\n",
       "  </tbody>\n",
       "</table>\n",
       "<p>19215 rows × 2 columns</p>\n",
       "</div>"
      ],
      "text/plain": [
       "        Price   Category\n",
       "8541   872946  Universal\n",
       "1225   627220       Jeep\n",
       "5008   308906      Coupe\n",
       "14839  297930       Jeep\n",
       "9367   297930      Coupe\n",
       "...       ...        ...\n",
       "221         3      Sedan\n",
       "7276        3       Jeep\n",
       "17596       3      Sedan\n",
       "7815        1      Sedan\n",
       "16992       1  Hatchback\n",
       "\n",
       "[19215 rows x 2 columns]"
      ]
     },
     "execution_count": 107,
     "metadata": {},
     "output_type": "execute_result"
    }
   ],
   "source": [
    "#handling outlier for jeep\n",
    "df[['Price','Category']].sort_values('Price',ascending=False)"
   ]
  },
  {
   "cell_type": "code",
   "execution_count": 108,
   "metadata": {},
   "outputs": [
    {
     "data": {
      "text/plain": [
       "<matplotlib.axes._subplots.AxesSubplot at 0x23ba25fa888>"
      ]
     },
     "execution_count": 108,
     "metadata": {},
     "output_type": "execute_result"
    },
    {
     "data": {
      "image/png": "[encoded data removed]",
      "text/plain": [
       "<Figure size 1080x432 with 1 Axes>"
      ]
     },
     "metadata": {
      "needs_background": "light"
     },
     "output_type": "display_data"
    }
   ],
   "source": [
    "#removing outlier\n",
    "df=df[df['Price']<627220]\n",
    "plt.figure(figsize=(15,6))\n",
    "sns.scatterplot(x='Category',y='Price',data=df)"
   ]
  },
  {
   "cell_type": "code",
   "execution_count": 109,
   "metadata": {},
   "outputs": [
    {
     "data": {
      "text/plain": [
       "<matplotlib.axes._subplots.AxesSubplot at 0x23ba209c288>"
      ]
     },
     "execution_count": 109,
     "metadata": {},
     "output_type": "execute_result"
    },
    {
     "data": {
      "image/png": "[encoded data removed]",
      "text/plain": [
       "<Figure size 432x288 with 1 Axes>"
      ]
     },
     "metadata": {
      "needs_background": "light"
     },
     "output_type": "display_data"
    }
   ],
   "source": [
    "#distplot for price\n",
    "df=df[df['Price']<100000]\n",
    "sns.distplot(df['Price'])"
   ]
  },
  {
   "cell_type": "code",
   "execution_count": 110,
   "metadata": {},
   "outputs": [
    {
     "data": {
      "text/plain": [
       "(19103, 20)"
      ]
     },
     "execution_count": 110,
     "metadata": {},
     "output_type": "execute_result"
    }
   ],
   "source": [
    "df.shape"
   ]
  },
  {
   "cell_type": "code",
   "execution_count": 111,
   "metadata": {},
   "outputs": [
    {
     "data": {
      "text/plain": [
       "<matplotlib.axes._subplots.AxesSubplot at 0x23ba1f60bc8>"
      ]
     },
     "execution_count": 111,
     "metadata": {},
     "output_type": "execute_result"
    },
    {
     "data": {
      "image/png": "[encoded data removed]",
      "text/plain": [
       "<Figure size 432x288 with 1 Axes>"
      ]
     },
     "metadata": {
      "needs_background": "light"
     },
     "output_type": "display_data"
    }
   ],
   "source": [
    "#boxplot\n",
    "sns.boxplot(df['Price'])"
   ]
  },
  {
   "cell_type": "code",
   "execution_count": 112,
   "metadata": {},
   "outputs": [
    {
     "data": {
      "text/plain": [
       "<matplotlib.axes._subplots.AxesSubplot at 0x23ba29f5c88>"
      ]
     },
     "execution_count": 112,
     "metadata": {},
     "output_type": "execute_result"
    },
    {
     "data": {
      "image/png": "[encoded data removed]",
      "text/plain": [
       "<Figure size 1080x432 with 1 Axes>"
      ]
     },
     "metadata": {
      "needs_background": "light"
     },
     "output_type": "display_data"
    }
   ],
   "source": [
    "#gearbox type\n",
    "plt.figure(figsize=(15,6))\n",
    "sns.scatterplot(x='Gear box type',y='Price',data=df)"
   ]
  },
  {
   "cell_type": "code",
   "execution_count": 113,
   "metadata": {},
   "outputs": [
    {
     "data": {
      "text/plain": [
       "<matplotlib.axes._subplots.AxesSubplot at 0x23ba2e24ac8>"
      ]
     },
     "execution_count": 113,
     "metadata": {},
     "output_type": "execute_result"
    },
    {
     "data": {
      "image/png": "[encoded data removed]",
      "text/plain": [
       "<Figure size 1080x432 with 1 Axes>"
      ]
     },
     "metadata": {
      "needs_background": "light"
     },
     "output_type": "display_data"
    }
   ],
   "source": [
    "#fuel type\n",
    "plt.figure(figsize=(15,6))\n",
    "sns.scatterplot(x='Fuel type',y='Price',data=df)"
   ]
  },
  {
   "cell_type": "code",
   "execution_count": 114,
   "metadata": {},
   "outputs": [
    {
     "data": {
      "text/plain": [
       "<matplotlib.axes._subplots.AxesSubplot at 0x23ba2efbf48>"
      ]
     },
     "execution_count": 114,
     "metadata": {},
     "output_type": "execute_result"
    },
    {
     "data": {
      "image/png": "[encoded data removed]",
      "text/plain": [
       "<Figure size 1080x432 with 1 Axes>"
      ]
     },
     "metadata": {
      "needs_background": "light"
     },
     "output_type": "display_data"
    }
   ],
   "source": [
    "#barplot fuel type\n",
    "plt.figure(figsize=(15,6))\n",
    "sns.barplot(x='Fuel type',y='Price',data=df)"
   ]
  },
  {
   "cell_type": "code",
   "execution_count": 115,
   "metadata": {},
   "outputs": [
    {
     "data": {
      "text/plain": [
       "<matplotlib.axes._subplots.AxesSubplot at 0x23ba3299d08>"
      ]
     },
     "execution_count": 115,
     "metadata": {},
     "output_type": "execute_result"
    },
    {
     "data": {
      "image/png": "[encoded data removed]",
      "text/plain": [
       "<Figure size 720x432 with 1 Axes>"
      ]
     },
     "metadata": {
      "needs_background": "light"
     },
     "output_type": "display_data"
    }
   ],
   "source": [
    "#leather interior\n",
    "plt.figure(figsize=(10,6))\n",
    "sns.barplot(x='Leather interior',y='Price',data=df)"
   ]
  },
  {
   "cell_type": "code",
   "execution_count": 116,
   "metadata": {},
   "outputs": [
    {
     "data": {
      "text/plain": [
       "<matplotlib.axes._subplots.AxesSubplot at 0x23ba32a0348>"
      ]
     },
     "execution_count": 116,
     "metadata": {},
     "output_type": "execute_result"
    },
    {
     "data": {
      "image/png": "[encoded data removed]",
      "text/plain": [
       "<Figure size 720x432 with 1 Axes>"
      ]
     },
     "metadata": {
      "needs_background": "light"
     },
     "output_type": "display_data"
    }
   ],
   "source": [
    "#after mapping\n",
    "plt.figure(figsize=(10,6))\n",
    "sns.barplot(x='Doors',y='Price',data=df)"
   ]
  },
  {
   "cell_type": "code",
   "execution_count": 117,
   "metadata": {},
   "outputs": [
    {
     "data": {
      "text/plain": [
       "<matplotlib.axes._subplots.AxesSubplot at 0x23ba2f6f3c8>"
      ]
     },
     "execution_count": 117,
     "metadata": {},
     "output_type": "execute_result"
    },
    {
     "data": {
      "image/png": "[encoded data removed]",
      "text/plain": [
       "<Figure size 432x288 with 1 Axes>"
      ]
     },
     "metadata": {
      "needs_background": "light"
     },
     "output_type": "display_data"
    }
   ],
   "source": [
    "#wheels\n",
    "sns.barplot(x='Wheel',y='Price',data=df)"
   ]
  },
  {
   "cell_type": "code",
   "execution_count": 118,
   "metadata": {},
   "outputs": [
    {
     "data": {
      "text/plain": [
       "<matplotlib.axes._subplots.AxesSubplot at 0x23ba2fdc848>"
      ]
     },
     "execution_count": 118,
     "metadata": {},
     "output_type": "execute_result"
    },
    {
     "data": {
      "image/png": "[encoded data removed]",
      "text/plain": [
       "<Figure size 432x288 with 1 Axes>"
      ]
     },
     "metadata": {
      "needs_background": "light"
     },
     "output_type": "display_data"
    }
   ],
   "source": [
    "#scatter plot of wheels\n",
    "sns.scatterplot(x='Wheel',y='Price',data=df)"
   ]
  },
  {
   "cell_type": "code",
   "execution_count": 119,
   "metadata": {},
   "outputs": [
    {
     "data": {
      "text/plain": [
       "<matplotlib.axes._subplots.AxesSubplot at 0x23ba2ee4bc8>"
      ]
     },
     "execution_count": 119,
     "metadata": {},
     "output_type": "execute_result"
    },
    {
     "data": {
      "image/png": "[encoded data removed]",
      "text/plain": [
       "<Figure size 1080x432 with 1 Axes>"
      ]
     },
     "metadata": {
      "needs_background": "light"
     },
     "output_type": "display_data"
    }
   ],
   "source": [
    "#color\n",
    "plt.figure(figsize=(15,6))\n",
    "sns.barplot(x='Color',y='Price',data=df)"
   ]
  },
  {
   "cell_type": "code",
   "execution_count": 120,
   "metadata": {},
   "outputs": [
    {
     "data": {
      "text/plain": [
       "<matplotlib.axes._subplots.AxesSubplot at 0x23ba4eacac8>"
      ]
     },
     "execution_count": 120,
     "metadata": {},
     "output_type": "execute_result"
    },
    {
     "data": {
      "image/png": "[encoded data removed]",
      "text/plain": [
       "<Figure size 1080x432 with 1 Axes>"
      ]
     },
     "metadata": {
      "needs_background": "light"
     },
     "output_type": "display_data"
    }
   ],
   "source": [
    "#scatter plot for color\n",
    "plt.figure(figsize=(15,6))\n",
    "sns.scatterplot(x='Color',y='Price',data=df)"
   ]
  },
  {
   "cell_type": "code",
   "execution_count": 121,
   "metadata": {},
   "outputs": [
    {
     "data": {
      "text/plain": [
       "<matplotlib.axes._subplots.AxesSubplot at 0x23ba4f1fc08>"
      ]
     },
     "execution_count": 121,
     "metadata": {},
     "output_type": "execute_result"
    },
    {
     "data": {
      "image/png": "[encoded data removed]",
      "text/plain": [
       "<Figure size 432x288 with 1 Axes>"
      ]
     },
     "metadata": {
      "needs_background": "light"
     },
     "output_type": "display_data"
    }
   ],
   "source": [
    "#cylienders\n",
    "sns.scatterplot(x='Cylinders',y='Price',data=df)"
   ]
  },
  {
   "cell_type": "code",
   "execution_count": 122,
   "metadata": {},
   "outputs": [
    {
     "data": {
      "text/plain": [
       "<matplotlib.axes._subplots.AxesSubplot at 0x23ba4f98c08>"
      ]
     },
     "execution_count": 122,
     "metadata": {},
     "output_type": "execute_result"
    },
    {
     "data": {
      "image/png": "[encoded data removed]",
      "text/plain": [
       "<Figure size 720x432 with 1 Axes>"
      ]
     },
     "metadata": {
      "needs_background": "light"
     },
     "output_type": "display_data"
    }
   ],
   "source": [
    "#barplot for cyliender\n",
    "plt.figure(figsize=(10,6))\n",
    "sns.barplot(x='Cylinders',y='Price',data=df)"
   ]
  },
  {
   "cell_type": "code",
   "execution_count": 123,
   "metadata": {},
   "outputs": [
    {
     "data": {
      "text/plain": [
       "<seaborn.axisgrid.FacetGrid at 0x23ba58d3308>"
      ]
     },
     "execution_count": 123,
     "metadata": {},
     "output_type": "execute_result"
    },
    {
     "data": {
      "image/png": "[encoded data removed]",
      "text/plain": [
       "<Figure size 360x360 with 1 Axes>"
      ]
     },
     "metadata": {
      "needs_background": "light"
     },
     "output_type": "display_data"
    }
   ],
   "source": [
    "#Mileage\n",
    "sns.lmplot(x='Price',y='Mileage',data=df)"
   ]
  },
  {
   "cell_type": "code",
   "execution_count": 124,
   "metadata": {},
   "outputs": [],
   "source": [
    "#removing outlier for mileage\n",
    "df=df[df['Mileage']<2147483647]"
   ]
  },
  {
   "cell_type": "code",
   "execution_count": 125,
   "metadata": {},
   "outputs": [
    {
     "data": {
      "text/plain": [
       "(19096, 20)"
      ]
     },
     "execution_count": 125,
     "metadata": {},
     "output_type": "execute_result"
    }
   ],
   "source": [
    "df.shape"
   ]
  },
  {
   "cell_type": "code",
   "execution_count": 126,
   "metadata": {},
   "outputs": [
    {
     "data": {
      "text/html": [
       "<div>\n",
       "<style scoped>\n",
       "    .dataframe tbody tr th:only-of-type {\n",
       "        vertical-align: middle;\n",
       "    }\n",
       "\n",
       "    .dataframe tbody tr th {\n",
       "        vertical-align: top;\n",
       "    }\n",
       "\n",
       "    .dataframe thead th {\n",
       "        text-align: right;\n",
       "    }\n",
       "</style>\n",
       "<table border=\"1\" class=\"dataframe\">\n",
       "  <thead>\n",
       "    <tr style=\"text-align: right;\">\n",
       "      <th></th>\n",
       "      <th>ID</th>\n",
       "      <th>Price</th>\n",
       "      <th>Levy</th>\n",
       "      <th>Manufacturer</th>\n",
       "      <th>Model</th>\n",
       "      <th>Prod. year</th>\n",
       "      <th>Category</th>\n",
       "      <th>Leather interior</th>\n",
       "      <th>Fuel type</th>\n",
       "      <th>Engine volume</th>\n",
       "      <th>Mileage</th>\n",
       "      <th>Cylinders</th>\n",
       "      <th>Gear box type</th>\n",
       "      <th>Drive wheels</th>\n",
       "      <th>Doors</th>\n",
       "      <th>Wheel</th>\n",
       "      <th>Color</th>\n",
       "      <th>Airbags</th>\n",
       "      <th>Engine volume num</th>\n",
       "      <th>turbo</th>\n",
       "    </tr>\n",
       "  </thead>\n",
       "  <tbody>\n",
       "    <tr>\n",
       "      <th>11</th>\n",
       "      <td>45814819</td>\n",
       "      <td>8781</td>\n",
       "      <td>790.660000</td>\n",
       "      <td>FORD</td>\n",
       "      <td>Transit</td>\n",
       "      <td>1999</td>\n",
       "      <td>Microbus</td>\n",
       "      <td>No</td>\n",
       "      <td>CNG</td>\n",
       "      <td>4</td>\n",
       "      <td>0</td>\n",
       "      <td>8.0</td>\n",
       "      <td>Manual</td>\n",
       "      <td>Rear</td>\n",
       "      <td>2</td>\n",
       "      <td>Left wheel</td>\n",
       "      <td>Blue</td>\n",
       "      <td>0</td>\n",
       "      <td>4.0</td>\n",
       "      <td>0</td>\n",
       "    </tr>\n",
       "    <tr>\n",
       "      <th>24</th>\n",
       "      <td>45813492</td>\n",
       "      <td>4704</td>\n",
       "      <td>1124.923077</td>\n",
       "      <td>OPEL</td>\n",
       "      <td>Vectra</td>\n",
       "      <td>1995</td>\n",
       "      <td>Sedan</td>\n",
       "      <td>No</td>\n",
       "      <td>Petrol</td>\n",
       "      <td>1.8</td>\n",
       "      <td>0</td>\n",
       "      <td>4.0</td>\n",
       "      <td>Automatic</td>\n",
       "      <td>Front</td>\n",
       "      <td>4</td>\n",
       "      <td>Left wheel</td>\n",
       "      <td>Green</td>\n",
       "      <td>4</td>\n",
       "      <td>1.8</td>\n",
       "      <td>0</td>\n",
       "    </tr>\n",
       "    <tr>\n",
       "      <th>26</th>\n",
       "      <td>45759112</td>\n",
       "      <td>549</td>\n",
       "      <td>2455.000000</td>\n",
       "      <td>LEXUS</td>\n",
       "      <td>GX 470</td>\n",
       "      <td>2008</td>\n",
       "      <td>Jeep</td>\n",
       "      <td>Yes</td>\n",
       "      <td>Petrol</td>\n",
       "      <td>4.7</td>\n",
       "      <td>0</td>\n",
       "      <td>8.0</td>\n",
       "      <td>Automatic</td>\n",
       "      <td>4x4</td>\n",
       "      <td>4</td>\n",
       "      <td>Left wheel</td>\n",
       "      <td>White</td>\n",
       "      <td>0</td>\n",
       "      <td>4.7</td>\n",
       "      <td>0</td>\n",
       "    </tr>\n",
       "    <tr>\n",
       "      <th>83</th>\n",
       "      <td>45765301</td>\n",
       "      <td>8154</td>\n",
       "      <td>1119.000000</td>\n",
       "      <td>HONDA</td>\n",
       "      <td>Cr-v</td>\n",
       "      <td>1998</td>\n",
       "      <td>Jeep</td>\n",
       "      <td>No</td>\n",
       "      <td>Petrol</td>\n",
       "      <td>2</td>\n",
       "      <td>0</td>\n",
       "      <td>4.0</td>\n",
       "      <td>Automatic</td>\n",
       "      <td>4x4</td>\n",
       "      <td>4</td>\n",
       "      <td>Right-hand drive</td>\n",
       "      <td>White</td>\n",
       "      <td>2</td>\n",
       "      <td>2.0</td>\n",
       "      <td>0</td>\n",
       "    </tr>\n",
       "    <tr>\n",
       "      <th>97</th>\n",
       "      <td>45749534</td>\n",
       "      <td>4234</td>\n",
       "      <td>751.419355</td>\n",
       "      <td>HONDA</td>\n",
       "      <td>Civic</td>\n",
       "      <td>1997</td>\n",
       "      <td>Hatchback</td>\n",
       "      <td>Yes</td>\n",
       "      <td>Petrol</td>\n",
       "      <td>1.4</td>\n",
       "      <td>0</td>\n",
       "      <td>4.0</td>\n",
       "      <td>Manual</td>\n",
       "      <td>Front</td>\n",
       "      <td>2</td>\n",
       "      <td>Left wheel</td>\n",
       "      <td>Blue</td>\n",
       "      <td>6</td>\n",
       "      <td>1.4</td>\n",
       "      <td>0</td>\n",
       "    </tr>\n",
       "    <tr>\n",
       "      <th>...</th>\n",
       "      <td>...</td>\n",
       "      <td>...</td>\n",
       "      <td>...</td>\n",
       "      <td>...</td>\n",
       "      <td>...</td>\n",
       "      <td>...</td>\n",
       "      <td>...</td>\n",
       "      <td>...</td>\n",
       "      <td>...</td>\n",
       "      <td>...</td>\n",
       "      <td>...</td>\n",
       "      <td>...</td>\n",
       "      <td>...</td>\n",
       "      <td>...</td>\n",
       "      <td>...</td>\n",
       "      <td>...</td>\n",
       "      <td>...</td>\n",
       "      <td>...</td>\n",
       "      <td>...</td>\n",
       "      <td>...</td>\n",
       "    </tr>\n",
       "    <tr>\n",
       "      <th>19064</th>\n",
       "      <td>45791823</td>\n",
       "      <td>2900</td>\n",
       "      <td>921.378240</td>\n",
       "      <td>BMW</td>\n",
       "      <td>320</td>\n",
       "      <td>1994</td>\n",
       "      <td>Sedan</td>\n",
       "      <td>Yes</td>\n",
       "      <td>Petrol</td>\n",
       "      <td>2</td>\n",
       "      <td>0</td>\n",
       "      <td>6.0</td>\n",
       "      <td>Manual</td>\n",
       "      <td>Rear</td>\n",
       "      <td>4</td>\n",
       "      <td>Left wheel</td>\n",
       "      <td>Green</td>\n",
       "      <td>2</td>\n",
       "      <td>2.0</td>\n",
       "      <td>0</td>\n",
       "    </tr>\n",
       "    <tr>\n",
       "      <th>19088</th>\n",
       "      <td>45782030</td>\n",
       "      <td>2200</td>\n",
       "      <td>1247.500000</td>\n",
       "      <td>PEUGEOT</td>\n",
       "      <td>406</td>\n",
       "      <td>2001</td>\n",
       "      <td>Sedan</td>\n",
       "      <td>No</td>\n",
       "      <td>Petrol</td>\n",
       "      <td>2</td>\n",
       "      <td>0</td>\n",
       "      <td>4.0</td>\n",
       "      <td>Manual</td>\n",
       "      <td>Front</td>\n",
       "      <td>4</td>\n",
       "      <td>Left wheel</td>\n",
       "      <td>White</td>\n",
       "      <td>2</td>\n",
       "      <td>2.0</td>\n",
       "      <td>0</td>\n",
       "    </tr>\n",
       "    <tr>\n",
       "      <th>19103</th>\n",
       "      <td>45748748</td>\n",
       "      <td>30</td>\n",
       "      <td>843.000000</td>\n",
       "      <td>NISSAN</td>\n",
       "      <td>Tiida</td>\n",
       "      <td>2006</td>\n",
       "      <td>Hatchback</td>\n",
       "      <td>No</td>\n",
       "      <td>Petrol</td>\n",
       "      <td>1.5</td>\n",
       "      <td>0</td>\n",
       "      <td>4.0</td>\n",
       "      <td>Automatic</td>\n",
       "      <td>Front</td>\n",
       "      <td>4</td>\n",
       "      <td>Right-hand drive</td>\n",
       "      <td>Black</td>\n",
       "      <td>4</td>\n",
       "      <td>1.5</td>\n",
       "      <td>0</td>\n",
       "    </tr>\n",
       "    <tr>\n",
       "      <th>19218</th>\n",
       "      <td>45748699</td>\n",
       "      <td>30</td>\n",
       "      <td>843.000000</td>\n",
       "      <td>NISSAN</td>\n",
       "      <td>Note</td>\n",
       "      <td>2006</td>\n",
       "      <td>Hatchback</td>\n",
       "      <td>No</td>\n",
       "      <td>Petrol</td>\n",
       "      <td>1.3</td>\n",
       "      <td>0</td>\n",
       "      <td>4.0</td>\n",
       "      <td>Automatic</td>\n",
       "      <td>Front</td>\n",
       "      <td>4</td>\n",
       "      <td>Right-hand drive</td>\n",
       "      <td>Green</td>\n",
       "      <td>9</td>\n",
       "      <td>1.3</td>\n",
       "      <td>0</td>\n",
       "    </tr>\n",
       "    <tr>\n",
       "      <th>19223</th>\n",
       "      <td>44571028</td>\n",
       "      <td>8781</td>\n",
       "      <td>790.660000</td>\n",
       "      <td>DODGE</td>\n",
       "      <td>Caliber</td>\n",
       "      <td>2008</td>\n",
       "      <td>Hatchback</td>\n",
       "      <td>No</td>\n",
       "      <td>Petrol</td>\n",
       "      <td>2.4</td>\n",
       "      <td>0</td>\n",
       "      <td>4.0</td>\n",
       "      <td>Automatic</td>\n",
       "      <td>Front</td>\n",
       "      <td>4</td>\n",
       "      <td>Left wheel</td>\n",
       "      <td>Blue</td>\n",
       "      <td>4</td>\n",
       "      <td>2.4</td>\n",
       "      <td>0</td>\n",
       "    </tr>\n",
       "  </tbody>\n",
       "</table>\n",
       "<p>716 rows × 20 columns</p>\n",
       "</div>"
      ],
      "text/plain": [
       "             ID  Price         Levy Manufacturer    Model  Prod. year  \\\n",
       "11     45814819   8781   790.660000         FORD  Transit        1999   \n",
       "24     45813492   4704  1124.923077         OPEL   Vectra        1995   \n",
       "26     45759112    549  2455.000000        LEXUS   GX 470        2008   \n",
       "83     45765301   8154  1119.000000        HONDA     Cr-v        1998   \n",
       "97     45749534   4234   751.419355        HONDA    Civic        1997   \n",
       "...         ...    ...          ...          ...      ...         ...   \n",
       "19064  45791823   2900   921.378240          BMW      320        1994   \n",
       "19088  45782030   2200  1247.500000      PEUGEOT      406        2001   \n",
       "19103  45748748     30   843.000000       NISSAN    Tiida        2006   \n",
       "19218  45748699     30   843.000000       NISSAN     Note        2006   \n",
       "19223  44571028   8781   790.660000        DODGE  Caliber        2008   \n",
       "\n",
       "        Category Leather interior Fuel type Engine volume  Mileage  Cylinders  \\\n",
       "11      Microbus               No       CNG             4        0        8.0   \n",
       "24         Sedan               No    Petrol           1.8        0        4.0   \n",
       "26          Jeep              Yes    Petrol           4.7        0        8.0   \n",
       "83          Jeep               No    Petrol             2        0        4.0   \n",
       "97     Hatchback              Yes    Petrol           1.4        0        4.0   \n",
       "...          ...              ...       ...           ...      ...        ...   \n",
       "19064      Sedan              Yes    Petrol             2        0        6.0   \n",
       "19088      Sedan               No    Petrol             2        0        4.0   \n",
       "19103  Hatchback               No    Petrol           1.5        0        4.0   \n",
       "19218  Hatchback               No    Petrol           1.3        0        4.0   \n",
       "19223  Hatchback               No    Petrol           2.4        0        4.0   \n",
       "\n",
       "      Gear box type Drive wheels  Doors             Wheel  Color  Airbags  \\\n",
       "11           Manual         Rear      2        Left wheel   Blue        0   \n",
       "24        Automatic        Front      4        Left wheel  Green        4   \n",
       "26        Automatic          4x4      4        Left wheel  White        0   \n",
       "83        Automatic          4x4      4  Right-hand drive  White        2   \n",
       "97           Manual        Front      2        Left wheel   Blue        6   \n",
       "...             ...          ...    ...               ...    ...      ...   \n",
       "19064        Manual         Rear      4        Left wheel  Green        2   \n",
       "19088        Manual        Front      4        Left wheel  White        2   \n",
       "19103     Automatic        Front      4  Right-hand drive  Black        4   \n",
       "19218     Automatic        Front      4  Right-hand drive  Green        9   \n",
       "19223     Automatic        Front      4        Left wheel   Blue        4   \n",
       "\n",
       "       Engine volume num  turbo  \n",
       "11                   4.0      0  \n",
       "24                   1.8      0  \n",
       "26                   4.7      0  \n",
       "83                   2.0      0  \n",
       "97                   1.4      0  \n",
       "...                  ...    ...  \n",
       "19064                2.0      0  \n",
       "19088                2.0      0  \n",
       "19103                1.5      0  \n",
       "19218                1.3      0  \n",
       "19223                2.4      0  \n",
       "\n",
       "[716 rows x 20 columns]"
      ]
     },
     "execution_count": 126,
     "metadata": {},
     "output_type": "execute_result"
    }
   ],
   "source": [
    "df[df['Mileage']==0]"
   ]
  },
  {
   "cell_type": "code",
   "execution_count": 127,
   "metadata": {},
   "outputs": [
    {
     "data": {
      "text/plain": [
       "ID                   0\n",
       "Price                0\n",
       "Levy                 0\n",
       "Manufacturer         0\n",
       "Model                0\n",
       "Prod. year           0\n",
       "Category             0\n",
       "Leather interior     0\n",
       "Fuel type            0\n",
       "Engine volume        0\n",
       "Mileage              0\n",
       "Cylinders            0\n",
       "Gear box type        0\n",
       "Drive wheels         0\n",
       "Doors                0\n",
       "Wheel                0\n",
       "Color                0\n",
       "Airbags              0\n",
       "Engine volume num    0\n",
       "turbo                0\n",
       "dtype: int64"
      ]
     },
     "execution_count": 127,
     "metadata": {},
     "output_type": "execute_result"
    }
   ],
   "source": [
    "df.isnull().sum()"
   ]
  },
  {
   "cell_type": "code",
   "execution_count": 128,
   "metadata": {},
   "outputs": [
    {
     "data": {
      "text/plain": [
       "count    1.909600e+04\n",
       "mean     7.558620e+05\n",
       "std      2.591215e+07\n",
       "min      0.000000e+00\n",
       "25%      7.092200e+04\n",
       "50%      1.266900e+05\n",
       "75%      1.890260e+05\n",
       "max      1.777778e+09\n",
       "Name: Mileage, dtype: float64"
      ]
     },
     "execution_count": 128,
     "metadata": {},
     "output_type": "execute_result"
    }
   ],
   "source": [
    "#stats for Mileage\n",
    "df[\"Mileage\"].describe()"
   ]
  },
  {
   "cell_type": "code",
   "execution_count": 129,
   "metadata": {},
   "outputs": [
    {
     "data": {
      "text/plain": [
       "<seaborn.axisgrid.FacetGrid at 0x23ba54fb448>"
      ]
     },
     "execution_count": 129,
     "metadata": {},
     "output_type": "execute_result"
    },
    {
     "data": {
      "image/png": "[encoded data removed]",
      "text/plain": [
       "<Figure size 360x360 with 1 Axes>"
      ]
     },
     "metadata": {
      "needs_background": "light"
     },
     "output_type": "display_data"
    }
   ],
   "source": [
    "#looking for outliers in Mileage\n",
    "sns.lmplot(x='Price',y='Mileage',data=df)"
   ]
  },
  {
   "cell_type": "code",
   "execution_count": 130,
   "metadata": {},
   "outputs": [
    {
     "data": {
      "text/plain": [
       "<matplotlib.axes._subplots.AxesSubplot at 0x23ba54df0c8>"
      ]
     },
     "execution_count": 130,
     "metadata": {},
     "output_type": "execute_result"
    },
    {
     "data": {
      "image/png": "[encoded data removed]",
      "text/plain": [
       "<Figure size 432x288 with 1 Axes>"
      ]
     },
     "metadata": {
      "needs_background": "light"
     },
     "output_type": "display_data"
    }
   ],
   "source": [
    "#distplot for mileage\n",
    "sns.distplot(df['Mileage'])"
   ]
  },
  {
   "cell_type": "code",
   "execution_count": 131,
   "metadata": {},
   "outputs": [],
   "source": [
    "#removal f outliers\n",
    "df=df[df['Mileage']<400000]"
   ]
  },
  {
   "cell_type": "code",
   "execution_count": 132,
   "metadata": {},
   "outputs": [
    {
     "data": {
      "text/plain": [
       "<matplotlib.axes._subplots.AxesSubplot at 0x23ba42d5208>"
      ]
     },
     "execution_count": 132,
     "metadata": {},
     "output_type": "execute_result"
    },
    {
     "data": {
      "image/png": "[encoded data removed]",
      "text/plain": [
       "<Figure size 432x288 with 1 Axes>"
      ]
     },
     "metadata": {
      "needs_background": "light"
     },
     "output_type": "display_data"
    }
   ],
   "source": [
    "#distplot for mileage\n",
    "sns.distplot(df['Mileage'])"
   ]
  },
  {
   "cell_type": "code",
   "execution_count": 133,
   "metadata": {},
   "outputs": [
    {
     "data": {
      "text/plain": [
       "<matplotlib.axes._subplots.AxesSubplot at 0x23ba54d1488>"
      ]
     },
     "execution_count": 133,
     "metadata": {},
     "output_type": "execute_result"
    },
    {
     "data": {
      "image/png": "[encoded data removed]",
      "text/plain": [
       "<Figure size 432x288 with 1 Axes>"
      ]
     },
     "metadata": {
      "needs_background": "light"
     },
     "output_type": "display_data"
    }
   ],
   "source": [
    "#boxplot for mileage\n",
    "sns.boxplot(df['Mileage'])"
   ]
  },
  {
   "cell_type": "code",
   "execution_count": 134,
   "metadata": {},
   "outputs": [],
   "source": [
    "#filling null values for Mileage\n",
    "df['Mileage']=df['Mileage'].fillna(df['Mileage'].median())"
   ]
  },
  {
   "cell_type": "code",
   "execution_count": 135,
   "metadata": {},
   "outputs": [],
   "source": [
    "#Manufacturer \n",
    "#setting values to other whose value count is less than 1000\n",
    "man=set(i for i in df['Manufacturer'])\n",
    "other=[]\n",
    "for i in man:\n",
    "    if df['Manufacturer'].value_counts()[i]<100:\n",
    "        other.append(i)\n",
    "df['Manufacturer']=df['Manufacturer'].apply(lambda x:'OTHER' if df['Manufacturer'].value_counts()[x]<100 else x)"
   ]
  },
  {
   "cell_type": "code",
   "execution_count": 136,
   "metadata": {},
   "outputs": [
    {
     "data": {
      "text/plain": [
       "TOYOTA           3558\n",
       "HYUNDAI          3537\n",
       "MERCEDES-BENZ    1989\n",
       "FORD             1086\n",
       "CHEVROLET        1067\n",
       "BMW              1015\n",
       "HONDA             971\n",
       "LEXUS             970\n",
       "OTHER             861\n",
       "NISSAN            654\n",
       "VOLKSWAGEN        572\n",
       "SSANGYONG         441\n",
       "KIA               418\n",
       "OPEL              376\n",
       "MITSUBISHI        282\n",
       "SUBARU            270\n",
       "AUDI              240\n",
       "MAZDA             181\n",
       "JEEP              136\n",
       "Name: Manufacturer, dtype: int64"
      ]
     },
     "execution_count": 136,
     "metadata": {},
     "output_type": "execute_result"
    }
   ],
   "source": [
    "df['Manufacturer'].value_counts()"
   ]
  },
  {
   "cell_type": "code",
   "execution_count": 137,
   "metadata": {},
   "outputs": [
    {
     "data": {
      "text/plain": [
       "<matplotlib.axes._subplots.AxesSubplot at 0x23ba6914808>"
      ]
     },
     "execution_count": 137,
     "metadata": {},
     "output_type": "execute_result"
    },
    {
     "data": {
      "image/png": "[encoded data removed]",
      "text/plain": [
       "<Figure size 720x432 with 2 Axes>"
      ]
     },
     "metadata": {
      "needs_background": "light"
     },
     "output_type": "display_data"
    }
   ],
   "source": [
    "#checking coorelation\n",
    "plt.figure(figsize=(10,6))\n",
    "sns.heatmap(df.corr(),annot=True)"
   ]
  },
  {
   "cell_type": "code",
   "execution_count": 138,
   "metadata": {},
   "outputs": [
    {
     "data": {
      "text/plain": [
       "2012    2126\n",
       "2014    2032\n",
       "2013    1944\n",
       "2011    1589\n",
       "2010    1460\n",
       "2015    1428\n",
       "2016    1412\n",
       "2017     942\n",
       "2008     716\n",
       "2009     581\n",
       "2018     476\n",
       "2007     455\n",
       "2005     390\n",
       "2003     358\n",
       "2004     350\n",
       "2006     311\n",
       "2019     293\n",
       "2002     291\n",
       "2000     274\n",
       "2001     243\n",
       "1998     202\n",
       "1999     196\n",
       "1997     135\n",
       "1996     104\n",
       "1995      93\n",
       "2020      45\n",
       "1994      40\n",
       "1992      29\n",
       "1993      21\n",
       "1990      17\n",
       "1988      11\n",
       "1991       8\n",
       "1989       6\n",
       "1986       6\n",
       "1984       5\n",
       "1987       5\n",
       "1953       4\n",
       "1939       3\n",
       "1983       3\n",
       "1985       3\n",
       "1977       2\n",
       "1964       2\n",
       "1980       2\n",
       "1974       2\n",
       "1965       2\n",
       "1947       1\n",
       "1981       1\n",
       "1982       1\n",
       "1957       1\n",
       "1978       1\n",
       "1973       1\n",
       "1976       1\n",
       "Name: Prod. year, dtype: int64"
      ]
     },
     "execution_count": 138,
     "metadata": {},
     "output_type": "execute_result"
    }
   ],
   "source": [
    "#production year\n",
    "df['Prod. year'].value_counts()"
   ]
  },
  {
   "cell_type": "code",
   "execution_count": 139,
   "metadata": {},
   "outputs": [],
   "source": [
    "#making new feature out of prod. year\n",
    "#old <2012 ,recent >2012\n",
    "df['Model_variant']=df['Prod. year'].apply(lambda x:'recent' if (x>=2014 and x<=2020) else 'old')"
   ]
  },
  {
   "cell_type": "code",
   "execution_count": 162,
   "metadata": {},
   "outputs": [
    {
     "data": {
      "text/plain": [
       "Prius           1022\n",
       "Camry            929\n",
       "Elantra          916\n",
       "Sonata           859\n",
       "E 350            530\n",
       "                ... \n",
       "CLK 320 AMG        1\n",
       "Sprinter 311       1\n",
       "Cooper r50         1\n",
       "508                1\n",
       "Continental        1\n",
       "Name: Model, Length: 1539, dtype: int64"
      ]
     },
     "execution_count": 162,
     "metadata": {},
     "output_type": "execute_result"
    }
   ],
   "source": [
    "df.Model.value_counts()"
   ]
  },
  {
   "cell_type": "code",
   "execution_count": 163,
   "metadata": {},
   "outputs": [],
   "source": [
    "#Manufacturer \n",
    "#setting values to other whose value count is less than 1000\n",
    "man=set(i for i in df['Model'])\n",
    "other=[]\n",
    "for i in man:\n",
    "    if df['Model'].value_counts()[i]<10:\n",
    "        other.append(i)\n",
    "df['Model']=df['Model'].apply(lambda x:'OTHER' if df['Model'].value_counts()[x]<10 else x)"
   ]
  },
  {
   "cell_type": "code",
   "execution_count": 164,
   "metadata": {},
   "outputs": [
    {
     "data": {
      "text/plain": [
       "OTHER      2427\n",
       "Prius      1022\n",
       "Camry       929\n",
       "Elantra     916\n",
       "Sonata      859\n",
       "           ... \n",
       "IS 200       10\n",
       "Ipsum        10\n",
       "Swift        10\n",
       "Cerato       10\n",
       "Touareg      10\n",
       "Name: Model, Length: 211, dtype: int64"
      ]
     },
     "execution_count": 164,
     "metadata": {},
     "output_type": "execute_result"
    }
   ],
   "source": [
    "df.Model.value_counts()"
   ]
  },
  {
   "cell_type": "code",
   "execution_count": 140,
   "metadata": {},
   "outputs": [
    {
     "name": "stdout",
     "output_type": "stream",
     "text": [
      "<class 'pandas.core.frame.DataFrame'>\n",
      "Int64Index: 18624 entries, 0 to 19236\n",
      "Data columns (total 21 columns):\n",
      " #   Column             Non-Null Count  Dtype  \n",
      "---  ------             --------------  -----  \n",
      " 0   ID                 18624 non-null  int64  \n",
      " 1   Price              18624 non-null  int64  \n",
      " 2   Levy               18624 non-null  float64\n",
      " 3   Manufacturer       18624 non-null  object \n",
      " 4   Model              18624 non-null  object \n",
      " 5   Prod. year         18624 non-null  int64  \n",
      " 6   Category           18624 non-null  object \n",
      " 7   Leather interior   18624 non-null  object \n",
      " 8   Fuel type          18624 non-null  object \n",
      " 9   Engine volume      18624 non-null  object \n",
      " 10  Mileage            18624 non-null  int64  \n",
      " 11  Cylinders          18624 non-null  float64\n",
      " 12  Gear box type      18624 non-null  object \n",
      " 13  Drive wheels       18624 non-null  object \n",
      " 14  Doors              18624 non-null  int32  \n",
      " 15  Wheel              18624 non-null  object \n",
      " 16  Color              18624 non-null  object \n",
      " 17  Airbags            18624 non-null  int64  \n",
      " 18  Engine volume num  18624 non-null  float64\n",
      " 19  turbo              18624 non-null  uint8  \n",
      " 20  Model_variant      18624 non-null  object \n",
      "dtypes: float64(3), int32(1), int64(5), object(11), uint8(1)\n",
      "memory usage: 2.9+ MB\n"
     ]
    }
   ],
   "source": [
    "df.info()"
   ]
  },
  {
   "cell_type": "code",
   "execution_count": 141,
   "metadata": {},
   "outputs": [],
   "source": [
    "import category_encoders as ce"
   ]
  },
  {
   "cell_type": "code",
   "execution_count": 144,
   "metadata": {},
   "outputs": [],
   "source": [
    "cols = [' Model','Manufacturer',\"Category\",'Leather interior',\"Fuel type\",\"Gear box type\",\"Drive wheels\",'Wheel','Color','Model_variant']"
   ]
  },
  {
   "cell_type": "code",
   "execution_count": 165,
   "metadata": {},
   "outputs": [],
   "source": [
    "encoder = ce.TargetEncoder(cols = 'Model')\n",
    "df['Model']=encoder.fit_transform(df['Model'],df[\"Levy\"])"
   ]
  },
  {
   "cell_type": "code",
   "execution_count": 166,
   "metadata": {},
   "outputs": [],
   "source": [
    "encoder = ce.TargetEncoder(cols = 'Manufacturer')\n",
    "df['Manufacturer']=encoder.fit_transform(df['Manufacturer'],df[\"Levy\"])"
   ]
  },
  {
   "cell_type": "code",
   "execution_count": 167,
   "metadata": {},
   "outputs": [],
   "source": [
    "encoder = ce.TargetEncoder(cols = 'Category')\n",
    "df['Category']=encoder.fit_transform(df['Category'],df[\"Levy\"])"
   ]
  },
  {
   "cell_type": "code",
   "execution_count": 168,
   "metadata": {},
   "outputs": [],
   "source": [
    "encoder = ce.TargetEncoder(cols = 'Leather interior')\n",
    "df['Leather interior']=encoder.fit_transform(df['Leather interior'],df[\"Levy\"])"
   ]
  },
  {
   "cell_type": "code",
   "execution_count": 169,
   "metadata": {},
   "outputs": [],
   "source": [
    "encoder = ce.TargetEncoder(cols = 'Fuel type')\n",
    "df['Fuel type']=encoder.fit_transform(df['Fuel type'],df[\"Levy\"])"
   ]
  },
  {
   "cell_type": "code",
   "execution_count": 170,
   "metadata": {},
   "outputs": [],
   "source": [
    "encoder = ce.TargetEncoder(cols = 'Gear box type')\n",
    "df['Gear box type']=encoder.fit_transform(df['Gear box type'],df[\"Levy\"])"
   ]
  },
  {
   "cell_type": "code",
   "execution_count": 171,
   "metadata": {},
   "outputs": [],
   "source": [
    "encoder = ce.TargetEncoder(cols = 'Drive wheels')\n",
    "df['Drive wheels']=encoder.fit_transform(df['Drive wheels'],df[\"Levy\"])"
   ]
  },
  {
   "cell_type": "code",
   "execution_count": 172,
   "metadata": {},
   "outputs": [],
   "source": [
    "encoder = ce.TargetEncoder(cols = 'Wheel')\n",
    "df['Wheel']=encoder.fit_transform(df['Wheel'],df[\"Levy\"])"
   ]
  },
  {
   "cell_type": "code",
   "execution_count": 173,
   "metadata": {},
   "outputs": [],
   "source": [
    "encoder = ce.TargetEncoder(cols = 'Color')\n",
    "df['Color']=encoder.fit_transform(df['Color'],df[\"Levy\"])"
   ]
  },
  {
   "cell_type": "code",
   "execution_count": 174,
   "metadata": {},
   "outputs": [],
   "source": [
    "encoder = ce.TargetEncoder(cols = 'Model_variant')\n",
    "df['Model_variant']=encoder.fit_transform(df['Model_variant'],df[\"Levy\"])"
   ]
  },
  {
   "cell_type": "code",
   "execution_count": null,
   "metadata": {},
   "outputs": [],
   "source": []
  },
  {
   "cell_type": "code",
   "execution_count": null,
   "metadata": {},
   "outputs": [],
   "source": []
  },
  {
   "cell_type": "code",
   "execution_count": null,
   "metadata": {},
   "outputs": [],
   "source": []
  },
  {
   "cell_type": "code",
   "execution_count": 340,
   "metadata": {},
   "outputs": [
    {
     "data": {
      "text/plain": [
       "Model\n",
       "09-Mar      2\n",
       "100         2\n",
       "100 NX      1\n",
       "1000       17\n",
       "1111        1\n",
       "           ..\n",
       "iA isti     1\n",
       "kona        1\n",
       "macan       1\n",
       "tC          3\n",
       "xD          3\n",
       "Name: Levy, Length: 1539, dtype: int64"
      ]
     },
     "execution_count": 340,
     "metadata": {},
     "output_type": "execute_result"
    }
   ],
   "source": [
    "#df.groupby(['Model'])['Levy'].count()"
   ]
  },
  {
   "cell_type": "code",
   "execution_count": 341,
   "metadata": {},
   "outputs": [
    {
     "data": {
      "text/plain": [
       "Model\n",
       "09-Mar     1626.604167\n",
       "100        1103.500000\n",
       "100 NX      765.000000\n",
       "1000       1014.588235\n",
       "1111        921.378240\n",
       "              ...     \n",
       "iA isti    1093.238806\n",
       "kona        991.250000\n",
       "macan      1079.000000\n",
       "tC          942.305556\n",
       "xD          798.407971\n",
       "Name: Levy, Length: 1539, dtype: float64"
      ]
     },
     "execution_count": 341,
     "metadata": {},
     "output_type": "execute_result"
    }
   ],
   "source": [
    "#df.groupby(['Model'])['Levy'].mean()"
   ]
  },
  {
   "cell_type": "code",
   "execution_count": 342,
   "metadata": {},
   "outputs": [
    {
     "name": "stdout",
     "output_type": "stream",
     "text": [
      "             ID  Price         Levy   Manufacturer        Model  Prod. year  \\\n",
      "0      45654403  13328  1399.000000          LEXUS  1127.367251        2010   \n",
      "1      44731507  16621  1018.000000      CHEVROLET   872.940503        2011   \n",
      "2      45774419   8467   807.478261          HONDA   844.241314        2006   \n",
      "3      45769185   3607   862.000000           FORD   851.010060        2011   \n",
      "4      45809263  11726   446.000000          HONDA   844.241314        2014   \n",
      "...         ...    ...          ...            ...          ...         ...   \n",
      "19232  45798355   8467   807.478261  MERCEDES-BENZ  1075.177194        1999   \n",
      "19233  45778856  15681   831.000000        HYUNDAI   798.433042        2011   \n",
      "19234  45804997  26108   836.000000        HYUNDAI   791.921590        2010   \n",
      "19235  45793526   5331  1288.000000      CHEVROLET   956.516940        2007   \n",
      "19236  45813273    470   753.000000        HYUNDAI   798.433042        2012   \n",
      "\n",
      "        Category Leather interior Fuel type Engine volume  ...  Cylinders  \\\n",
      "0           Jeep              Yes    Hybrid           3.5  ...        6.0   \n",
      "1           Jeep               No    Petrol             3  ...        6.0   \n",
      "2      Hatchback               No    Petrol           1.3  ...        4.0   \n",
      "3           Jeep              Yes    Hybrid           2.5  ...        4.0   \n",
      "4      Hatchback              Yes    Petrol           1.3  ...        4.0   \n",
      "...          ...              ...       ...           ...  ...        ...   \n",
      "19232      Coupe              Yes       CNG     2.0 Turbo  ...        4.0   \n",
      "19233      Sedan              Yes    Petrol           2.4  ...        4.0   \n",
      "19234       Jeep              Yes    Diesel             2  ...        4.0   \n",
      "19235       Jeep              Yes    Diesel             2  ...        4.0   \n",
      "19236      Sedan              Yes    Hybrid           2.4  ...        4.0   \n",
      "\n",
      "       Gear box type Drive wheels Doors             Wheel   Color Airbags  \\\n",
      "0          Automatic          4x4     4        Left wheel  Silver      12   \n",
      "1          Tiptronic          4x4     4        Left wheel   Black       8   \n",
      "2           Variator        Front     4  Right-hand drive   Black       2   \n",
      "3          Automatic          4x4     4        Left wheel   White       0   \n",
      "4          Automatic        Front     4        Left wheel  Silver       4   \n",
      "...              ...          ...   ...               ...     ...     ...   \n",
      "19232         Manual         Rear     2        Left wheel  Silver       5   \n",
      "19233      Tiptronic        Front     4        Left wheel     Red       8   \n",
      "19234      Automatic        Front     4        Left wheel    Grey       4   \n",
      "19235      Automatic        Front     4        Left wheel   Black       4   \n",
      "19236      Automatic        Front     4        Left wheel   White      12   \n",
      "\n",
      "       Engine volume num  turbo  Model_variant  \n",
      "0                    3.5      0            old  \n",
      "1                    3.0      0            old  \n",
      "2                    1.3      0            old  \n",
      "3                    2.5      0            old  \n",
      "4                    1.3      0         recent  \n",
      "...                  ...    ...            ...  \n",
      "19232                2.0      1            old  \n",
      "19233                2.4      0            old  \n",
      "19234                2.0      0            old  \n",
      "19235                2.0      0            old  \n",
      "19236                2.4      0            old  \n",
      "\n",
      "[18624 rows x 21 columns]\n"
     ]
    }
   ],
   "source": [
    "#Mean_encoded_subject = df.groupby(['Model'])['Levy'].mean().to_dict()\n",
    "  \n",
    "#df['Model'] =  df['Model'].map(Mean_encoded_subject)\n",
    "  \n",
    "#print(df)"
   ]
  },
  {
   "cell_type": "code",
   "execution_count": 175,
   "metadata": {},
   "outputs": [
    {
     "data": {
      "text/html": [
       "<div>\n",
       "<style scoped>\n",
       "    .dataframe tbody tr th:only-of-type {\n",
       "        vertical-align: middle;\n",
       "    }\n",
       "\n",
       "    .dataframe tbody tr th {\n",
       "        vertical-align: top;\n",
       "    }\n",
       "\n",
       "    .dataframe thead th {\n",
       "        text-align: right;\n",
       "    }\n",
       "</style>\n",
       "<table border=\"1\" class=\"dataframe\">\n",
       "  <thead>\n",
       "    <tr style=\"text-align: right;\">\n",
       "      <th></th>\n",
       "      <th>Price</th>\n",
       "      <th>Levy</th>\n",
       "      <th>Manufacturer</th>\n",
       "      <th>Model</th>\n",
       "      <th>Prod. year</th>\n",
       "      <th>Category</th>\n",
       "      <th>Leather interior</th>\n",
       "      <th>Fuel type</th>\n",
       "      <th>Mileage</th>\n",
       "      <th>Cylinders</th>\n",
       "      <th>Gear box type</th>\n",
       "      <th>Drive wheels</th>\n",
       "      <th>Doors</th>\n",
       "      <th>Wheel</th>\n",
       "      <th>Color</th>\n",
       "      <th>Airbags</th>\n",
       "      <th>Engine volume num</th>\n",
       "      <th>turbo</th>\n",
       "      <th>Model_variant</th>\n",
       "    </tr>\n",
       "  </thead>\n",
       "  <tbody>\n",
       "    <tr>\n",
       "      <th>0</th>\n",
       "      <td>13328</td>\n",
       "      <td>0.350714</td>\n",
       "      <td>0.325595</td>\n",
       "      <td>0.282619</td>\n",
       "      <td>2010</td>\n",
       "      <td>0.253864</td>\n",
       "      <td>0.228325</td>\n",
       "      <td>0.192156</td>\n",
       "      <td>0.465122</td>\n",
       "      <td>0.375</td>\n",
       "      <td>0.226503</td>\n",
       "      <td>0.284141</td>\n",
       "      <td>0.8</td>\n",
       "      <td>0.226294</td>\n",
       "      <td>0.228835</td>\n",
       "      <td>0.7500</td>\n",
       "      <td>0.522388</td>\n",
       "      <td>0</td>\n",
       "      <td>0.235508</td>\n",
       "    </tr>\n",
       "    <tr>\n",
       "      <th>1</th>\n",
       "      <td>16621</td>\n",
       "      <td>0.255202</td>\n",
       "      <td>0.184267</td>\n",
       "      <td>0.218837</td>\n",
       "      <td>2011</td>\n",
       "      <td>0.253864</td>\n",
       "      <td>0.230846</td>\n",
       "      <td>0.239354</td>\n",
       "      <td>0.480113</td>\n",
       "      <td>0.375</td>\n",
       "      <td>0.228221</td>\n",
       "      <td>0.284141</td>\n",
       "      <td>0.8</td>\n",
       "      <td>0.226294</td>\n",
       "      <td>0.239345</td>\n",
       "      <td>0.5000</td>\n",
       "      <td>0.447761</td>\n",
       "      <td>0</td>\n",
       "      <td>0.235508</td>\n",
       "    </tr>\n",
       "    <tr>\n",
       "      <th>2</th>\n",
       "      <td>8467</td>\n",
       "      <td>0.202426</td>\n",
       "      <td>0.216303</td>\n",
       "      <td>0.211642</td>\n",
       "      <td>2006</td>\n",
       "      <td>0.195431</td>\n",
       "      <td>0.230846</td>\n",
       "      <td>0.239354</td>\n",
       "      <td>0.500118</td>\n",
       "      <td>0.250</td>\n",
       "      <td>0.218058</td>\n",
       "      <td>0.204944</td>\n",
       "      <td>0.8</td>\n",
       "      <td>0.261289</td>\n",
       "      <td>0.239345</td>\n",
       "      <td>0.1250</td>\n",
       "      <td>0.194030</td>\n",
       "      <td>0</td>\n",
       "      <td>0.235508</td>\n",
       "    </tr>\n",
       "    <tr>\n",
       "      <th>3</th>\n",
       "      <td>3607</td>\n",
       "      <td>0.216094</td>\n",
       "      <td>0.212757</td>\n",
       "      <td>0.213339</td>\n",
       "      <td>2011</td>\n",
       "      <td>0.253864</td>\n",
       "      <td>0.228325</td>\n",
       "      <td>0.192156</td>\n",
       "      <td>0.422514</td>\n",
       "      <td>0.250</td>\n",
       "      <td>0.226503</td>\n",
       "      <td>0.284141</td>\n",
       "      <td>0.8</td>\n",
       "      <td>0.226294</td>\n",
       "      <td>0.223137</td>\n",
       "      <td>0.0000</td>\n",
       "      <td>0.373134</td>\n",
       "      <td>0</td>\n",
       "      <td>0.235508</td>\n",
       "    </tr>\n",
       "    <tr>\n",
       "      <th>4</th>\n",
       "      <td>11726</td>\n",
       "      <td>0.111807</td>\n",
       "      <td>0.216303</td>\n",
       "      <td>0.211642</td>\n",
       "      <td>2014</td>\n",
       "      <td>0.195431</td>\n",
       "      <td>0.228325</td>\n",
       "      <td>0.239354</td>\n",
       "      <td>0.229807</td>\n",
       "      <td>0.250</td>\n",
       "      <td>0.226503</td>\n",
       "      <td>0.204944</td>\n",
       "      <td>0.8</td>\n",
       "      <td>0.226294</td>\n",
       "      <td>0.228835</td>\n",
       "      <td>0.2500</td>\n",
       "      <td>0.194030</td>\n",
       "      <td>0</td>\n",
       "      <td>0.217289</td>\n",
       "    </tr>\n",
       "    <tr>\n",
       "      <th>...</th>\n",
       "      <td>...</td>\n",
       "      <td>...</td>\n",
       "      <td>...</td>\n",
       "      <td>...</td>\n",
       "      <td>...</td>\n",
       "      <td>...</td>\n",
       "      <td>...</td>\n",
       "      <td>...</td>\n",
       "      <td>...</td>\n",
       "      <td>...</td>\n",
       "      <td>...</td>\n",
       "      <td>...</td>\n",
       "      <td>...</td>\n",
       "      <td>...</td>\n",
       "      <td>...</td>\n",
       "      <td>...</td>\n",
       "      <td>...</td>\n",
       "      <td>...</td>\n",
       "      <td>...</td>\n",
       "    </tr>\n",
       "    <tr>\n",
       "      <th>19232</th>\n",
       "      <td>8467</td>\n",
       "      <td>0.202426</td>\n",
       "      <td>0.278120</td>\n",
       "      <td>0.269499</td>\n",
       "      <td>1999</td>\n",
       "      <td>0.251987</td>\n",
       "      <td>0.228325</td>\n",
       "      <td>0.256051</td>\n",
       "      <td>0.750176</td>\n",
       "      <td>0.250</td>\n",
       "      <td>0.253455</td>\n",
       "      <td>0.267234</td>\n",
       "      <td>0.4</td>\n",
       "      <td>0.226294</td>\n",
       "      <td>0.228835</td>\n",
       "      <td>0.3125</td>\n",
       "      <td>0.298507</td>\n",
       "      <td>1</td>\n",
       "      <td>0.235508</td>\n",
       "    </tr>\n",
       "    <tr>\n",
       "      <th>19233</th>\n",
       "      <td>15681</td>\n",
       "      <td>0.208323</td>\n",
       "      <td>0.201690</td>\n",
       "      <td>0.200159</td>\n",
       "      <td>2011</td>\n",
       "      <td>0.218055</td>\n",
       "      <td>0.228325</td>\n",
       "      <td>0.239354</td>\n",
       "      <td>0.404095</td>\n",
       "      <td>0.250</td>\n",
       "      <td>0.228221</td>\n",
       "      <td>0.204944</td>\n",
       "      <td>0.8</td>\n",
       "      <td>0.226294</td>\n",
       "      <td>0.218959</td>\n",
       "      <td>0.5000</td>\n",
       "      <td>0.358209</td>\n",
       "      <td>0</td>\n",
       "      <td>0.235508</td>\n",
       "    </tr>\n",
       "    <tr>\n",
       "      <th>19234</th>\n",
       "      <td>26108</td>\n",
       "      <td>0.209576</td>\n",
       "      <td>0.201690</td>\n",
       "      <td>0.198526</td>\n",
       "      <td>2010</td>\n",
       "      <td>0.253864</td>\n",
       "      <td>0.228325</td>\n",
       "      <td>0.235918</td>\n",
       "      <td>0.290981</td>\n",
       "      <td>0.250</td>\n",
       "      <td>0.226503</td>\n",
       "      <td>0.204944</td>\n",
       "      <td>0.8</td>\n",
       "      <td>0.226294</td>\n",
       "      <td>0.222789</td>\n",
       "      <td>0.2500</td>\n",
       "      <td>0.298507</td>\n",
       "      <td>0</td>\n",
       "      <td>0.235508</td>\n",
       "    </tr>\n",
       "    <tr>\n",
       "      <th>19235</th>\n",
       "      <td>5331</td>\n",
       "      <td>0.322888</td>\n",
       "      <td>0.184267</td>\n",
       "      <td>0.239789</td>\n",
       "      <td>2007</td>\n",
       "      <td>0.253864</td>\n",
       "      <td>0.228325</td>\n",
       "      <td>0.235918</td>\n",
       "      <td>0.128175</td>\n",
       "      <td>0.250</td>\n",
       "      <td>0.226503</td>\n",
       "      <td>0.204944</td>\n",
       "      <td>0.8</td>\n",
       "      <td>0.226294</td>\n",
       "      <td>0.239345</td>\n",
       "      <td>0.2500</td>\n",
       "      <td>0.298507</td>\n",
       "      <td>0</td>\n",
       "      <td>0.235508</td>\n",
       "    </tr>\n",
       "    <tr>\n",
       "      <th>19236</th>\n",
       "      <td>470</td>\n",
       "      <td>0.188769</td>\n",
       "      <td>0.201690</td>\n",
       "      <td>0.200159</td>\n",
       "      <td>2012</td>\n",
       "      <td>0.218055</td>\n",
       "      <td>0.228325</td>\n",
       "      <td>0.192156</td>\n",
       "      <td>0.467417</td>\n",
       "      <td>0.250</td>\n",
       "      <td>0.226503</td>\n",
       "      <td>0.204944</td>\n",
       "      <td>0.8</td>\n",
       "      <td>0.226294</td>\n",
       "      <td>0.223137</td>\n",
       "      <td>0.7500</td>\n",
       "      <td>0.358209</td>\n",
       "      <td>0</td>\n",
       "      <td>0.235508</td>\n",
       "    </tr>\n",
       "  </tbody>\n",
       "</table>\n",
       "<p>18624 rows × 19 columns</p>\n",
       "</div>"
      ],
      "text/plain": [
       "       Price      Levy  Manufacturer     Model  Prod. year  Category  \\\n",
       "0      13328  0.350714      0.325595  0.282619        2010  0.253864   \n",
       "1      16621  0.255202      0.184267  0.218837        2011  0.253864   \n",
       "2       8467  0.202426      0.216303  0.211642        2006  0.195431   \n",
       "3       3607  0.216094      0.212757  0.213339        2011  0.253864   \n",
       "4      11726  0.111807      0.216303  0.211642        2014  0.195431   \n",
       "...      ...       ...           ...       ...         ...       ...   \n",
       "19232   8467  0.202426      0.278120  0.269499        1999  0.251987   \n",
       "19233  15681  0.208323      0.201690  0.200159        2011  0.218055   \n",
       "19234  26108  0.209576      0.201690  0.198526        2010  0.253864   \n",
       "19235   5331  0.322888      0.184267  0.239789        2007  0.253864   \n",
       "19236    470  0.188769      0.201690  0.200159        2012  0.218055   \n",
       "\n",
       "       Leather interior  Fuel type   Mileage  Cylinders  Gear box type  \\\n",
       "0              0.228325   0.192156  0.465122      0.375       0.226503   \n",
       "1              0.230846   0.239354  0.480113      0.375       0.228221   \n",
       "2              0.230846   0.239354  0.500118      0.250       0.218058   \n",
       "3              0.228325   0.192156  0.422514      0.250       0.226503   \n",
       "4              0.228325   0.239354  0.229807      0.250       0.226503   \n",
       "...                 ...        ...       ...        ...            ...   \n",
       "19232          0.228325   0.256051  0.750176      0.250       0.253455   \n",
       "19233          0.228325   0.239354  0.404095      0.250       0.228221   \n",
       "19234          0.228325   0.235918  0.290981      0.250       0.226503   \n",
       "19235          0.228325   0.235918  0.128175      0.250       0.226503   \n",
       "19236          0.228325   0.192156  0.467417      0.250       0.226503   \n",
       "\n",
       "       Drive wheels  Doors     Wheel     Color  Airbags  Engine volume num  \\\n",
       "0          0.284141    0.8  0.226294  0.228835   0.7500           0.522388   \n",
       "1          0.284141    0.8  0.226294  0.239345   0.5000           0.447761   \n",
       "2          0.204944    0.8  0.261289  0.239345   0.1250           0.194030   \n",
       "3          0.284141    0.8  0.226294  0.223137   0.0000           0.373134   \n",
       "4          0.204944    0.8  0.226294  0.228835   0.2500           0.194030   \n",
       "...             ...    ...       ...       ...      ...                ...   \n",
       "19232      0.267234    0.4  0.226294  0.228835   0.3125           0.298507   \n",
       "19233      0.204944    0.8  0.226294  0.218959   0.5000           0.358209   \n",
       "19234      0.204944    0.8  0.226294  0.222789   0.2500           0.298507   \n",
       "19235      0.204944    0.8  0.226294  0.239345   0.2500           0.298507   \n",
       "19236      0.204944    0.8  0.226294  0.223137   0.7500           0.358209   \n",
       "\n",
       "       turbo  Model_variant  \n",
       "0          0       0.235508  \n",
       "1          0       0.235508  \n",
       "2          0       0.235508  \n",
       "3          0       0.235508  \n",
       "4          0       0.217289  \n",
       "...      ...            ...  \n",
       "19232      1       0.235508  \n",
       "19233      0       0.235508  \n",
       "19234      0       0.235508  \n",
       "19235      0       0.235508  \n",
       "19236      0       0.235508  \n",
       "\n",
       "[18624 rows x 19 columns]"
      ]
     },
     "execution_count": 175,
     "metadata": {},
     "output_type": "execute_result"
    }
   ],
   "source": [
    "df"
   ]
  },
  {
   "cell_type": "code",
   "execution_count": null,
   "metadata": {},
   "outputs": [],
   "source": []
  },
  {
   "cell_type": "code",
   "execution_count": null,
   "metadata": {},
   "outputs": [],
   "source": []
  },
  {
   "cell_type": "code",
   "execution_count": null,
   "metadata": {},
   "outputs": [],
   "source": []
  },
  {
   "cell_type": "code",
   "execution_count": null,
   "metadata": {},
   "outputs": [],
   "source": []
  },
  {
   "cell_type": "code",
   "execution_count": null,
   "metadata": {},
   "outputs": [],
   "source": []
  },
  {
   "cell_type": "code",
   "execution_count": 176,
   "metadata": {},
   "outputs": [
    {
     "ename": "KeyError",
     "evalue": "\"['Engine volume'] not found in axis\"",
     "output_type": "error",
     "traceback": [
      "\u001b[1;31m---------------------------------------------------------------------------\u001b[0m",
      "\u001b[1;31mKeyError\u001b[0m                                  Traceback (most recent call last)",
      "\u001b[1;32m<ipython-input-176-11ad47e28a9c>\u001b[0m in \u001b[0;36m<module>\u001b[1;34m\u001b[0m\n\u001b[0;32m      1\u001b[0m \u001b[1;31m#dropping production collumn\u001b[0m\u001b[1;33m\u001b[0m\u001b[1;33m\u001b[0m\u001b[1;33m\u001b[0m\u001b[0m\n\u001b[0;32m      2\u001b[0m \u001b[1;31m#df=df.drop('Prod. year',axis=1)\u001b[0m\u001b[1;33m\u001b[0m\u001b[1;33m\u001b[0m\u001b[1;33m\u001b[0m\u001b[0m\n\u001b[1;32m----> 3\u001b[1;33m \u001b[0mdf\u001b[0m\u001b[1;33m=\u001b[0m\u001b[0mdf\u001b[0m\u001b[1;33m.\u001b[0m\u001b[0mdrop\u001b[0m\u001b[1;33m(\u001b[0m\u001b[1;34m'Engine volume'\u001b[0m\u001b[1;33m,\u001b[0m\u001b[0maxis\u001b[0m\u001b[1;33m=\u001b[0m\u001b[1;36m1\u001b[0m\u001b[1;33m)\u001b[0m\u001b[1;33m\u001b[0m\u001b[1;33m\u001b[0m\u001b[0m\n\u001b[0m\u001b[0;32m      4\u001b[0m \u001b[0mdf\u001b[0m\u001b[1;33m=\u001b[0m\u001b[0mdf\u001b[0m\u001b[1;33m.\u001b[0m\u001b[0mdrop\u001b[0m\u001b[1;33m(\u001b[0m\u001b[1;34m'ID'\u001b[0m\u001b[1;33m,\u001b[0m\u001b[0maxis\u001b[0m\u001b[1;33m=\u001b[0m\u001b[1;36m1\u001b[0m\u001b[1;33m)\u001b[0m\u001b[1;33m\u001b[0m\u001b[1;33m\u001b[0m\u001b[0m\n",
      "\u001b[1;32m~\\AppData\\Roaming\\Python\\Python37\\site-packages\\pandas\\core\\frame.py\u001b[0m in \u001b[0;36mdrop\u001b[1;34m(self, labels, axis, index, columns, level, inplace, errors)\u001b[0m\n\u001b[0;32m   4313\u001b[0m             \u001b[0mlevel\u001b[0m\u001b[1;33m=\u001b[0m\u001b[0mlevel\u001b[0m\u001b[1;33m,\u001b[0m\u001b[1;33m\u001b[0m\u001b[1;33m\u001b[0m\u001b[0m\n\u001b[0;32m   4314\u001b[0m             \u001b[0minplace\u001b[0m\u001b[1;33m=\u001b[0m\u001b[0minplace\u001b[0m\u001b[1;33m,\u001b[0m\u001b[1;33m\u001b[0m\u001b[1;33m\u001b[0m\u001b[0m\n\u001b[1;32m-> 4315\u001b[1;33m             \u001b[0merrors\u001b[0m\u001b[1;33m=\u001b[0m\u001b[0merrors\u001b[0m\u001b[1;33m,\u001b[0m\u001b[1;33m\u001b[0m\u001b[1;33m\u001b[0m\u001b[0m\n\u001b[0m\u001b[0;32m   4316\u001b[0m         )\n\u001b[0;32m   4317\u001b[0m \u001b[1;33m\u001b[0m\u001b[0m\n",
      "\u001b[1;32m~\\AppData\\Roaming\\Python\\Python37\\site-packages\\pandas\\core\\generic.py\u001b[0m in \u001b[0;36mdrop\u001b[1;34m(self, labels, axis, index, columns, level, inplace, errors)\u001b[0m\n\u001b[0;32m   4151\u001b[0m         \u001b[1;32mfor\u001b[0m \u001b[0maxis\u001b[0m\u001b[1;33m,\u001b[0m \u001b[0mlabels\u001b[0m \u001b[1;32min\u001b[0m \u001b[0maxes\u001b[0m\u001b[1;33m.\u001b[0m\u001b[0mitems\u001b[0m\u001b[1;33m(\u001b[0m\u001b[1;33m)\u001b[0m\u001b[1;33m:\u001b[0m\u001b[1;33m\u001b[0m\u001b[1;33m\u001b[0m\u001b[0m\n\u001b[0;32m   4152\u001b[0m             \u001b[1;32mif\u001b[0m \u001b[0mlabels\u001b[0m \u001b[1;32mis\u001b[0m \u001b[1;32mnot\u001b[0m \u001b[1;32mNone\u001b[0m\u001b[1;33m:\u001b[0m\u001b[1;33m\u001b[0m\u001b[1;33m\u001b[0m\u001b[0m\n\u001b[1;32m-> 4153\u001b[1;33m                 \u001b[0mobj\u001b[0m \u001b[1;33m=\u001b[0m \u001b[0mobj\u001b[0m\u001b[1;33m.\u001b[0m\u001b[0m_drop_axis\u001b[0m\u001b[1;33m(\u001b[0m\u001b[0mlabels\u001b[0m\u001b[1;33m,\u001b[0m \u001b[0maxis\u001b[0m\u001b[1;33m,\u001b[0m \u001b[0mlevel\u001b[0m\u001b[1;33m=\u001b[0m\u001b[0mlevel\u001b[0m\u001b[1;33m,\u001b[0m \u001b[0merrors\u001b[0m\u001b[1;33m=\u001b[0m\u001b[0merrors\u001b[0m\u001b[1;33m)\u001b[0m\u001b[1;33m\u001b[0m\u001b[1;33m\u001b[0m\u001b[0m\n\u001b[0m\u001b[0;32m   4154\u001b[0m \u001b[1;33m\u001b[0m\u001b[0m\n\u001b[0;32m   4155\u001b[0m         \u001b[1;32mif\u001b[0m \u001b[0minplace\u001b[0m\u001b[1;33m:\u001b[0m\u001b[1;33m\u001b[0m\u001b[1;33m\u001b[0m\u001b[0m\n",
      "\u001b[1;32m~\\AppData\\Roaming\\Python\\Python37\\site-packages\\pandas\\core\\generic.py\u001b[0m in \u001b[0;36m_drop_axis\u001b[1;34m(self, labels, axis, level, errors)\u001b[0m\n\u001b[0;32m   4186\u001b[0m                 \u001b[0mnew_axis\u001b[0m \u001b[1;33m=\u001b[0m \u001b[0maxis\u001b[0m\u001b[1;33m.\u001b[0m\u001b[0mdrop\u001b[0m\u001b[1;33m(\u001b[0m\u001b[0mlabels\u001b[0m\u001b[1;33m,\u001b[0m \u001b[0mlevel\u001b[0m\u001b[1;33m=\u001b[0m\u001b[0mlevel\u001b[0m\u001b[1;33m,\u001b[0m \u001b[0merrors\u001b[0m\u001b[1;33m=\u001b[0m\u001b[0merrors\u001b[0m\u001b[1;33m)\u001b[0m\u001b[1;33m\u001b[0m\u001b[1;33m\u001b[0m\u001b[0m\n\u001b[0;32m   4187\u001b[0m             \u001b[1;32melse\u001b[0m\u001b[1;33m:\u001b[0m\u001b[1;33m\u001b[0m\u001b[1;33m\u001b[0m\u001b[0m\n\u001b[1;32m-> 4188\u001b[1;33m                 \u001b[0mnew_axis\u001b[0m \u001b[1;33m=\u001b[0m \u001b[0maxis\u001b[0m\u001b[1;33m.\u001b[0m\u001b[0mdrop\u001b[0m\u001b[1;33m(\u001b[0m\u001b[0mlabels\u001b[0m\u001b[1;33m,\u001b[0m \u001b[0merrors\u001b[0m\u001b[1;33m=\u001b[0m\u001b[0merrors\u001b[0m\u001b[1;33m)\u001b[0m\u001b[1;33m\u001b[0m\u001b[1;33m\u001b[0m\u001b[0m\n\u001b[0m\u001b[0;32m   4189\u001b[0m             \u001b[0mresult\u001b[0m \u001b[1;33m=\u001b[0m \u001b[0mself\u001b[0m\u001b[1;33m.\u001b[0m\u001b[0mreindex\u001b[0m\u001b[1;33m(\u001b[0m\u001b[1;33m**\u001b[0m\u001b[1;33m{\u001b[0m\u001b[0maxis_name\u001b[0m\u001b[1;33m:\u001b[0m \u001b[0mnew_axis\u001b[0m\u001b[1;33m}\u001b[0m\u001b[1;33m)\u001b[0m\u001b[1;33m\u001b[0m\u001b[1;33m\u001b[0m\u001b[0m\n\u001b[0;32m   4190\u001b[0m \u001b[1;33m\u001b[0m\u001b[0m\n",
      "\u001b[1;32m~\\AppData\\Roaming\\Python\\Python37\\site-packages\\pandas\\core\\indexes\\base.py\u001b[0m in \u001b[0;36mdrop\u001b[1;34m(self, labels, errors)\u001b[0m\n\u001b[0;32m   5589\u001b[0m         \u001b[1;32mif\u001b[0m \u001b[0mmask\u001b[0m\u001b[1;33m.\u001b[0m\u001b[0many\u001b[0m\u001b[1;33m(\u001b[0m\u001b[1;33m)\u001b[0m\u001b[1;33m:\u001b[0m\u001b[1;33m\u001b[0m\u001b[1;33m\u001b[0m\u001b[0m\n\u001b[0;32m   5590\u001b[0m             \u001b[1;32mif\u001b[0m \u001b[0merrors\u001b[0m \u001b[1;33m!=\u001b[0m \u001b[1;34m\"ignore\"\u001b[0m\u001b[1;33m:\u001b[0m\u001b[1;33m\u001b[0m\u001b[1;33m\u001b[0m\u001b[0m\n\u001b[1;32m-> 5591\u001b[1;33m                 \u001b[1;32mraise\u001b[0m \u001b[0mKeyError\u001b[0m\u001b[1;33m(\u001b[0m\u001b[1;34mf\"{labels[mask]} not found in axis\"\u001b[0m\u001b[1;33m)\u001b[0m\u001b[1;33m\u001b[0m\u001b[1;33m\u001b[0m\u001b[0m\n\u001b[0m\u001b[0;32m   5592\u001b[0m             \u001b[0mindexer\u001b[0m \u001b[1;33m=\u001b[0m \u001b[0mindexer\u001b[0m\u001b[1;33m[\u001b[0m\u001b[1;33m~\u001b[0m\u001b[0mmask\u001b[0m\u001b[1;33m]\u001b[0m\u001b[1;33m\u001b[0m\u001b[1;33m\u001b[0m\u001b[0m\n\u001b[0;32m   5593\u001b[0m         \u001b[1;32mreturn\u001b[0m \u001b[0mself\u001b[0m\u001b[1;33m.\u001b[0m\u001b[0mdelete\u001b[0m\u001b[1;33m(\u001b[0m\u001b[0mindexer\u001b[0m\u001b[1;33m)\u001b[0m\u001b[1;33m\u001b[0m\u001b[1;33m\u001b[0m\u001b[0m\n",
      "\u001b[1;31mKeyError\u001b[0m: \"['Engine volume'] not found in axis\""
     ]
    }
   ],
   "source": [
    "#dropping production collumn\n",
    "#df=df.drop('Prod. year',axis=1)\n",
    "df=df.drop('Engine volume',axis=1)\n",
    "df=df.drop('ID',axis=1)"
   ]
  },
  {
   "cell_type": "code",
   "execution_count": 177,
   "metadata": {},
   "outputs": [
    {
     "data": {
      "text/html": [
       "<div>\n",
       "<style scoped>\n",
       "    .dataframe tbody tr th:only-of-type {\n",
       "        vertical-align: middle;\n",
       "    }\n",
       "\n",
       "    .dataframe tbody tr th {\n",
       "        vertical-align: top;\n",
       "    }\n",
       "\n",
       "    .dataframe thead th {\n",
       "        text-align: right;\n",
       "    }\n",
       "</style>\n",
       "<table border=\"1\" class=\"dataframe\">\n",
       "  <thead>\n",
       "    <tr style=\"text-align: right;\">\n",
       "      <th></th>\n",
       "      <th>Price</th>\n",
       "      <th>Levy</th>\n",
       "      <th>Manufacturer</th>\n",
       "      <th>Model</th>\n",
       "      <th>Prod. year</th>\n",
       "      <th>Category</th>\n",
       "      <th>Leather interior</th>\n",
       "      <th>Fuel type</th>\n",
       "      <th>Mileage</th>\n",
       "      <th>Cylinders</th>\n",
       "      <th>Gear box type</th>\n",
       "      <th>Drive wheels</th>\n",
       "      <th>Doors</th>\n",
       "      <th>Wheel</th>\n",
       "      <th>Color</th>\n",
       "      <th>Airbags</th>\n",
       "      <th>Engine volume num</th>\n",
       "      <th>turbo</th>\n",
       "      <th>Model_variant</th>\n",
       "    </tr>\n",
       "  </thead>\n",
       "  <tbody>\n",
       "    <tr>\n",
       "      <th>0</th>\n",
       "      <td>13328</td>\n",
       "      <td>0.350714</td>\n",
       "      <td>0.325595</td>\n",
       "      <td>0.282619</td>\n",
       "      <td>2010</td>\n",
       "      <td>0.253864</td>\n",
       "      <td>0.228325</td>\n",
       "      <td>0.192156</td>\n",
       "      <td>0.465122</td>\n",
       "      <td>0.375</td>\n",
       "      <td>0.226503</td>\n",
       "      <td>0.284141</td>\n",
       "      <td>0.8</td>\n",
       "      <td>0.226294</td>\n",
       "      <td>0.228835</td>\n",
       "      <td>0.7500</td>\n",
       "      <td>0.522388</td>\n",
       "      <td>0</td>\n",
       "      <td>0.235508</td>\n",
       "    </tr>\n",
       "    <tr>\n",
       "      <th>1</th>\n",
       "      <td>16621</td>\n",
       "      <td>0.255202</td>\n",
       "      <td>0.184267</td>\n",
       "      <td>0.218837</td>\n",
       "      <td>2011</td>\n",
       "      <td>0.253864</td>\n",
       "      <td>0.230846</td>\n",
       "      <td>0.239354</td>\n",
       "      <td>0.480113</td>\n",
       "      <td>0.375</td>\n",
       "      <td>0.228221</td>\n",
       "      <td>0.284141</td>\n",
       "      <td>0.8</td>\n",
       "      <td>0.226294</td>\n",
       "      <td>0.239345</td>\n",
       "      <td>0.5000</td>\n",
       "      <td>0.447761</td>\n",
       "      <td>0</td>\n",
       "      <td>0.235508</td>\n",
       "    </tr>\n",
       "    <tr>\n",
       "      <th>2</th>\n",
       "      <td>8467</td>\n",
       "      <td>0.202426</td>\n",
       "      <td>0.216303</td>\n",
       "      <td>0.211642</td>\n",
       "      <td>2006</td>\n",
       "      <td>0.195431</td>\n",
       "      <td>0.230846</td>\n",
       "      <td>0.239354</td>\n",
       "      <td>0.500118</td>\n",
       "      <td>0.250</td>\n",
       "      <td>0.218058</td>\n",
       "      <td>0.204944</td>\n",
       "      <td>0.8</td>\n",
       "      <td>0.261289</td>\n",
       "      <td>0.239345</td>\n",
       "      <td>0.1250</td>\n",
       "      <td>0.194030</td>\n",
       "      <td>0</td>\n",
       "      <td>0.235508</td>\n",
       "    </tr>\n",
       "    <tr>\n",
       "      <th>3</th>\n",
       "      <td>3607</td>\n",
       "      <td>0.216094</td>\n",
       "      <td>0.212757</td>\n",
       "      <td>0.213339</td>\n",
       "      <td>2011</td>\n",
       "      <td>0.253864</td>\n",
       "      <td>0.228325</td>\n",
       "      <td>0.192156</td>\n",
       "      <td>0.422514</td>\n",
       "      <td>0.250</td>\n",
       "      <td>0.226503</td>\n",
       "      <td>0.284141</td>\n",
       "      <td>0.8</td>\n",
       "      <td>0.226294</td>\n",
       "      <td>0.223137</td>\n",
       "      <td>0.0000</td>\n",
       "      <td>0.373134</td>\n",
       "      <td>0</td>\n",
       "      <td>0.235508</td>\n",
       "    </tr>\n",
       "    <tr>\n",
       "      <th>4</th>\n",
       "      <td>11726</td>\n",
       "      <td>0.111807</td>\n",
       "      <td>0.216303</td>\n",
       "      <td>0.211642</td>\n",
       "      <td>2014</td>\n",
       "      <td>0.195431</td>\n",
       "      <td>0.228325</td>\n",
       "      <td>0.239354</td>\n",
       "      <td>0.229807</td>\n",
       "      <td>0.250</td>\n",
       "      <td>0.226503</td>\n",
       "      <td>0.204944</td>\n",
       "      <td>0.8</td>\n",
       "      <td>0.226294</td>\n",
       "      <td>0.228835</td>\n",
       "      <td>0.2500</td>\n",
       "      <td>0.194030</td>\n",
       "      <td>0</td>\n",
       "      <td>0.217289</td>\n",
       "    </tr>\n",
       "    <tr>\n",
       "      <th>...</th>\n",
       "      <td>...</td>\n",
       "      <td>...</td>\n",
       "      <td>...</td>\n",
       "      <td>...</td>\n",
       "      <td>...</td>\n",
       "      <td>...</td>\n",
       "      <td>...</td>\n",
       "      <td>...</td>\n",
       "      <td>...</td>\n",
       "      <td>...</td>\n",
       "      <td>...</td>\n",
       "      <td>...</td>\n",
       "      <td>...</td>\n",
       "      <td>...</td>\n",
       "      <td>...</td>\n",
       "      <td>...</td>\n",
       "      <td>...</td>\n",
       "      <td>...</td>\n",
       "      <td>...</td>\n",
       "    </tr>\n",
       "    <tr>\n",
       "      <th>19232</th>\n",
       "      <td>8467</td>\n",
       "      <td>0.202426</td>\n",
       "      <td>0.278120</td>\n",
       "      <td>0.269499</td>\n",
       "      <td>1999</td>\n",
       "      <td>0.251987</td>\n",
       "      <td>0.228325</td>\n",
       "      <td>0.256051</td>\n",
       "      <td>0.750176</td>\n",
       "      <td>0.250</td>\n",
       "      <td>0.253455</td>\n",
       "      <td>0.267234</td>\n",
       "      <td>0.4</td>\n",
       "      <td>0.226294</td>\n",
       "      <td>0.228835</td>\n",
       "      <td>0.3125</td>\n",
       "      <td>0.298507</td>\n",
       "      <td>1</td>\n",
       "      <td>0.235508</td>\n",
       "    </tr>\n",
       "    <tr>\n",
       "      <th>19233</th>\n",
       "      <td>15681</td>\n",
       "      <td>0.208323</td>\n",
       "      <td>0.201690</td>\n",
       "      <td>0.200159</td>\n",
       "      <td>2011</td>\n",
       "      <td>0.218055</td>\n",
       "      <td>0.228325</td>\n",
       "      <td>0.239354</td>\n",
       "      <td>0.404095</td>\n",
       "      <td>0.250</td>\n",
       "      <td>0.228221</td>\n",
       "      <td>0.204944</td>\n",
       "      <td>0.8</td>\n",
       "      <td>0.226294</td>\n",
       "      <td>0.218959</td>\n",
       "      <td>0.5000</td>\n",
       "      <td>0.358209</td>\n",
       "      <td>0</td>\n",
       "      <td>0.235508</td>\n",
       "    </tr>\n",
       "    <tr>\n",
       "      <th>19234</th>\n",
       "      <td>26108</td>\n",
       "      <td>0.209576</td>\n",
       "      <td>0.201690</td>\n",
       "      <td>0.198526</td>\n",
       "      <td>2010</td>\n",
       "      <td>0.253864</td>\n",
       "      <td>0.228325</td>\n",
       "      <td>0.235918</td>\n",
       "      <td>0.290981</td>\n",
       "      <td>0.250</td>\n",
       "      <td>0.226503</td>\n",
       "      <td>0.204944</td>\n",
       "      <td>0.8</td>\n",
       "      <td>0.226294</td>\n",
       "      <td>0.222789</td>\n",
       "      <td>0.2500</td>\n",
       "      <td>0.298507</td>\n",
       "      <td>0</td>\n",
       "      <td>0.235508</td>\n",
       "    </tr>\n",
       "    <tr>\n",
       "      <th>19235</th>\n",
       "      <td>5331</td>\n",
       "      <td>0.322888</td>\n",
       "      <td>0.184267</td>\n",
       "      <td>0.239789</td>\n",
       "      <td>2007</td>\n",
       "      <td>0.253864</td>\n",
       "      <td>0.228325</td>\n",
       "      <td>0.235918</td>\n",
       "      <td>0.128175</td>\n",
       "      <td>0.250</td>\n",
       "      <td>0.226503</td>\n",
       "      <td>0.204944</td>\n",
       "      <td>0.8</td>\n",
       "      <td>0.226294</td>\n",
       "      <td>0.239345</td>\n",
       "      <td>0.2500</td>\n",
       "      <td>0.298507</td>\n",
       "      <td>0</td>\n",
       "      <td>0.235508</td>\n",
       "    </tr>\n",
       "    <tr>\n",
       "      <th>19236</th>\n",
       "      <td>470</td>\n",
       "      <td>0.188769</td>\n",
       "      <td>0.201690</td>\n",
       "      <td>0.200159</td>\n",
       "      <td>2012</td>\n",
       "      <td>0.218055</td>\n",
       "      <td>0.228325</td>\n",
       "      <td>0.192156</td>\n",
       "      <td>0.467417</td>\n",
       "      <td>0.250</td>\n",
       "      <td>0.226503</td>\n",
       "      <td>0.204944</td>\n",
       "      <td>0.8</td>\n",
       "      <td>0.226294</td>\n",
       "      <td>0.223137</td>\n",
       "      <td>0.7500</td>\n",
       "      <td>0.358209</td>\n",
       "      <td>0</td>\n",
       "      <td>0.235508</td>\n",
       "    </tr>\n",
       "  </tbody>\n",
       "</table>\n",
       "<p>18624 rows × 19 columns</p>\n",
       "</div>"
      ],
      "text/plain": [
       "       Price      Levy  Manufacturer     Model  Prod. year  Category  \\\n",
       "0      13328  0.350714      0.325595  0.282619        2010  0.253864   \n",
       "1      16621  0.255202      0.184267  0.218837        2011  0.253864   \n",
       "2       8467  0.202426      0.216303  0.211642        2006  0.195431   \n",
       "3       3607  0.216094      0.212757  0.213339        2011  0.253864   \n",
       "4      11726  0.111807      0.216303  0.211642        2014  0.195431   \n",
       "...      ...       ...           ...       ...         ...       ...   \n",
       "19232   8467  0.202426      0.278120  0.269499        1999  0.251987   \n",
       "19233  15681  0.208323      0.201690  0.200159        2011  0.218055   \n",
       "19234  26108  0.209576      0.201690  0.198526        2010  0.253864   \n",
       "19235   5331  0.322888      0.184267  0.239789        2007  0.253864   \n",
       "19236    470  0.188769      0.201690  0.200159        2012  0.218055   \n",
       "\n",
       "       Leather interior  Fuel type   Mileage  Cylinders  Gear box type  \\\n",
       "0              0.228325   0.192156  0.465122      0.375       0.226503   \n",
       "1              0.230846   0.239354  0.480113      0.375       0.228221   \n",
       "2              0.230846   0.239354  0.500118      0.250       0.218058   \n",
       "3              0.228325   0.192156  0.422514      0.250       0.226503   \n",
       "4              0.228325   0.239354  0.229807      0.250       0.226503   \n",
       "...                 ...        ...       ...        ...            ...   \n",
       "19232          0.228325   0.256051  0.750176      0.250       0.253455   \n",
       "19233          0.228325   0.239354  0.404095      0.250       0.228221   \n",
       "19234          0.228325   0.235918  0.290981      0.250       0.226503   \n",
       "19235          0.228325   0.235918  0.128175      0.250       0.226503   \n",
       "19236          0.228325   0.192156  0.467417      0.250       0.226503   \n",
       "\n",
       "       Drive wheels  Doors     Wheel     Color  Airbags  Engine volume num  \\\n",
       "0          0.284141    0.8  0.226294  0.228835   0.7500           0.522388   \n",
       "1          0.284141    0.8  0.226294  0.239345   0.5000           0.447761   \n",
       "2          0.204944    0.8  0.261289  0.239345   0.1250           0.194030   \n",
       "3          0.284141    0.8  0.226294  0.223137   0.0000           0.373134   \n",
       "4          0.204944    0.8  0.226294  0.228835   0.2500           0.194030   \n",
       "...             ...    ...       ...       ...      ...                ...   \n",
       "19232      0.267234    0.4  0.226294  0.228835   0.3125           0.298507   \n",
       "19233      0.204944    0.8  0.226294  0.218959   0.5000           0.358209   \n",
       "19234      0.204944    0.8  0.226294  0.222789   0.2500           0.298507   \n",
       "19235      0.204944    0.8  0.226294  0.239345   0.2500           0.298507   \n",
       "19236      0.204944    0.8  0.226294  0.223137   0.7500           0.358209   \n",
       "\n",
       "       turbo  Model_variant  \n",
       "0          0       0.235508  \n",
       "1          0       0.235508  \n",
       "2          0       0.235508  \n",
       "3          0       0.235508  \n",
       "4          0       0.217289  \n",
       "...      ...            ...  \n",
       "19232      1       0.235508  \n",
       "19233      0       0.235508  \n",
       "19234      0       0.235508  \n",
       "19235      0       0.235508  \n",
       "19236      0       0.235508  \n",
       "\n",
       "[18624 rows x 19 columns]"
      ]
     },
     "execution_count": 177,
     "metadata": {},
     "output_type": "execute_result"
    }
   ],
   "source": [
    "df"
   ]
  },
  {
   "cell_type": "code",
   "execution_count": 77,
   "metadata": {},
   "outputs": [],
   "source": [
    "from sklearn.preprocessing import OrdinalEncoder"
   ]
  },
  {
   "cell_type": "code",
   "execution_count": null,
   "metadata": {},
   "outputs": [],
   "source": []
  },
  {
   "cell_type": "code",
   "execution_count": 78,
   "metadata": {},
   "outputs": [],
   "source": [
    "cols = [['Manufacturer',\"Category\",'Leather interior',\"Fuel type\",\"Gear box type\",\"Drive wheels\",'Wheel','Color','Model_variant']]\n",
    "le=OrdinalEncoder()\n",
    "for col in cols:\n",
    "    df[col] = le.fit_transform(df[col])"
   ]
  },
  {
   "cell_type": "code",
   "execution_count": 178,
   "metadata": {},
   "outputs": [],
   "source": [
    "sts = MaxAbsScaler()\n",
    "feature_scale = ['Levy','Cylinders','Doors','Airbags','Mileage','Engine volume num']\n",
    "df[feature_scale]=sts.fit_transform(df[feature_scale])"
   ]
  },
  {
   "cell_type": "code",
   "execution_count": 179,
   "metadata": {
    "scrolled": true
   },
   "outputs": [
    {
     "data": {
      "text/html": [
       "<div>\n",
       "<style scoped>\n",
       "    .dataframe tbody tr th:only-of-type {\n",
       "        vertical-align: middle;\n",
       "    }\n",
       "\n",
       "    .dataframe tbody tr th {\n",
       "        vertical-align: top;\n",
       "    }\n",
       "\n",
       "    .dataframe thead th {\n",
       "        text-align: right;\n",
       "    }\n",
       "</style>\n",
       "<table border=\"1\" class=\"dataframe\">\n",
       "  <thead>\n",
       "    <tr style=\"text-align: right;\">\n",
       "      <th></th>\n",
       "      <th>Price</th>\n",
       "      <th>Levy</th>\n",
       "      <th>Manufacturer</th>\n",
       "      <th>Model</th>\n",
       "      <th>Prod. year</th>\n",
       "      <th>Category</th>\n",
       "      <th>Leather interior</th>\n",
       "      <th>Fuel type</th>\n",
       "      <th>Mileage</th>\n",
       "      <th>Cylinders</th>\n",
       "      <th>Gear box type</th>\n",
       "      <th>Drive wheels</th>\n",
       "      <th>Doors</th>\n",
       "      <th>Wheel</th>\n",
       "      <th>Color</th>\n",
       "      <th>Airbags</th>\n",
       "      <th>Engine volume num</th>\n",
       "      <th>turbo</th>\n",
       "      <th>Model_variant</th>\n",
       "    </tr>\n",
       "  </thead>\n",
       "  <tbody>\n",
       "    <tr>\n",
       "      <th>0</th>\n",
       "      <td>13328</td>\n",
       "      <td>0.350714</td>\n",
       "      <td>0.325595</td>\n",
       "      <td>0.282619</td>\n",
       "      <td>2010</td>\n",
       "      <td>0.253864</td>\n",
       "      <td>0.228325</td>\n",
       "      <td>0.192156</td>\n",
       "      <td>0.465122</td>\n",
       "      <td>0.375</td>\n",
       "      <td>0.226503</td>\n",
       "      <td>0.284141</td>\n",
       "      <td>0.8</td>\n",
       "      <td>0.226294</td>\n",
       "      <td>0.228835</td>\n",
       "      <td>0.7500</td>\n",
       "      <td>0.522388</td>\n",
       "      <td>0</td>\n",
       "      <td>0.235508</td>\n",
       "    </tr>\n",
       "    <tr>\n",
       "      <th>1</th>\n",
       "      <td>16621</td>\n",
       "      <td>0.255202</td>\n",
       "      <td>0.184267</td>\n",
       "      <td>0.218837</td>\n",
       "      <td>2011</td>\n",
       "      <td>0.253864</td>\n",
       "      <td>0.230846</td>\n",
       "      <td>0.239354</td>\n",
       "      <td>0.480113</td>\n",
       "      <td>0.375</td>\n",
       "      <td>0.228221</td>\n",
       "      <td>0.284141</td>\n",
       "      <td>0.8</td>\n",
       "      <td>0.226294</td>\n",
       "      <td>0.239345</td>\n",
       "      <td>0.5000</td>\n",
       "      <td>0.447761</td>\n",
       "      <td>0</td>\n",
       "      <td>0.235508</td>\n",
       "    </tr>\n",
       "    <tr>\n",
       "      <th>2</th>\n",
       "      <td>8467</td>\n",
       "      <td>0.202426</td>\n",
       "      <td>0.216303</td>\n",
       "      <td>0.211642</td>\n",
       "      <td>2006</td>\n",
       "      <td>0.195431</td>\n",
       "      <td>0.230846</td>\n",
       "      <td>0.239354</td>\n",
       "      <td>0.500118</td>\n",
       "      <td>0.250</td>\n",
       "      <td>0.218058</td>\n",
       "      <td>0.204944</td>\n",
       "      <td>0.8</td>\n",
       "      <td>0.261289</td>\n",
       "      <td>0.239345</td>\n",
       "      <td>0.1250</td>\n",
       "      <td>0.194030</td>\n",
       "      <td>0</td>\n",
       "      <td>0.235508</td>\n",
       "    </tr>\n",
       "    <tr>\n",
       "      <th>3</th>\n",
       "      <td>3607</td>\n",
       "      <td>0.216094</td>\n",
       "      <td>0.212757</td>\n",
       "      <td>0.213339</td>\n",
       "      <td>2011</td>\n",
       "      <td>0.253864</td>\n",
       "      <td>0.228325</td>\n",
       "      <td>0.192156</td>\n",
       "      <td>0.422514</td>\n",
       "      <td>0.250</td>\n",
       "      <td>0.226503</td>\n",
       "      <td>0.284141</td>\n",
       "      <td>0.8</td>\n",
       "      <td>0.226294</td>\n",
       "      <td>0.223137</td>\n",
       "      <td>0.0000</td>\n",
       "      <td>0.373134</td>\n",
       "      <td>0</td>\n",
       "      <td>0.235508</td>\n",
       "    </tr>\n",
       "    <tr>\n",
       "      <th>4</th>\n",
       "      <td>11726</td>\n",
       "      <td>0.111807</td>\n",
       "      <td>0.216303</td>\n",
       "      <td>0.211642</td>\n",
       "      <td>2014</td>\n",
       "      <td>0.195431</td>\n",
       "      <td>0.228325</td>\n",
       "      <td>0.239354</td>\n",
       "      <td>0.229807</td>\n",
       "      <td>0.250</td>\n",
       "      <td>0.226503</td>\n",
       "      <td>0.204944</td>\n",
       "      <td>0.8</td>\n",
       "      <td>0.226294</td>\n",
       "      <td>0.228835</td>\n",
       "      <td>0.2500</td>\n",
       "      <td>0.194030</td>\n",
       "      <td>0</td>\n",
       "      <td>0.217289</td>\n",
       "    </tr>\n",
       "    <tr>\n",
       "      <th>...</th>\n",
       "      <td>...</td>\n",
       "      <td>...</td>\n",
       "      <td>...</td>\n",
       "      <td>...</td>\n",
       "      <td>...</td>\n",
       "      <td>...</td>\n",
       "      <td>...</td>\n",
       "      <td>...</td>\n",
       "      <td>...</td>\n",
       "      <td>...</td>\n",
       "      <td>...</td>\n",
       "      <td>...</td>\n",
       "      <td>...</td>\n",
       "      <td>...</td>\n",
       "      <td>...</td>\n",
       "      <td>...</td>\n",
       "      <td>...</td>\n",
       "      <td>...</td>\n",
       "      <td>...</td>\n",
       "    </tr>\n",
       "    <tr>\n",
       "      <th>19232</th>\n",
       "      <td>8467</td>\n",
       "      <td>0.202426</td>\n",
       "      <td>0.278120</td>\n",
       "      <td>0.269499</td>\n",
       "      <td>1999</td>\n",
       "      <td>0.251987</td>\n",
       "      <td>0.228325</td>\n",
       "      <td>0.256051</td>\n",
       "      <td>0.750176</td>\n",
       "      <td>0.250</td>\n",
       "      <td>0.253455</td>\n",
       "      <td>0.267234</td>\n",
       "      <td>0.4</td>\n",
       "      <td>0.226294</td>\n",
       "      <td>0.228835</td>\n",
       "      <td>0.3125</td>\n",
       "      <td>0.298507</td>\n",
       "      <td>1</td>\n",
       "      <td>0.235508</td>\n",
       "    </tr>\n",
       "    <tr>\n",
       "      <th>19233</th>\n",
       "      <td>15681</td>\n",
       "      <td>0.208323</td>\n",
       "      <td>0.201690</td>\n",
       "      <td>0.200159</td>\n",
       "      <td>2011</td>\n",
       "      <td>0.218055</td>\n",
       "      <td>0.228325</td>\n",
       "      <td>0.239354</td>\n",
       "      <td>0.404095</td>\n",
       "      <td>0.250</td>\n",
       "      <td>0.228221</td>\n",
       "      <td>0.204944</td>\n",
       "      <td>0.8</td>\n",
       "      <td>0.226294</td>\n",
       "      <td>0.218959</td>\n",
       "      <td>0.5000</td>\n",
       "      <td>0.358209</td>\n",
       "      <td>0</td>\n",
       "      <td>0.235508</td>\n",
       "    </tr>\n",
       "    <tr>\n",
       "      <th>19234</th>\n",
       "      <td>26108</td>\n",
       "      <td>0.209576</td>\n",
       "      <td>0.201690</td>\n",
       "      <td>0.198526</td>\n",
       "      <td>2010</td>\n",
       "      <td>0.253864</td>\n",
       "      <td>0.228325</td>\n",
       "      <td>0.235918</td>\n",
       "      <td>0.290981</td>\n",
       "      <td>0.250</td>\n",
       "      <td>0.226503</td>\n",
       "      <td>0.204944</td>\n",
       "      <td>0.8</td>\n",
       "      <td>0.226294</td>\n",
       "      <td>0.222789</td>\n",
       "      <td>0.2500</td>\n",
       "      <td>0.298507</td>\n",
       "      <td>0</td>\n",
       "      <td>0.235508</td>\n",
       "    </tr>\n",
       "    <tr>\n",
       "      <th>19235</th>\n",
       "      <td>5331</td>\n",
       "      <td>0.322888</td>\n",
       "      <td>0.184267</td>\n",
       "      <td>0.239789</td>\n",
       "      <td>2007</td>\n",
       "      <td>0.253864</td>\n",
       "      <td>0.228325</td>\n",
       "      <td>0.235918</td>\n",
       "      <td>0.128175</td>\n",
       "      <td>0.250</td>\n",
       "      <td>0.226503</td>\n",
       "      <td>0.204944</td>\n",
       "      <td>0.8</td>\n",
       "      <td>0.226294</td>\n",
       "      <td>0.239345</td>\n",
       "      <td>0.2500</td>\n",
       "      <td>0.298507</td>\n",
       "      <td>0</td>\n",
       "      <td>0.235508</td>\n",
       "    </tr>\n",
       "    <tr>\n",
       "      <th>19236</th>\n",
       "      <td>470</td>\n",
       "      <td>0.188769</td>\n",
       "      <td>0.201690</td>\n",
       "      <td>0.200159</td>\n",
       "      <td>2012</td>\n",
       "      <td>0.218055</td>\n",
       "      <td>0.228325</td>\n",
       "      <td>0.192156</td>\n",
       "      <td>0.467417</td>\n",
       "      <td>0.250</td>\n",
       "      <td>0.226503</td>\n",
       "      <td>0.204944</td>\n",
       "      <td>0.8</td>\n",
       "      <td>0.226294</td>\n",
       "      <td>0.223137</td>\n",
       "      <td>0.7500</td>\n",
       "      <td>0.358209</td>\n",
       "      <td>0</td>\n",
       "      <td>0.235508</td>\n",
       "    </tr>\n",
       "  </tbody>\n",
       "</table>\n",
       "<p>18624 rows × 19 columns</p>\n",
       "</div>"
      ],
      "text/plain": [
       "       Price      Levy  Manufacturer     Model  Prod. year  Category  \\\n",
       "0      13328  0.350714      0.325595  0.282619        2010  0.253864   \n",
       "1      16621  0.255202      0.184267  0.218837        2011  0.253864   \n",
       "2       8467  0.202426      0.216303  0.211642        2006  0.195431   \n",
       "3       3607  0.216094      0.212757  0.213339        2011  0.253864   \n",
       "4      11726  0.111807      0.216303  0.211642        2014  0.195431   \n",
       "...      ...       ...           ...       ...         ...       ...   \n",
       "19232   8467  0.202426      0.278120  0.269499        1999  0.251987   \n",
       "19233  15681  0.208323      0.201690  0.200159        2011  0.218055   \n",
       "19234  26108  0.209576      0.201690  0.198526        2010  0.253864   \n",
       "19235   5331  0.322888      0.184267  0.239789        2007  0.253864   \n",
       "19236    470  0.188769      0.201690  0.200159        2012  0.218055   \n",
       "\n",
       "       Leather interior  Fuel type   Mileage  Cylinders  Gear box type  \\\n",
       "0              0.228325   0.192156  0.465122      0.375       0.226503   \n",
       "1              0.230846   0.239354  0.480113      0.375       0.228221   \n",
       "2              0.230846   0.239354  0.500118      0.250       0.218058   \n",
       "3              0.228325   0.192156  0.422514      0.250       0.226503   \n",
       "4              0.228325   0.239354  0.229807      0.250       0.226503   \n",
       "...                 ...        ...       ...        ...            ...   \n",
       "19232          0.228325   0.256051  0.750176      0.250       0.253455   \n",
       "19233          0.228325   0.239354  0.404095      0.250       0.228221   \n",
       "19234          0.228325   0.235918  0.290981      0.250       0.226503   \n",
       "19235          0.228325   0.235918  0.128175      0.250       0.226503   \n",
       "19236          0.228325   0.192156  0.467417      0.250       0.226503   \n",
       "\n",
       "       Drive wheels  Doors     Wheel     Color  Airbags  Engine volume num  \\\n",
       "0          0.284141    0.8  0.226294  0.228835   0.7500           0.522388   \n",
       "1          0.284141    0.8  0.226294  0.239345   0.5000           0.447761   \n",
       "2          0.204944    0.8  0.261289  0.239345   0.1250           0.194030   \n",
       "3          0.284141    0.8  0.226294  0.223137   0.0000           0.373134   \n",
       "4          0.204944    0.8  0.226294  0.228835   0.2500           0.194030   \n",
       "...             ...    ...       ...       ...      ...                ...   \n",
       "19232      0.267234    0.4  0.226294  0.228835   0.3125           0.298507   \n",
       "19233      0.204944    0.8  0.226294  0.218959   0.5000           0.358209   \n",
       "19234      0.204944    0.8  0.226294  0.222789   0.2500           0.298507   \n",
       "19235      0.204944    0.8  0.226294  0.239345   0.2500           0.298507   \n",
       "19236      0.204944    0.8  0.226294  0.223137   0.7500           0.358209   \n",
       "\n",
       "       turbo  Model_variant  \n",
       "0          0       0.235508  \n",
       "1          0       0.235508  \n",
       "2          0       0.235508  \n",
       "3          0       0.235508  \n",
       "4          0       0.217289  \n",
       "...      ...            ...  \n",
       "19232      1       0.235508  \n",
       "19233      0       0.235508  \n",
       "19234      0       0.235508  \n",
       "19235      0       0.235508  \n",
       "19236      0       0.235508  \n",
       "\n",
       "[18624 rows x 19 columns]"
      ]
     },
     "execution_count": 179,
     "metadata": {},
     "output_type": "execute_result"
    }
   ],
   "source": [
    "df"
   ]
  },
  {
   "cell_type": "code",
   "execution_count": 180,
   "metadata": {},
   "outputs": [],
   "source": [
    "df.to_csv('trainh2o_new45895.csv',index=False)"
   ]
  },
  {
   "cell_type": "code",
   "execution_count": null,
   "metadata": {},
   "outputs": [],
   "source": []
  },
  {
   "cell_type": "code",
   "execution_count": 213,
   "metadata": {},
   "outputs": [],
   "source": [
    "import pandas as pd\n",
    "df2=pd.read_csv('test.csv')"
   ]
  },
  {
   "cell_type": "code",
   "execution_count": 214,
   "metadata": {},
   "outputs": [
    {
     "data": {
      "text/html": [
       "<div>\n",
       "<style scoped>\n",
       "    .dataframe tbody tr th:only-of-type {\n",
       "        vertical-align: middle;\n",
       "    }\n",
       "\n",
       "    .dataframe tbody tr th {\n",
       "        vertical-align: top;\n",
       "    }\n",
       "\n",
       "    .dataframe thead th {\n",
       "        text-align: right;\n",
       "    }\n",
       "</style>\n",
       "<table border=\"1\" class=\"dataframe\">\n",
       "  <thead>\n",
       "    <tr style=\"text-align: right;\">\n",
       "      <th></th>\n",
       "      <th>ID</th>\n",
       "      <th>Levy</th>\n",
       "      <th>Manufacturer</th>\n",
       "      <th>Model</th>\n",
       "      <th>Prod. year</th>\n",
       "      <th>Category</th>\n",
       "      <th>Leather interior</th>\n",
       "      <th>Fuel type</th>\n",
       "      <th>Engine volume</th>\n",
       "      <th>Mileage</th>\n",
       "      <th>Cylinders</th>\n",
       "      <th>Gear box type</th>\n",
       "      <th>Drive wheels</th>\n",
       "      <th>Doors</th>\n",
       "      <th>Wheel</th>\n",
       "      <th>Color</th>\n",
       "      <th>Airbags</th>\n",
       "    </tr>\n",
       "  </thead>\n",
       "  <tbody>\n",
       "    <tr>\n",
       "      <th>0</th>\n",
       "      <td>44020629</td>\n",
       "      <td>-</td>\n",
       "      <td>VOLKSWAGEN</td>\n",
       "      <td>Golf</td>\n",
       "      <td>2012</td>\n",
       "      <td>Hatchback</td>\n",
       "      <td>No</td>\n",
       "      <td>Diesel</td>\n",
       "      <td>2.0 Turbo</td>\n",
       "      <td>0 km</td>\n",
       "      <td>4</td>\n",
       "      <td>Manual</td>\n",
       "      <td>Front</td>\n",
       "      <td>02-Mar</td>\n",
       "      <td>Left wheel</td>\n",
       "      <td>Grey</td>\n",
       "      <td>10</td>\n",
       "    </tr>\n",
       "    <tr>\n",
       "      <th>1</th>\n",
       "      <td>45784798</td>\n",
       "      <td>-</td>\n",
       "      <td>HYUNDAI</td>\n",
       "      <td>Sonata</td>\n",
       "      <td>2012</td>\n",
       "      <td>Sedan</td>\n",
       "      <td>Yes</td>\n",
       "      <td>Petrol</td>\n",
       "      <td>2.4</td>\n",
       "      <td>26000 km</td>\n",
       "      <td>4</td>\n",
       "      <td>Tiptronic</td>\n",
       "      <td>Front</td>\n",
       "      <td>04-May</td>\n",
       "      <td>Left wheel</td>\n",
       "      <td>Grey</td>\n",
       "      <td>10</td>\n",
       "    </tr>\n",
       "    <tr>\n",
       "      <th>2</th>\n",
       "      <td>45800257</td>\n",
       "      <td>-</td>\n",
       "      <td>NISSAN</td>\n",
       "      <td>Tiida</td>\n",
       "      <td>2005</td>\n",
       "      <td>Sedan</td>\n",
       "      <td>No</td>\n",
       "      <td>Petrol</td>\n",
       "      <td>1.5</td>\n",
       "      <td>168000 km</td>\n",
       "      <td>4</td>\n",
       "      <td>Automatic</td>\n",
       "      <td>Front</td>\n",
       "      <td>04-May</td>\n",
       "      <td>Right-hand drive</td>\n",
       "      <td>Sky blue</td>\n",
       "      <td>8</td>\n",
       "    </tr>\n",
       "    <tr>\n",
       "      <th>3</th>\n",
       "      <td>45797981</td>\n",
       "      <td>975</td>\n",
       "      <td>VOLVO</td>\n",
       "      <td>XC90</td>\n",
       "      <td>2012</td>\n",
       "      <td>Jeep</td>\n",
       "      <td>Yes</td>\n",
       "      <td>Petrol</td>\n",
       "      <td>3.2</td>\n",
       "      <td>143000 km</td>\n",
       "      <td>6</td>\n",
       "      <td>Automatic</td>\n",
       "      <td>4x4</td>\n",
       "      <td>04-May</td>\n",
       "      <td>Left wheel</td>\n",
       "      <td>Blue</td>\n",
       "      <td>12</td>\n",
       "    </tr>\n",
       "    <tr>\n",
       "      <th>4</th>\n",
       "      <td>45814303</td>\n",
       "      <td>-</td>\n",
       "      <td>OPEL</td>\n",
       "      <td>Astra</td>\n",
       "      <td>1993</td>\n",
       "      <td>Hatchback</td>\n",
       "      <td>No</td>\n",
       "      <td>Petrol</td>\n",
       "      <td>1.6</td>\n",
       "      <td>200000 km</td>\n",
       "      <td>4</td>\n",
       "      <td>Manual</td>\n",
       "      <td>Front</td>\n",
       "      <td>04-May</td>\n",
       "      <td>Left wheel</td>\n",
       "      <td>Black</td>\n",
       "      <td>0</td>\n",
       "    </tr>\n",
       "  </tbody>\n",
       "</table>\n",
       "</div>"
      ],
      "text/plain": [
       "         ID Levy Manufacturer   Model  Prod. year   Category Leather interior  \\\n",
       "0  44020629    -   VOLKSWAGEN    Golf        2012  Hatchback               No   \n",
       "1  45784798    -      HYUNDAI  Sonata        2012      Sedan              Yes   \n",
       "2  45800257    -       NISSAN   Tiida        2005      Sedan               No   \n",
       "3  45797981  975        VOLVO    XC90        2012       Jeep              Yes   \n",
       "4  45814303    -         OPEL   Astra        1993  Hatchback               No   \n",
       "\n",
       "  Fuel type Engine volume    Mileage  Cylinders Gear box type Drive wheels  \\\n",
       "0    Diesel     2.0 Turbo       0 km          4        Manual        Front   \n",
       "1    Petrol           2.4   26000 km          4     Tiptronic        Front   \n",
       "2    Petrol           1.5  168000 km          4     Automatic        Front   \n",
       "3    Petrol           3.2  143000 km          6     Automatic          4x4   \n",
       "4    Petrol           1.6  200000 km          4        Manual        Front   \n",
       "\n",
       "    Doors             Wheel     Color  Airbags  \n",
       "0  02-Mar        Left wheel      Grey       10  \n",
       "1  04-May        Left wheel      Grey       10  \n",
       "2  04-May  Right-hand drive  Sky blue        8  \n",
       "3  04-May        Left wheel      Blue       12  \n",
       "4  04-May        Left wheel     Black        0  "
      ]
     },
     "execution_count": 214,
     "metadata": {},
     "output_type": "execute_result"
    }
   ],
   "source": [
    "cols = ['Price']\n",
    "df2 = df2.drop(columns=cols, axis=1)\n",
    "df2.head()"
   ]
  },
  {
   "cell_type": "code",
   "execution_count": 215,
   "metadata": {},
   "outputs": [],
   "source": [
    "df2['Levy'].replace('-',np.nan,inplace=True)"
   ]
  },
  {
   "cell_type": "code",
   "execution_count": 216,
   "metadata": {},
   "outputs": [],
   "source": [
    "df2[['Levy']] = df2[[\"Levy\"]].astype(\"float64\")"
   ]
  },
  {
   "cell_type": "code",
   "execution_count": 217,
   "metadata": {},
   "outputs": [],
   "source": [
    "df2['Levy'].replace(np.nan,df2['Levy'].mean(),inplace=True)"
   ]
  },
  {
   "cell_type": "code",
   "execution_count": 218,
   "metadata": {},
   "outputs": [],
   "source": [
    "df2[['Levy']] = df2[[\"Levy\"]].astype(\"int64\")"
   ]
  },
  {
   "cell_type": "code",
   "execution_count": 219,
   "metadata": {},
   "outputs": [],
   "source": [
    "df2['Doors'].replace('02-Mar','2',inplace=True)\n",
    "df2['Doors'].replace('>5','5',inplace=True)\n",
    "df2['Doors'].replace('04-May','4',inplace=True)"
   ]
  },
  {
   "cell_type": "code",
   "execution_count": 220,
   "metadata": {},
   "outputs": [],
   "source": [
    "df2[['Doors']] = df2[[\"Doors\"]].astype(\"int\")"
   ]
  },
  {
   "cell_type": "code",
   "execution_count": 221,
   "metadata": {},
   "outputs": [],
   "source": [
    "df2[['Mileage']] = df2[[\"Mileage\"]].astype(\"str\")\n",
    "df2['Mileage'] = df2['Mileage'].str.replace(' km', '')"
   ]
  },
  {
   "cell_type": "code",
   "execution_count": 222,
   "metadata": {},
   "outputs": [],
   "source": [
    "df2[['Mileage']] = df2[[\"Mileage\"]].astype(\"int64\")"
   ]
  },
  {
   "cell_type": "code",
   "execution_count": 223,
   "metadata": {},
   "outputs": [
    {
     "data": {
      "text/plain": [
       "HYUNDAI          1589\n",
       "TOYOTA           1515\n",
       "MERCEDES-BENZ     907\n",
       "FORD              481\n",
       "CHEVROLET         451\n",
       "                 ... \n",
       "MOSKVICH            1\n",
       "ASTON MARTIN        1\n",
       "MG                  1\n",
       "BENTLEY             1\n",
       "TATA                1\n",
       "Name: Manufacturer, Length: 62, dtype: int64"
      ]
     },
     "execution_count": 223,
     "metadata": {},
     "output_type": "execute_result"
    }
   ],
   "source": [
    "df2[\"Manufacturer\"].value_counts()"
   ]
  },
  {
   "cell_type": "code",
   "execution_count": null,
   "metadata": {},
   "outputs": [],
   "source": []
  },
  {
   "cell_type": "code",
   "execution_count": null,
   "metadata": {},
   "outputs": [],
   "source": []
  },
  {
   "cell_type": "code",
   "execution_count": null,
   "metadata": {},
   "outputs": [],
   "source": []
  },
  {
   "cell_type": "code",
   "execution_count": null,
   "metadata": {},
   "outputs": [],
   "source": []
  },
  {
   "cell_type": "code",
   "execution_count": null,
   "metadata": {},
   "outputs": [],
   "source": []
  },
  {
   "cell_type": "code",
   "execution_count": null,
   "metadata": {},
   "outputs": [],
   "source": []
  },
  {
   "cell_type": "code",
   "execution_count": null,
   "metadata": {},
   "outputs": [],
   "source": []
  },
  {
   "cell_type": "code",
   "execution_count": 224,
   "metadata": {},
   "outputs": [],
   "source": [
    "#Manufacturer \n",
    "#setting values to other whose value count is less than 1000\n",
    "man=set(i for i in df2['Manufacturer'])\n",
    "other=[]\n",
    "for i in man:\n",
    "    if df2['Manufacturer'].value_counts()[i]<50:\n",
    "        other.append(i)\n",
    "df2['Manufacturer']=df2['Manufacturer'].apply(lambda x:'OTHER' if df2['Manufacturer'].value_counts()[x]<50 else x)"
   ]
  },
  {
   "cell_type": "code",
   "execution_count": 225,
   "metadata": {},
   "outputs": [
    {
     "data": {
      "text/plain": [
       "HYUNDAI          1589\n",
       "TOYOTA           1515\n",
       "MERCEDES-BENZ     907\n",
       "FORD              481\n",
       "LEXUS             451\n",
       "CHEVROLET         451\n",
       "OTHER             433\n",
       "HONDA             414\n",
       "BMW               398\n",
       "NISSAN            284\n",
       "VOLKSWAGEN        271\n",
       "SSANGYONG         202\n",
       "OPEL              190\n",
       "KIA               184\n",
       "AUDI              120\n",
       "MITSUBISHI        119\n",
       "SUBARU            109\n",
       "MAZDA              75\n",
       "JEEP               52\n",
       "Name: Manufacturer, dtype: int64"
      ]
     },
     "execution_count": 225,
     "metadata": {},
     "output_type": "execute_result"
    }
   ],
   "source": [
    "df2['Manufacturer'].value_counts()"
   ]
  },
  {
   "cell_type": "code",
   "execution_count": 226,
   "metadata": {},
   "outputs": [],
   "source": [
    "#making new feature out of prod. year\n",
    "#old <2014 ,recent >2014\n",
    "df2['Model_variant']=df2['Prod. year'].apply(lambda x:'recent' if (x>=2014 and x<=2020) else 'old')"
   ]
  },
  {
   "cell_type": "code",
   "execution_count": 227,
   "metadata": {},
   "outputs": [
    {
     "data": {
      "text/html": [
       "<div>\n",
       "<style scoped>\n",
       "    .dataframe tbody tr th:only-of-type {\n",
       "        vertical-align: middle;\n",
       "    }\n",
       "\n",
       "    .dataframe tbody tr th {\n",
       "        vertical-align: top;\n",
       "    }\n",
       "\n",
       "    .dataframe thead th {\n",
       "        text-align: right;\n",
       "    }\n",
       "</style>\n",
       "<table border=\"1\" class=\"dataframe\">\n",
       "  <thead>\n",
       "    <tr style=\"text-align: right;\">\n",
       "      <th></th>\n",
       "      <th>ID</th>\n",
       "      <th>Levy</th>\n",
       "      <th>Manufacturer</th>\n",
       "      <th>Model</th>\n",
       "      <th>Prod. year</th>\n",
       "      <th>Category</th>\n",
       "      <th>Leather interior</th>\n",
       "      <th>Fuel type</th>\n",
       "      <th>Engine volume</th>\n",
       "      <th>Mileage</th>\n",
       "      <th>Cylinders</th>\n",
       "      <th>Gear box type</th>\n",
       "      <th>Drive wheels</th>\n",
       "      <th>Doors</th>\n",
       "      <th>Wheel</th>\n",
       "      <th>Color</th>\n",
       "      <th>Airbags</th>\n",
       "      <th>Model_variant</th>\n",
       "      <th>Engine volume num</th>\n",
       "      <th>turbo</th>\n",
       "    </tr>\n",
       "  </thead>\n",
       "  <tbody>\n",
       "    <tr>\n",
       "      <th>0</th>\n",
       "      <td>44020629</td>\n",
       "      <td>917</td>\n",
       "      <td>VOLKSWAGEN</td>\n",
       "      <td>Golf</td>\n",
       "      <td>2012</td>\n",
       "      <td>Hatchback</td>\n",
       "      <td>No</td>\n",
       "      <td>Diesel</td>\n",
       "      <td>2.0 Turbo</td>\n",
       "      <td>0</td>\n",
       "      <td>4</td>\n",
       "      <td>Manual</td>\n",
       "      <td>Front</td>\n",
       "      <td>2</td>\n",
       "      <td>Left wheel</td>\n",
       "      <td>Grey</td>\n",
       "      <td>10</td>\n",
       "      <td>old</td>\n",
       "      <td>2.0</td>\n",
       "      <td>Turbo</td>\n",
       "    </tr>\n",
       "    <tr>\n",
       "      <th>1</th>\n",
       "      <td>45784798</td>\n",
       "      <td>917</td>\n",
       "      <td>HYUNDAI</td>\n",
       "      <td>Sonata</td>\n",
       "      <td>2012</td>\n",
       "      <td>Sedan</td>\n",
       "      <td>Yes</td>\n",
       "      <td>Petrol</td>\n",
       "      <td>2.4</td>\n",
       "      <td>26000</td>\n",
       "      <td>4</td>\n",
       "      <td>Tiptronic</td>\n",
       "      <td>Front</td>\n",
       "      <td>4</td>\n",
       "      <td>Left wheel</td>\n",
       "      <td>Grey</td>\n",
       "      <td>10</td>\n",
       "      <td>old</td>\n",
       "      <td>2.4</td>\n",
       "      <td>None</td>\n",
       "    </tr>\n",
       "    <tr>\n",
       "      <th>2</th>\n",
       "      <td>45800257</td>\n",
       "      <td>917</td>\n",
       "      <td>NISSAN</td>\n",
       "      <td>Tiida</td>\n",
       "      <td>2005</td>\n",
       "      <td>Sedan</td>\n",
       "      <td>No</td>\n",
       "      <td>Petrol</td>\n",
       "      <td>1.5</td>\n",
       "      <td>168000</td>\n",
       "      <td>4</td>\n",
       "      <td>Automatic</td>\n",
       "      <td>Front</td>\n",
       "      <td>4</td>\n",
       "      <td>Right-hand drive</td>\n",
       "      <td>Sky blue</td>\n",
       "      <td>8</td>\n",
       "      <td>old</td>\n",
       "      <td>1.5</td>\n",
       "      <td>None</td>\n",
       "    </tr>\n",
       "    <tr>\n",
       "      <th>3</th>\n",
       "      <td>45797981</td>\n",
       "      <td>975</td>\n",
       "      <td>OTHER</td>\n",
       "      <td>XC90</td>\n",
       "      <td>2012</td>\n",
       "      <td>Jeep</td>\n",
       "      <td>Yes</td>\n",
       "      <td>Petrol</td>\n",
       "      <td>3.2</td>\n",
       "      <td>143000</td>\n",
       "      <td>6</td>\n",
       "      <td>Automatic</td>\n",
       "      <td>4x4</td>\n",
       "      <td>4</td>\n",
       "      <td>Left wheel</td>\n",
       "      <td>Blue</td>\n",
       "      <td>12</td>\n",
       "      <td>old</td>\n",
       "      <td>3.2</td>\n",
       "      <td>None</td>\n",
       "    </tr>\n",
       "    <tr>\n",
       "      <th>4</th>\n",
       "      <td>45814303</td>\n",
       "      <td>917</td>\n",
       "      <td>OPEL</td>\n",
       "      <td>Astra</td>\n",
       "      <td>1993</td>\n",
       "      <td>Hatchback</td>\n",
       "      <td>No</td>\n",
       "      <td>Petrol</td>\n",
       "      <td>1.6</td>\n",
       "      <td>200000</td>\n",
       "      <td>4</td>\n",
       "      <td>Manual</td>\n",
       "      <td>Front</td>\n",
       "      <td>4</td>\n",
       "      <td>Left wheel</td>\n",
       "      <td>Black</td>\n",
       "      <td>0</td>\n",
       "      <td>old</td>\n",
       "      <td>1.6</td>\n",
       "      <td>None</td>\n",
       "    </tr>\n",
       "    <tr>\n",
       "      <th>...</th>\n",
       "      <td>...</td>\n",
       "      <td>...</td>\n",
       "      <td>...</td>\n",
       "      <td>...</td>\n",
       "      <td>...</td>\n",
       "      <td>...</td>\n",
       "      <td>...</td>\n",
       "      <td>...</td>\n",
       "      <td>...</td>\n",
       "      <td>...</td>\n",
       "      <td>...</td>\n",
       "      <td>...</td>\n",
       "      <td>...</td>\n",
       "      <td>...</td>\n",
       "      <td>...</td>\n",
       "      <td>...</td>\n",
       "      <td>...</td>\n",
       "      <td>...</td>\n",
       "      <td>...</td>\n",
       "      <td>...</td>\n",
       "    </tr>\n",
       "    <tr>\n",
       "      <th>8240</th>\n",
       "      <td>44824410</td>\n",
       "      <td>1357</td>\n",
       "      <td>OTHER</td>\n",
       "      <td>Stilo</td>\n",
       "      <td>2004</td>\n",
       "      <td>Universal</td>\n",
       "      <td>No</td>\n",
       "      <td>Petrol</td>\n",
       "      <td>1.6</td>\n",
       "      <td>164000</td>\n",
       "      <td>4</td>\n",
       "      <td>Manual</td>\n",
       "      <td>Front</td>\n",
       "      <td>4</td>\n",
       "      <td>Left wheel</td>\n",
       "      <td>Blue</td>\n",
       "      <td>6</td>\n",
       "      <td>old</td>\n",
       "      <td>1.6</td>\n",
       "      <td>None</td>\n",
       "    </tr>\n",
       "    <tr>\n",
       "      <th>8241</th>\n",
       "      <td>45682346</td>\n",
       "      <td>917</td>\n",
       "      <td>BMW</td>\n",
       "      <td>528 F10</td>\n",
       "      <td>2012</td>\n",
       "      <td>Sedan</td>\n",
       "      <td>Yes</td>\n",
       "      <td>Petrol</td>\n",
       "      <td>2.8 Turbo</td>\n",
       "      <td>156000</td>\n",
       "      <td>4</td>\n",
       "      <td>Tiptronic</td>\n",
       "      <td>Front</td>\n",
       "      <td>4</td>\n",
       "      <td>Left wheel</td>\n",
       "      <td>Black</td>\n",
       "      <td>6</td>\n",
       "      <td>old</td>\n",
       "      <td>2.8</td>\n",
       "      <td>Turbo</td>\n",
       "    </tr>\n",
       "    <tr>\n",
       "      <th>8242</th>\n",
       "      <td>45649860</td>\n",
       "      <td>1646</td>\n",
       "      <td>LEXUS</td>\n",
       "      <td>GX 460</td>\n",
       "      <td>2015</td>\n",
       "      <td>Jeep</td>\n",
       "      <td>Yes</td>\n",
       "      <td>Petrol</td>\n",
       "      <td>4.6</td>\n",
       "      <td>102907</td>\n",
       "      <td>8</td>\n",
       "      <td>Automatic</td>\n",
       "      <td>4x4</td>\n",
       "      <td>4</td>\n",
       "      <td>Left wheel</td>\n",
       "      <td>Black</td>\n",
       "      <td>0</td>\n",
       "      <td>recent</td>\n",
       "      <td>4.6</td>\n",
       "      <td>None</td>\n",
       "    </tr>\n",
       "    <tr>\n",
       "      <th>8243</th>\n",
       "      <td>45809706</td>\n",
       "      <td>784</td>\n",
       "      <td>TOYOTA</td>\n",
       "      <td>Aqua</td>\n",
       "      <td>2017</td>\n",
       "      <td>Hatchback</td>\n",
       "      <td>Yes</td>\n",
       "      <td>Petrol</td>\n",
       "      <td>1.5</td>\n",
       "      <td>3000</td>\n",
       "      <td>4</td>\n",
       "      <td>Automatic</td>\n",
       "      <td>Front</td>\n",
       "      <td>4</td>\n",
       "      <td>Left wheel</td>\n",
       "      <td>Green</td>\n",
       "      <td>4</td>\n",
       "      <td>recent</td>\n",
       "      <td>1.5</td>\n",
       "      <td>None</td>\n",
       "    </tr>\n",
       "    <tr>\n",
       "      <th>8244</th>\n",
       "      <td>45813163</td>\n",
       "      <td>448</td>\n",
       "      <td>HONDA</td>\n",
       "      <td>Insight</td>\n",
       "      <td>2012</td>\n",
       "      <td>Hatchback</td>\n",
       "      <td>Yes</td>\n",
       "      <td>Hybrid</td>\n",
       "      <td>1.3</td>\n",
       "      <td>321269</td>\n",
       "      <td>4</td>\n",
       "      <td>Automatic</td>\n",
       "      <td>Front</td>\n",
       "      <td>4</td>\n",
       "      <td>Left wheel</td>\n",
       "      <td>Red</td>\n",
       "      <td>12</td>\n",
       "      <td>old</td>\n",
       "      <td>1.3</td>\n",
       "      <td>None</td>\n",
       "    </tr>\n",
       "  </tbody>\n",
       "</table>\n",
       "<p>8245 rows × 20 columns</p>\n",
       "</div>"
      ],
      "text/plain": [
       "            ID  Levy Manufacturer    Model  Prod. year   Category  \\\n",
       "0     44020629   917   VOLKSWAGEN     Golf        2012  Hatchback   \n",
       "1     45784798   917      HYUNDAI   Sonata        2012      Sedan   \n",
       "2     45800257   917       NISSAN    Tiida        2005      Sedan   \n",
       "3     45797981   975        OTHER     XC90        2012       Jeep   \n",
       "4     45814303   917         OPEL    Astra        1993  Hatchback   \n",
       "...        ...   ...          ...      ...         ...        ...   \n",
       "8240  44824410  1357        OTHER    Stilo        2004  Universal   \n",
       "8241  45682346   917          BMW  528 F10        2012      Sedan   \n",
       "8242  45649860  1646        LEXUS   GX 460        2015       Jeep   \n",
       "8243  45809706   784       TOYOTA     Aqua        2017  Hatchback   \n",
       "8244  45813163   448        HONDA  Insight        2012  Hatchback   \n",
       "\n",
       "     Leather interior Fuel type Engine volume  Mileage  Cylinders  \\\n",
       "0                  No    Diesel     2.0 Turbo        0          4   \n",
       "1                 Yes    Petrol           2.4    26000          4   \n",
       "2                  No    Petrol           1.5   168000          4   \n",
       "3                 Yes    Petrol           3.2   143000          6   \n",
       "4                  No    Petrol           1.6   200000          4   \n",
       "...               ...       ...           ...      ...        ...   \n",
       "8240               No    Petrol           1.6   164000          4   \n",
       "8241              Yes    Petrol     2.8 Turbo   156000          4   \n",
       "8242              Yes    Petrol           4.6   102907          8   \n",
       "8243              Yes    Petrol           1.5     3000          4   \n",
       "8244              Yes    Hybrid           1.3   321269          4   \n",
       "\n",
       "     Gear box type Drive wheels  Doors             Wheel     Color  Airbags  \\\n",
       "0           Manual        Front      2        Left wheel      Grey       10   \n",
       "1        Tiptronic        Front      4        Left wheel      Grey       10   \n",
       "2        Automatic        Front      4  Right-hand drive  Sky blue        8   \n",
       "3        Automatic          4x4      4        Left wheel      Blue       12   \n",
       "4           Manual        Front      4        Left wheel     Black        0   \n",
       "...            ...          ...    ...               ...       ...      ...   \n",
       "8240        Manual        Front      4        Left wheel      Blue        6   \n",
       "8241     Tiptronic        Front      4        Left wheel     Black        6   \n",
       "8242     Automatic          4x4      4        Left wheel     Black        0   \n",
       "8243     Automatic        Front      4        Left wheel     Green        4   \n",
       "8244     Automatic        Front      4        Left wheel       Red       12   \n",
       "\n",
       "     Model_variant Engine volume num  turbo  \n",
       "0              old               2.0  Turbo  \n",
       "1              old               2.4   None  \n",
       "2              old               1.5   None  \n",
       "3              old               3.2   None  \n",
       "4              old               1.6   None  \n",
       "...            ...               ...    ...  \n",
       "8240           old               1.6   None  \n",
       "8241           old               2.8  Turbo  \n",
       "8242        recent               4.6   None  \n",
       "8243        recent               1.5   None  \n",
       "8244           old               1.3   None  \n",
       "\n",
       "[8245 rows x 20 columns]"
      ]
     },
     "execution_count": 227,
     "metadata": {},
     "output_type": "execute_result"
    }
   ],
   "source": [
    "# new data frame with split value columns\n",
    "new = df2[\"Engine volume\"].str.split(\" \", n = 1, expand = True)\n",
    "                                    \n",
    "# making separate first name column from new data frame\n",
    "df2[\"Engine volume num\"]= new[0]\n",
    "                                    \n",
    "# making separate last name column from new data frame\n",
    "df2[\"turbo\"]= new[1] \n",
    "df2"
   ]
  },
  {
   "cell_type": "code",
   "execution_count": 228,
   "metadata": {},
   "outputs": [],
   "source": [
    "df2[['Engine volume num']] = df2[[\"Engine volume num\"]].astype(\"float64\")"
   ]
  },
  {
   "cell_type": "code",
   "execution_count": 229,
   "metadata": {},
   "outputs": [],
   "source": [
    "df2['turbo'].replace('None',0,inplace=True)\n",
    "df2['turbo'].replace('Turbo',1,inplace=True)"
   ]
  },
  {
   "cell_type": "code",
   "execution_count": 230,
   "metadata": {},
   "outputs": [
    {
     "data": {
      "text/plain": [
       "array([ 1., nan])"
      ]
     },
     "execution_count": 230,
     "metadata": {},
     "output_type": "execute_result"
    }
   ],
   "source": [
    "df2['turbo'].unique()"
   ]
  },
  {
   "cell_type": "code",
   "execution_count": 231,
   "metadata": {},
   "outputs": [],
   "source": [
    "df2['turbo'].replace(np.nan,0,inplace=True)\n",
    "df2[['turbo']] = df2[[\"turbo\"]].astype(\"uint8\")"
   ]
  },
  {
   "cell_type": "code",
   "execution_count": 191,
   "metadata": {},
   "outputs": [],
   "source": [
    "man=set(i for i in df2['Model'])\n",
    "other=[]\n",
    "for i in man:\n",
    "    if df2['Model'].value_counts()[i]<10:\n",
    "        other.append(i)\n",
    "df2['Model']=df2['Model'].apply(lambda x:'OTHER' if df2['Model'].value_counts()[x]<10 else x)"
   ]
  },
  {
   "cell_type": "code",
   "execution_count": 193,
   "metadata": {},
   "outputs": [
    {
     "data": {
      "text/plain": [
       "OTHER             1596\n",
       "Sonata             478\n",
       "Prius              448\n",
       "Camry              390\n",
       "Elantra            378\n",
       "                  ... \n",
       "CLA 250             10\n",
       "Tiguan              10\n",
       "X-Terra             10\n",
       "Corsa               10\n",
       "Grand Cherokee      10\n",
       "Name: Model, Length: 127, dtype: int64"
      ]
     },
     "execution_count": 193,
     "metadata": {},
     "output_type": "execute_result"
    }
   ],
   "source": [
    "df2.Model.value_counts()"
   ]
  },
  {
   "cell_type": "code",
   "execution_count": null,
   "metadata": {},
   "outputs": [],
   "source": []
  },
  {
   "cell_type": "code",
   "execution_count": null,
   "metadata": {},
   "outputs": [],
   "source": []
  },
  {
   "cell_type": "code",
   "execution_count": null,
   "metadata": {},
   "outputs": [],
   "source": []
  },
  {
   "cell_type": "code",
   "execution_count": null,
   "metadata": {},
   "outputs": [],
   "source": []
  },
  {
   "cell_type": "code",
   "execution_count": null,
   "metadata": {},
   "outputs": [],
   "source": []
  },
  {
   "cell_type": "code",
   "execution_count": 185,
   "metadata": {},
   "outputs": [
    {
     "data": {
      "text/plain": [
       "Model\n",
       "09-Mar           2\n",
       "100              1\n",
       "1000             2\n",
       "114              2\n",
       "116 i            1\n",
       "                ..\n",
       "kamaz/ კამაზი    1\n",
       "kona SEL         1\n",
       "macan            2\n",
       "transit          1\n",
       "xD               2\n",
       "Name: Levy, Length: 995, dtype: int64"
      ]
     },
     "execution_count": 185,
     "metadata": {},
     "output_type": "execute_result"
    }
   ],
   "source": [
    "df2.groupby(['Model'])['Levy'].count()\n"
   ]
  },
  {
   "cell_type": "code",
   "execution_count": 186,
   "metadata": {},
   "outputs": [
    {
     "data": {
      "text/plain": [
       "Model\n",
       "09-Mar            917.0\n",
       "100               917.0\n",
       "1000             1077.0\n",
       "114               906.5\n",
       "116 i            1047.0\n",
       "                  ...  \n",
       "kamaz/ კამაზი     917.0\n",
       "kona SEL         1079.0\n",
       "macan            1048.0\n",
       "transit          2390.0\n",
       "xD                839.0\n",
       "Name: Levy, Length: 995, dtype: float64"
      ]
     },
     "execution_count": 186,
     "metadata": {},
     "output_type": "execute_result"
    }
   ],
   "source": [
    "df2.groupby(['Model'])['Levy'].mean()"
   ]
  },
  {
   "cell_type": "code",
   "execution_count": 187,
   "metadata": {},
   "outputs": [
    {
     "name": "stdout",
     "output_type": "stream",
     "text": [
      "            ID  Levy Manufacturer        Model  Prod. year   Category  \\\n",
      "0     44020629   917   VOLKSWAGEN  1158.741935        2012  Hatchback   \n",
      "1     45784798   917      HYUNDAI   799.502092        2012      Sedan   \n",
      "2     45800257   917       NISSAN   917.000000        2005      Sedan   \n",
      "3     45797981   975        OTHER  1338.333333        2012       Jeep   \n",
      "4     45814303   917         OPEL   957.602941        1993  Hatchback   \n",
      "...        ...   ...          ...          ...         ...        ...   \n",
      "8240  44824410  1357        OTHER  1357.000000        2004  Universal   \n",
      "8241  45682346   917          BMW   917.000000        2012      Sedan   \n",
      "8242  45649860  1646        LEXUS  1593.912000        2015       Jeep   \n",
      "8243  45809706   784       TOYOTA   826.839286        2017  Hatchback   \n",
      "8244  45813163   448        HONDA   524.240741        2012  Hatchback   \n",
      "\n",
      "     Leather interior Fuel type Engine volume  Mileage  Cylinders  \\\n",
      "0                  No    Diesel     2.0 Turbo        0          4   \n",
      "1                 Yes    Petrol           2.4    26000          4   \n",
      "2                  No    Petrol           1.5   168000          4   \n",
      "3                 Yes    Petrol           3.2   143000          6   \n",
      "4                  No    Petrol           1.6   200000          4   \n",
      "...               ...       ...           ...      ...        ...   \n",
      "8240               No    Petrol           1.6   164000          4   \n",
      "8241              Yes    Petrol     2.8 Turbo   156000          4   \n",
      "8242              Yes    Petrol           4.6   102907          8   \n",
      "8243              Yes    Petrol           1.5     3000          4   \n",
      "8244              Yes    Hybrid           1.3   321269          4   \n",
      "\n",
      "     Gear box type Drive wheels  Doors             Wheel     Color  Airbags  \\\n",
      "0           Manual        Front      2        Left wheel      Grey       10   \n",
      "1        Tiptronic        Front      4        Left wheel      Grey       10   \n",
      "2        Automatic        Front      4  Right-hand drive  Sky blue        8   \n",
      "3        Automatic          4x4      4        Left wheel      Blue       12   \n",
      "4           Manual        Front      4        Left wheel     Black        0   \n",
      "...            ...          ...    ...               ...       ...      ...   \n",
      "8240        Manual        Front      4        Left wheel      Blue        6   \n",
      "8241     Tiptronic        Front      4        Left wheel     Black        6   \n",
      "8242     Automatic          4x4      4        Left wheel     Black        0   \n",
      "8243     Automatic        Front      4        Left wheel     Green        4   \n",
      "8244     Automatic        Front      4        Left wheel       Red       12   \n",
      "\n",
      "     Model_variant  Engine volume num  turbo  \n",
      "0              old                2.0      1  \n",
      "1              old                2.4      0  \n",
      "2              old                1.5      0  \n",
      "3              old                3.2      0  \n",
      "4              old                1.6      0  \n",
      "...            ...                ...    ...  \n",
      "8240           old                1.6      0  \n",
      "8241           old                2.8      1  \n",
      "8242        recent                4.6      0  \n",
      "8243        recent                1.5      0  \n",
      "8244           old                1.3      0  \n",
      "\n",
      "[8245 rows x 20 columns]\n"
     ]
    }
   ],
   "source": [
    "Mean_encoded_subject = df2.groupby(['Model'])['Levy'].mean().to_dict()\n",
    "  \n",
    "df2['Model'] =  df2['Model'].map(Mean_encoded_subject)\n",
    "  \n",
    "print(df2)"
   ]
  },
  {
   "cell_type": "code",
   "execution_count": 188,
   "metadata": {},
   "outputs": [
    {
     "data": {
      "text/html": [
       "<div>\n",
       "<style scoped>\n",
       "    .dataframe tbody tr th:only-of-type {\n",
       "        vertical-align: middle;\n",
       "    }\n",
       "\n",
       "    .dataframe tbody tr th {\n",
       "        vertical-align: top;\n",
       "    }\n",
       "\n",
       "    .dataframe thead th {\n",
       "        text-align: right;\n",
       "    }\n",
       "</style>\n",
       "<table border=\"1\" class=\"dataframe\">\n",
       "  <thead>\n",
       "    <tr style=\"text-align: right;\">\n",
       "      <th></th>\n",
       "      <th>ID</th>\n",
       "      <th>Levy</th>\n",
       "      <th>Manufacturer</th>\n",
       "      <th>Model</th>\n",
       "      <th>Prod. year</th>\n",
       "      <th>Category</th>\n",
       "      <th>Leather interior</th>\n",
       "      <th>Fuel type</th>\n",
       "      <th>Engine volume</th>\n",
       "      <th>Mileage</th>\n",
       "      <th>Cylinders</th>\n",
       "      <th>Gear box type</th>\n",
       "      <th>Drive wheels</th>\n",
       "      <th>Doors</th>\n",
       "      <th>Wheel</th>\n",
       "      <th>Color</th>\n",
       "      <th>Airbags</th>\n",
       "      <th>Model_variant</th>\n",
       "      <th>Engine volume num</th>\n",
       "      <th>turbo</th>\n",
       "    </tr>\n",
       "  </thead>\n",
       "  <tbody>\n",
       "    <tr>\n",
       "      <th>0</th>\n",
       "      <td>44020629</td>\n",
       "      <td>917</td>\n",
       "      <td>VOLKSWAGEN</td>\n",
       "      <td>1158.741935</td>\n",
       "      <td>2012</td>\n",
       "      <td>Hatchback</td>\n",
       "      <td>No</td>\n",
       "      <td>Diesel</td>\n",
       "      <td>2.0 Turbo</td>\n",
       "      <td>0</td>\n",
       "      <td>4</td>\n",
       "      <td>Manual</td>\n",
       "      <td>Front</td>\n",
       "      <td>2</td>\n",
       "      <td>Left wheel</td>\n",
       "      <td>Grey</td>\n",
       "      <td>10</td>\n",
       "      <td>old</td>\n",
       "      <td>2.0</td>\n",
       "      <td>1</td>\n",
       "    </tr>\n",
       "    <tr>\n",
       "      <th>1</th>\n",
       "      <td>45784798</td>\n",
       "      <td>917</td>\n",
       "      <td>HYUNDAI</td>\n",
       "      <td>799.502092</td>\n",
       "      <td>2012</td>\n",
       "      <td>Sedan</td>\n",
       "      <td>Yes</td>\n",
       "      <td>Petrol</td>\n",
       "      <td>2.4</td>\n",
       "      <td>26000</td>\n",
       "      <td>4</td>\n",
       "      <td>Tiptronic</td>\n",
       "      <td>Front</td>\n",
       "      <td>4</td>\n",
       "      <td>Left wheel</td>\n",
       "      <td>Grey</td>\n",
       "      <td>10</td>\n",
       "      <td>old</td>\n",
       "      <td>2.4</td>\n",
       "      <td>0</td>\n",
       "    </tr>\n",
       "    <tr>\n",
       "      <th>2</th>\n",
       "      <td>45800257</td>\n",
       "      <td>917</td>\n",
       "      <td>NISSAN</td>\n",
       "      <td>917.000000</td>\n",
       "      <td>2005</td>\n",
       "      <td>Sedan</td>\n",
       "      <td>No</td>\n",
       "      <td>Petrol</td>\n",
       "      <td>1.5</td>\n",
       "      <td>168000</td>\n",
       "      <td>4</td>\n",
       "      <td>Automatic</td>\n",
       "      <td>Front</td>\n",
       "      <td>4</td>\n",
       "      <td>Right-hand drive</td>\n",
       "      <td>Sky blue</td>\n",
       "      <td>8</td>\n",
       "      <td>old</td>\n",
       "      <td>1.5</td>\n",
       "      <td>0</td>\n",
       "    </tr>\n",
       "    <tr>\n",
       "      <th>3</th>\n",
       "      <td>45797981</td>\n",
       "      <td>975</td>\n",
       "      <td>OTHER</td>\n",
       "      <td>1338.333333</td>\n",
       "      <td>2012</td>\n",
       "      <td>Jeep</td>\n",
       "      <td>Yes</td>\n",
       "      <td>Petrol</td>\n",
       "      <td>3.2</td>\n",
       "      <td>143000</td>\n",
       "      <td>6</td>\n",
       "      <td>Automatic</td>\n",
       "      <td>4x4</td>\n",
       "      <td>4</td>\n",
       "      <td>Left wheel</td>\n",
       "      <td>Blue</td>\n",
       "      <td>12</td>\n",
       "      <td>old</td>\n",
       "      <td>3.2</td>\n",
       "      <td>0</td>\n",
       "    </tr>\n",
       "    <tr>\n",
       "      <th>4</th>\n",
       "      <td>45814303</td>\n",
       "      <td>917</td>\n",
       "      <td>OPEL</td>\n",
       "      <td>957.602941</td>\n",
       "      <td>1993</td>\n",
       "      <td>Hatchback</td>\n",
       "      <td>No</td>\n",
       "      <td>Petrol</td>\n",
       "      <td>1.6</td>\n",
       "      <td>200000</td>\n",
       "      <td>4</td>\n",
       "      <td>Manual</td>\n",
       "      <td>Front</td>\n",
       "      <td>4</td>\n",
       "      <td>Left wheel</td>\n",
       "      <td>Black</td>\n",
       "      <td>0</td>\n",
       "      <td>old</td>\n",
       "      <td>1.6</td>\n",
       "      <td>0</td>\n",
       "    </tr>\n",
       "    <tr>\n",
       "      <th>...</th>\n",
       "      <td>...</td>\n",
       "      <td>...</td>\n",
       "      <td>...</td>\n",
       "      <td>...</td>\n",
       "      <td>...</td>\n",
       "      <td>...</td>\n",
       "      <td>...</td>\n",
       "      <td>...</td>\n",
       "      <td>...</td>\n",
       "      <td>...</td>\n",
       "      <td>...</td>\n",
       "      <td>...</td>\n",
       "      <td>...</td>\n",
       "      <td>...</td>\n",
       "      <td>...</td>\n",
       "      <td>...</td>\n",
       "      <td>...</td>\n",
       "      <td>...</td>\n",
       "      <td>...</td>\n",
       "      <td>...</td>\n",
       "    </tr>\n",
       "    <tr>\n",
       "      <th>8240</th>\n",
       "      <td>44824410</td>\n",
       "      <td>1357</td>\n",
       "      <td>OTHER</td>\n",
       "      <td>1357.000000</td>\n",
       "      <td>2004</td>\n",
       "      <td>Universal</td>\n",
       "      <td>No</td>\n",
       "      <td>Petrol</td>\n",
       "      <td>1.6</td>\n",
       "      <td>164000</td>\n",
       "      <td>4</td>\n",
       "      <td>Manual</td>\n",
       "      <td>Front</td>\n",
       "      <td>4</td>\n",
       "      <td>Left wheel</td>\n",
       "      <td>Blue</td>\n",
       "      <td>6</td>\n",
       "      <td>old</td>\n",
       "      <td>1.6</td>\n",
       "      <td>0</td>\n",
       "    </tr>\n",
       "    <tr>\n",
       "      <th>8241</th>\n",
       "      <td>45682346</td>\n",
       "      <td>917</td>\n",
       "      <td>BMW</td>\n",
       "      <td>917.000000</td>\n",
       "      <td>2012</td>\n",
       "      <td>Sedan</td>\n",
       "      <td>Yes</td>\n",
       "      <td>Petrol</td>\n",
       "      <td>2.8 Turbo</td>\n",
       "      <td>156000</td>\n",
       "      <td>4</td>\n",
       "      <td>Tiptronic</td>\n",
       "      <td>Front</td>\n",
       "      <td>4</td>\n",
       "      <td>Left wheel</td>\n",
       "      <td>Black</td>\n",
       "      <td>6</td>\n",
       "      <td>old</td>\n",
       "      <td>2.8</td>\n",
       "      <td>1</td>\n",
       "    </tr>\n",
       "    <tr>\n",
       "      <th>8242</th>\n",
       "      <td>45649860</td>\n",
       "      <td>1646</td>\n",
       "      <td>LEXUS</td>\n",
       "      <td>1593.912000</td>\n",
       "      <td>2015</td>\n",
       "      <td>Jeep</td>\n",
       "      <td>Yes</td>\n",
       "      <td>Petrol</td>\n",
       "      <td>4.6</td>\n",
       "      <td>102907</td>\n",
       "      <td>8</td>\n",
       "      <td>Automatic</td>\n",
       "      <td>4x4</td>\n",
       "      <td>4</td>\n",
       "      <td>Left wheel</td>\n",
       "      <td>Black</td>\n",
       "      <td>0</td>\n",
       "      <td>recent</td>\n",
       "      <td>4.6</td>\n",
       "      <td>0</td>\n",
       "    </tr>\n",
       "    <tr>\n",
       "      <th>8243</th>\n",
       "      <td>45809706</td>\n",
       "      <td>784</td>\n",
       "      <td>TOYOTA</td>\n",
       "      <td>826.839286</td>\n",
       "      <td>2017</td>\n",
       "      <td>Hatchback</td>\n",
       "      <td>Yes</td>\n",
       "      <td>Petrol</td>\n",
       "      <td>1.5</td>\n",
       "      <td>3000</td>\n",
       "      <td>4</td>\n",
       "      <td>Automatic</td>\n",
       "      <td>Front</td>\n",
       "      <td>4</td>\n",
       "      <td>Left wheel</td>\n",
       "      <td>Green</td>\n",
       "      <td>4</td>\n",
       "      <td>recent</td>\n",
       "      <td>1.5</td>\n",
       "      <td>0</td>\n",
       "    </tr>\n",
       "    <tr>\n",
       "      <th>8244</th>\n",
       "      <td>45813163</td>\n",
       "      <td>448</td>\n",
       "      <td>HONDA</td>\n",
       "      <td>524.240741</td>\n",
       "      <td>2012</td>\n",
       "      <td>Hatchback</td>\n",
       "      <td>Yes</td>\n",
       "      <td>Hybrid</td>\n",
       "      <td>1.3</td>\n",
       "      <td>321269</td>\n",
       "      <td>4</td>\n",
       "      <td>Automatic</td>\n",
       "      <td>Front</td>\n",
       "      <td>4</td>\n",
       "      <td>Left wheel</td>\n",
       "      <td>Red</td>\n",
       "      <td>12</td>\n",
       "      <td>old</td>\n",
       "      <td>1.3</td>\n",
       "      <td>0</td>\n",
       "    </tr>\n",
       "  </tbody>\n",
       "</table>\n",
       "<p>8245 rows × 20 columns</p>\n",
       "</div>"
      ],
      "text/plain": [
       "            ID  Levy Manufacturer        Model  Prod. year   Category  \\\n",
       "0     44020629   917   VOLKSWAGEN  1158.741935        2012  Hatchback   \n",
       "1     45784798   917      HYUNDAI   799.502092        2012      Sedan   \n",
       "2     45800257   917       NISSAN   917.000000        2005      Sedan   \n",
       "3     45797981   975        OTHER  1338.333333        2012       Jeep   \n",
       "4     45814303   917         OPEL   957.602941        1993  Hatchback   \n",
       "...        ...   ...          ...          ...         ...        ...   \n",
       "8240  44824410  1357        OTHER  1357.000000        2004  Universal   \n",
       "8241  45682346   917          BMW   917.000000        2012      Sedan   \n",
       "8242  45649860  1646        LEXUS  1593.912000        2015       Jeep   \n",
       "8243  45809706   784       TOYOTA   826.839286        2017  Hatchback   \n",
       "8244  45813163   448        HONDA   524.240741        2012  Hatchback   \n",
       "\n",
       "     Leather interior Fuel type Engine volume  Mileage  Cylinders  \\\n",
       "0                  No    Diesel     2.0 Turbo        0          4   \n",
       "1                 Yes    Petrol           2.4    26000          4   \n",
       "2                  No    Petrol           1.5   168000          4   \n",
       "3                 Yes    Petrol           3.2   143000          6   \n",
       "4                  No    Petrol           1.6   200000          4   \n",
       "...               ...       ...           ...      ...        ...   \n",
       "8240               No    Petrol           1.6   164000          4   \n",
       "8241              Yes    Petrol     2.8 Turbo   156000          4   \n",
       "8242              Yes    Petrol           4.6   102907          8   \n",
       "8243              Yes    Petrol           1.5     3000          4   \n",
       "8244              Yes    Hybrid           1.3   321269          4   \n",
       "\n",
       "     Gear box type Drive wheels  Doors             Wheel     Color  Airbags  \\\n",
       "0           Manual        Front      2        Left wheel      Grey       10   \n",
       "1        Tiptronic        Front      4        Left wheel      Grey       10   \n",
       "2        Automatic        Front      4  Right-hand drive  Sky blue        8   \n",
       "3        Automatic          4x4      4        Left wheel      Blue       12   \n",
       "4           Manual        Front      4        Left wheel     Black        0   \n",
       "...            ...          ...    ...               ...       ...      ...   \n",
       "8240        Manual        Front      4        Left wheel      Blue        6   \n",
       "8241     Tiptronic        Front      4        Left wheel     Black        6   \n",
       "8242     Automatic          4x4      4        Left wheel     Black        0   \n",
       "8243     Automatic        Front      4        Left wheel     Green        4   \n",
       "8244     Automatic        Front      4        Left wheel       Red       12   \n",
       "\n",
       "     Model_variant  Engine volume num  turbo  \n",
       "0              old                2.0      1  \n",
       "1              old                2.4      0  \n",
       "2              old                1.5      0  \n",
       "3              old                3.2      0  \n",
       "4              old                1.6      0  \n",
       "...            ...                ...    ...  \n",
       "8240           old                1.6      0  \n",
       "8241           old                2.8      1  \n",
       "8242        recent                4.6      0  \n",
       "8243        recent                1.5      0  \n",
       "8244           old                1.3      0  \n",
       "\n",
       "[8245 rows x 20 columns]"
      ]
     },
     "execution_count": 188,
     "metadata": {},
     "output_type": "execute_result"
    }
   ],
   "source": [
    "df2"
   ]
  },
  {
   "cell_type": "code",
   "execution_count": null,
   "metadata": {},
   "outputs": [],
   "source": []
  },
  {
   "cell_type": "code",
   "execution_count": null,
   "metadata": {},
   "outputs": [],
   "source": []
  },
  {
   "cell_type": "code",
   "execution_count": 232,
   "metadata": {},
   "outputs": [],
   "source": [
    "#dropping production collumn\n",
    "#df2=df2.drop('Prod. year',axis=1)\n",
    "df2=df2.drop('Engine volume',axis=1)\n",
    "df2=df2.drop('ID',axis=1)"
   ]
  },
  {
   "cell_type": "code",
   "execution_count": 190,
   "metadata": {},
   "outputs": [],
   "source": [
    "from sklearn.preprocessing import OrdinalEncoder"
   ]
  },
  {
   "cell_type": "code",
   "execution_count": 191,
   "metadata": {},
   "outputs": [],
   "source": [
    "cols = [['Manufacturer',\"Category\",'Leather interior',\"Fuel type\",\"Gear box type\",\"Drive wheels\",'Wheel','Color','Model_variant']]\n",
    "le=OrdinalEncoder()\n",
    "for col in cols:\n",
    "    df2[col] = le.fit_transform(df2[col])"
   ]
  },
  {
   "cell_type": "code",
   "execution_count": 233,
   "metadata": {},
   "outputs": [],
   "source": [
    "encoder = ce.TargetEncoder(cols = 'Model')\n",
    "df2['Model']=encoder.fit_transform(df2['Model'],df2[\"Levy\"])"
   ]
  },
  {
   "cell_type": "code",
   "execution_count": 234,
   "metadata": {},
   "outputs": [],
   "source": [
    "encoder = ce.TargetEncoder(cols = 'Manufacturer')\n",
    "df2['Manufacturer']=encoder.fit_transform(df2['Manufacturer'],df2[\"Levy\"])"
   ]
  },
  {
   "cell_type": "code",
   "execution_count": 235,
   "metadata": {},
   "outputs": [],
   "source": [
    "encoder = ce.TargetEncoder(cols = 'Category')\n",
    "df2['Category']=encoder.fit_transform(df2['Category'],df2[\"Levy\"])"
   ]
  },
  {
   "cell_type": "code",
   "execution_count": 236,
   "metadata": {},
   "outputs": [],
   "source": [
    "encoder = ce.TargetEncoder(cols = 'Leather interior')\n",
    "df2['Leather interior']=encoder.fit_transform(df2['Leather interior'],df2[\"Levy\"])"
   ]
  },
  {
   "cell_type": "code",
   "execution_count": 237,
   "metadata": {},
   "outputs": [],
   "source": [
    "encoder = ce.TargetEncoder(cols = 'Fuel type')\n",
    "df2['Fuel type']=encoder.fit_transform(df2['Fuel type'],df2[\"Levy\"])"
   ]
  },
  {
   "cell_type": "code",
   "execution_count": 238,
   "metadata": {},
   "outputs": [],
   "source": [
    "encoder = ce.TargetEncoder(cols = 'Gear box type')\n",
    "df2['Gear box type']=encoder.fit_transform(df2['Gear box type'],df2[\"Levy\"])"
   ]
  },
  {
   "cell_type": "code",
   "execution_count": 239,
   "metadata": {},
   "outputs": [],
   "source": [
    "encoder = ce.TargetEncoder(cols = 'Drive wheels')\n",
    "df2['Drive wheels']=encoder.fit_transform(df2['Drive wheels'],df2[\"Levy\"])"
   ]
  },
  {
   "cell_type": "code",
   "execution_count": 240,
   "metadata": {},
   "outputs": [],
   "source": [
    "encoder = ce.TargetEncoder(cols = 'Wheel')\n",
    "df2['Wheel']=encoder.fit_transform(df2['Wheel'],df2[\"Levy\"])"
   ]
  },
  {
   "cell_type": "code",
   "execution_count": 241,
   "metadata": {},
   "outputs": [],
   "source": [
    "encoder = ce.TargetEncoder(cols = 'Color')\n",
    "df2['Color']=encoder.fit_transform(df2['Color'],df2[\"Levy\"])"
   ]
  },
  {
   "cell_type": "code",
   "execution_count": 242,
   "metadata": {},
   "outputs": [],
   "source": [
    "encoder = ce.TargetEncoder(cols = 'Model_variant')\n",
    "df2['Model_variant']=encoder.fit_transform(df2['Model_variant'],df2[\"Levy\"])"
   ]
  },
  {
   "cell_type": "code",
   "execution_count": 243,
   "metadata": {},
   "outputs": [],
   "source": [
    "sts = MaxAbsScaler()\n",
    "feature_scale = ['Levy','Cylinders','Doors','Airbags','Mileage','Engine volume num']\n",
    "df2[feature_scale]=sts.fit_transform(df2[feature_scale])"
   ]
  },
  {
   "cell_type": "code",
   "execution_count": 244,
   "metadata": {},
   "outputs": [
    {
     "name": "stdout",
     "output_type": "stream",
     "text": [
      "<class 'pandas.core.frame.DataFrame'>\n",
      "Int64Index: 18624 entries, 0 to 19236\n",
      "Data columns (total 19 columns):\n",
      " #   Column             Non-Null Count  Dtype  \n",
      "---  ------             --------------  -----  \n",
      " 0   Price              18624 non-null  int64  \n",
      " 1   Levy               18624 non-null  float64\n",
      " 2   Manufacturer       18624 non-null  float64\n",
      " 3   Model              18624 non-null  float64\n",
      " 4   Prod. year         18624 non-null  int64  \n",
      " 5   Category           18624 non-null  float64\n",
      " 6   Leather interior   18624 non-null  float64\n",
      " 7   Fuel type          18624 non-null  float64\n",
      " 8   Mileage            18624 non-null  float64\n",
      " 9   Cylinders          18624 non-null  float64\n",
      " 10  Gear box type      18624 non-null  float64\n",
      " 11  Drive wheels       18624 non-null  float64\n",
      " 12  Doors              18624 non-null  float64\n",
      " 13  Wheel              18624 non-null  float64\n",
      " 14  Color              18624 non-null  float64\n",
      " 15  Airbags            18624 non-null  float64\n",
      " 16  Engine volume num  18624 non-null  float64\n",
      " 17  turbo              18624 non-null  uint8  \n",
      " 18  Model_variant      18624 non-null  float64\n",
      "dtypes: float64(16), int64(2), uint8(1)\n",
      "memory usage: 3.2 MB\n"
     ]
    }
   ],
   "source": [
    "df.info()"
   ]
  },
  {
   "cell_type": "code",
   "execution_count": 245,
   "metadata": {},
   "outputs": [
    {
     "name": "stdout",
     "output_type": "stream",
     "text": [
      "<class 'pandas.core.frame.DataFrame'>\n",
      "RangeIndex: 8245 entries, 0 to 8244\n",
      "Data columns (total 18 columns):\n",
      " #   Column             Non-Null Count  Dtype  \n",
      "---  ------             --------------  -----  \n",
      " 0   Levy               8245 non-null   float64\n",
      " 1   Manufacturer       8245 non-null   float64\n",
      " 2   Model              8245 non-null   float64\n",
      " 3   Prod. year         8245 non-null   int64  \n",
      " 4   Category           8245 non-null   float64\n",
      " 5   Leather interior   8245 non-null   float64\n",
      " 6   Fuel type          8245 non-null   float64\n",
      " 7   Mileage            8245 non-null   float64\n",
      " 8   Cylinders          8245 non-null   float64\n",
      " 9   Gear box type      8245 non-null   float64\n",
      " 10  Drive wheels       8245 non-null   float64\n",
      " 11  Doors              8245 non-null   float64\n",
      " 12  Wheel              8245 non-null   float64\n",
      " 13  Color              8245 non-null   float64\n",
      " 14  Airbags            8245 non-null   float64\n",
      " 15  Model_variant      8245 non-null   float64\n",
      " 16  Engine volume num  8245 non-null   float64\n",
      " 17  turbo              8245 non-null   uint8  \n",
      "dtypes: float64(16), int64(1), uint8(1)\n",
      "memory usage: 1.1 MB\n"
     ]
    }
   ],
   "source": [
    "df2.info()"
   ]
  },
  {
   "cell_type": "code",
   "execution_count": 246,
   "metadata": {},
   "outputs": [],
   "source": [
    "df2.to_csv('testh2onew45.csv',index=False)"
   ]
  },
  {
   "cell_type": "code",
   "execution_count": 196,
   "metadata": {},
   "outputs": [
    {
     "data": {
      "text/html": [
       "<div>\n",
       "<style scoped>\n",
       "    .dataframe tbody tr th:only-of-type {\n",
       "        vertical-align: middle;\n",
       "    }\n",
       "\n",
       "    .dataframe tbody tr th {\n",
       "        vertical-align: top;\n",
       "    }\n",
       "\n",
       "    .dataframe thead th {\n",
       "        text-align: right;\n",
       "    }\n",
       "</style>\n",
       "<table border=\"1\" class=\"dataframe\">\n",
       "  <thead>\n",
       "    <tr style=\"text-align: right;\">\n",
       "      <th></th>\n",
       "      <th>Levy</th>\n",
       "      <th>Manufacturer</th>\n",
       "      <th>Model</th>\n",
       "      <th>Prod. year</th>\n",
       "      <th>Category</th>\n",
       "      <th>Leather interior</th>\n",
       "      <th>Fuel type</th>\n",
       "      <th>Mileage</th>\n",
       "      <th>Cylinders</th>\n",
       "      <th>Gear box type</th>\n",
       "      <th>Drive wheels</th>\n",
       "      <th>Doors</th>\n",
       "      <th>Wheel</th>\n",
       "      <th>Color</th>\n",
       "      <th>Airbags</th>\n",
       "      <th>Model_variant</th>\n",
       "      <th>Engine volume num</th>\n",
       "      <th>turbo</th>\n",
       "    </tr>\n",
       "  </thead>\n",
       "  <tbody>\n",
       "    <tr>\n",
       "      <th>0</th>\n",
       "      <td>0.121812</td>\n",
       "      <td>18.0</td>\n",
       "      <td>1158.741935</td>\n",
       "      <td>2012</td>\n",
       "      <td>3.0</td>\n",
       "      <td>0.0</td>\n",
       "      <td>1.0</td>\n",
       "      <td>0.000000</td>\n",
       "      <td>0.031496</td>\n",
       "      <td>1.0</td>\n",
       "      <td>1.0</td>\n",
       "      <td>0.4</td>\n",
       "      <td>0.0</td>\n",
       "      <td>7.0</td>\n",
       "      <td>0.625</td>\n",
       "      <td>0.0</td>\n",
       "      <td>0.185185</td>\n",
       "      <td>1</td>\n",
       "    </tr>\n",
       "    <tr>\n",
       "      <th>1</th>\n",
       "      <td>0.121812</td>\n",
       "      <td>5.0</td>\n",
       "      <td>799.502092</td>\n",
       "      <td>2012</td>\n",
       "      <td>9.0</td>\n",
       "      <td>1.0</td>\n",
       "      <td>5.0</td>\n",
       "      <td>0.000012</td>\n",
       "      <td>0.031496</td>\n",
       "      <td>2.0</td>\n",
       "      <td>1.0</td>\n",
       "      <td>0.8</td>\n",
       "      <td>0.0</td>\n",
       "      <td>7.0</td>\n",
       "      <td>0.625</td>\n",
       "      <td>0.0</td>\n",
       "      <td>0.222222</td>\n",
       "      <td>0</td>\n",
       "    </tr>\n",
       "    <tr>\n",
       "      <th>2</th>\n",
       "      <td>0.121812</td>\n",
       "      <td>12.0</td>\n",
       "      <td>917.000000</td>\n",
       "      <td>2005</td>\n",
       "      <td>9.0</td>\n",
       "      <td>0.0</td>\n",
       "      <td>5.0</td>\n",
       "      <td>0.000078</td>\n",
       "      <td>0.031496</td>\n",
       "      <td>0.0</td>\n",
       "      <td>1.0</td>\n",
       "      <td>0.8</td>\n",
       "      <td>1.0</td>\n",
       "      <td>13.0</td>\n",
       "      <td>0.500</td>\n",
       "      <td>0.0</td>\n",
       "      <td>0.138889</td>\n",
       "      <td>0</td>\n",
       "    </tr>\n",
       "    <tr>\n",
       "      <th>3</th>\n",
       "      <td>0.129516</td>\n",
       "      <td>14.0</td>\n",
       "      <td>1338.333333</td>\n",
       "      <td>2012</td>\n",
       "      <td>4.0</td>\n",
       "      <td>1.0</td>\n",
       "      <td>5.0</td>\n",
       "      <td>0.000067</td>\n",
       "      <td>0.047244</td>\n",
       "      <td>0.0</td>\n",
       "      <td>0.0</td>\n",
       "      <td>0.8</td>\n",
       "      <td>0.0</td>\n",
       "      <td>2.0</td>\n",
       "      <td>0.750</td>\n",
       "      <td>0.0</td>\n",
       "      <td>0.296296</td>\n",
       "      <td>0</td>\n",
       "    </tr>\n",
       "    <tr>\n",
       "      <th>4</th>\n",
       "      <td>0.121812</td>\n",
       "      <td>13.0</td>\n",
       "      <td>957.602941</td>\n",
       "      <td>1993</td>\n",
       "      <td>3.0</td>\n",
       "      <td>0.0</td>\n",
       "      <td>5.0</td>\n",
       "      <td>0.000093</td>\n",
       "      <td>0.031496</td>\n",
       "      <td>1.0</td>\n",
       "      <td>1.0</td>\n",
       "      <td>0.8</td>\n",
       "      <td>0.0</td>\n",
       "      <td>1.0</td>\n",
       "      <td>0.000</td>\n",
       "      <td>0.0</td>\n",
       "      <td>0.148148</td>\n",
       "      <td>0</td>\n",
       "    </tr>\n",
       "    <tr>\n",
       "      <th>...</th>\n",
       "      <td>...</td>\n",
       "      <td>...</td>\n",
       "      <td>...</td>\n",
       "      <td>...</td>\n",
       "      <td>...</td>\n",
       "      <td>...</td>\n",
       "      <td>...</td>\n",
       "      <td>...</td>\n",
       "      <td>...</td>\n",
       "      <td>...</td>\n",
       "      <td>...</td>\n",
       "      <td>...</td>\n",
       "      <td>...</td>\n",
       "      <td>...</td>\n",
       "      <td>...</td>\n",
       "      <td>...</td>\n",
       "      <td>...</td>\n",
       "      <td>...</td>\n",
       "    </tr>\n",
       "    <tr>\n",
       "      <th>8240</th>\n",
       "      <td>0.180260</td>\n",
       "      <td>14.0</td>\n",
       "      <td>1357.000000</td>\n",
       "      <td>2004</td>\n",
       "      <td>10.0</td>\n",
       "      <td>0.0</td>\n",
       "      <td>5.0</td>\n",
       "      <td>0.000076</td>\n",
       "      <td>0.031496</td>\n",
       "      <td>1.0</td>\n",
       "      <td>1.0</td>\n",
       "      <td>0.8</td>\n",
       "      <td>0.0</td>\n",
       "      <td>2.0</td>\n",
       "      <td>0.375</td>\n",
       "      <td>0.0</td>\n",
       "      <td>0.148148</td>\n",
       "      <td>0</td>\n",
       "    </tr>\n",
       "    <tr>\n",
       "      <th>8241</th>\n",
       "      <td>0.121812</td>\n",
       "      <td>1.0</td>\n",
       "      <td>917.000000</td>\n",
       "      <td>2012</td>\n",
       "      <td>9.0</td>\n",
       "      <td>1.0</td>\n",
       "      <td>5.0</td>\n",
       "      <td>0.000073</td>\n",
       "      <td>0.031496</td>\n",
       "      <td>2.0</td>\n",
       "      <td>1.0</td>\n",
       "      <td>0.8</td>\n",
       "      <td>0.0</td>\n",
       "      <td>1.0</td>\n",
       "      <td>0.375</td>\n",
       "      <td>0.0</td>\n",
       "      <td>0.259259</td>\n",
       "      <td>1</td>\n",
       "    </tr>\n",
       "    <tr>\n",
       "      <th>8242</th>\n",
       "      <td>0.218650</td>\n",
       "      <td>8.0</td>\n",
       "      <td>1593.912000</td>\n",
       "      <td>2015</td>\n",
       "      <td>4.0</td>\n",
       "      <td>1.0</td>\n",
       "      <td>5.0</td>\n",
       "      <td>0.000048</td>\n",
       "      <td>0.062992</td>\n",
       "      <td>0.0</td>\n",
       "      <td>0.0</td>\n",
       "      <td>0.8</td>\n",
       "      <td>0.0</td>\n",
       "      <td>1.0</td>\n",
       "      <td>0.000</td>\n",
       "      <td>1.0</td>\n",
       "      <td>0.425926</td>\n",
       "      <td>0</td>\n",
       "    </tr>\n",
       "    <tr>\n",
       "      <th>8243</th>\n",
       "      <td>0.104145</td>\n",
       "      <td>17.0</td>\n",
       "      <td>826.839286</td>\n",
       "      <td>2017</td>\n",
       "      <td>3.0</td>\n",
       "      <td>1.0</td>\n",
       "      <td>5.0</td>\n",
       "      <td>0.000001</td>\n",
       "      <td>0.031496</td>\n",
       "      <td>0.0</td>\n",
       "      <td>1.0</td>\n",
       "      <td>0.8</td>\n",
       "      <td>0.0</td>\n",
       "      <td>6.0</td>\n",
       "      <td>0.250</td>\n",
       "      <td>1.0</td>\n",
       "      <td>0.138889</td>\n",
       "      <td>0</td>\n",
       "    </tr>\n",
       "    <tr>\n",
       "      <th>8244</th>\n",
       "      <td>0.059511</td>\n",
       "      <td>4.0</td>\n",
       "      <td>524.240741</td>\n",
       "      <td>2012</td>\n",
       "      <td>3.0</td>\n",
       "      <td>1.0</td>\n",
       "      <td>2.0</td>\n",
       "      <td>0.000150</td>\n",
       "      <td>0.031496</td>\n",
       "      <td>0.0</td>\n",
       "      <td>1.0</td>\n",
       "      <td>0.8</td>\n",
       "      <td>0.0</td>\n",
       "      <td>11.0</td>\n",
       "      <td>0.750</td>\n",
       "      <td>0.0</td>\n",
       "      <td>0.120370</td>\n",
       "      <td>0</td>\n",
       "    </tr>\n",
       "  </tbody>\n",
       "</table>\n",
       "<p>8245 rows × 18 columns</p>\n",
       "</div>"
      ],
      "text/plain": [
       "          Levy  Manufacturer        Model  Prod. year  Category  \\\n",
       "0     0.121812          18.0  1158.741935        2012       3.0   \n",
       "1     0.121812           5.0   799.502092        2012       9.0   \n",
       "2     0.121812          12.0   917.000000        2005       9.0   \n",
       "3     0.129516          14.0  1338.333333        2012       4.0   \n",
       "4     0.121812          13.0   957.602941        1993       3.0   \n",
       "...        ...           ...          ...         ...       ...   \n",
       "8240  0.180260          14.0  1357.000000        2004      10.0   \n",
       "8241  0.121812           1.0   917.000000        2012       9.0   \n",
       "8242  0.218650           8.0  1593.912000        2015       4.0   \n",
       "8243  0.104145          17.0   826.839286        2017       3.0   \n",
       "8244  0.059511           4.0   524.240741        2012       3.0   \n",
       "\n",
       "      Leather interior  Fuel type   Mileage  Cylinders  Gear box type  \\\n",
       "0                  0.0        1.0  0.000000   0.031496            1.0   \n",
       "1                  1.0        5.0  0.000012   0.031496            2.0   \n",
       "2                  0.0        5.0  0.000078   0.031496            0.0   \n",
       "3                  1.0        5.0  0.000067   0.047244            0.0   \n",
       "4                  0.0        5.0  0.000093   0.031496            1.0   \n",
       "...                ...        ...       ...        ...            ...   \n",
       "8240               0.0        5.0  0.000076   0.031496            1.0   \n",
       "8241               1.0        5.0  0.000073   0.031496            2.0   \n",
       "8242               1.0        5.0  0.000048   0.062992            0.0   \n",
       "8243               1.0        5.0  0.000001   0.031496            0.0   \n",
       "8244               1.0        2.0  0.000150   0.031496            0.0   \n",
       "\n",
       "      Drive wheels  Doors  Wheel  Color  Airbags  Model_variant  \\\n",
       "0              1.0    0.4    0.0    7.0    0.625            0.0   \n",
       "1              1.0    0.8    0.0    7.0    0.625            0.0   \n",
       "2              1.0    0.8    1.0   13.0    0.500            0.0   \n",
       "3              0.0    0.8    0.0    2.0    0.750            0.0   \n",
       "4              1.0    0.8    0.0    1.0    0.000            0.0   \n",
       "...            ...    ...    ...    ...      ...            ...   \n",
       "8240           1.0    0.8    0.0    2.0    0.375            0.0   \n",
       "8241           1.0    0.8    0.0    1.0    0.375            0.0   \n",
       "8242           0.0    0.8    0.0    1.0    0.000            1.0   \n",
       "8243           1.0    0.8    0.0    6.0    0.250            1.0   \n",
       "8244           1.0    0.8    0.0   11.0    0.750            0.0   \n",
       "\n",
       "      Engine volume num  turbo  \n",
       "0              0.185185      1  \n",
       "1              0.222222      0  \n",
       "2              0.138889      0  \n",
       "3              0.296296      0  \n",
       "4              0.148148      0  \n",
       "...                 ...    ...  \n",
       "8240           0.148148      0  \n",
       "8241           0.259259      1  \n",
       "8242           0.425926      0  \n",
       "8243           0.138889      0  \n",
       "8244           0.120370      0  \n",
       "\n",
       "[8245 rows x 18 columns]"
      ]
     },
     "execution_count": 196,
     "metadata": {},
     "output_type": "execute_result"
    }
   ],
   "source": [
    "df2"
   ]
  },
  {
   "cell_type": "code",
   "execution_count": null,
   "metadata": {},
   "outputs": [],
   "source": []
  },
  {
   "cell_type": "code",
   "execution_count": null,
   "metadata": {},
   "outputs": [],
   "source": []
  },
  {
   "cell_type": "code",
   "execution_count": null,
   "metadata": {},
   "outputs": [],
   "source": []
  }
 ],
 "metadata": {
  "kernelspec": {
   "display_name": "Python 3",
   "language": "python",
   "name": "python3"
  },
  "language_info": {
   "codemirror_mode": {
    "name": "ipython",
    "version": 3
   },
   "file_extension": ".py",
   "mimetype": "text/x-python",
   "name": "python",
   "nbconvert_exporter": "python",
   "pygments_lexer": "ipython3",
   "version": "3.7.4"
  }
 },
 "nbformat": 4,
 "nbformat_minor": 2
}
