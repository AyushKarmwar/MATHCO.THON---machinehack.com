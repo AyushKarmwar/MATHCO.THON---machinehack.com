{
 "cells": [
  {
   "cell_type": "code",
   "execution_count": 1,
   "metadata": {},
   "outputs": [],
   "source": [
    "import pandas as pd \n",
    "import numpy as np"
   ]
  },
  {
   "cell_type": "code",
   "execution_count": 6,
   "metadata": {},
   "outputs": [],
   "source": [
    "import h2o\n",
    "from h2o.estimators import H2ORandomForestEstimator"
   ]
  },
  {
   "cell_type": "code",
   "execution_count": 1,
   "metadata": {},
   "outputs": [
    {
     "name": "stdout",
     "output_type": "stream",
     "text": [
      "Checking whether there is an H2O instance running at http://localhost:54321 ..... not found.\n",
      "Attempting to start a local H2O server...\n",
      "; Java HotSpot(TM) 64-Bit Server VM (build 15.0.2+7-27, mixed mode, sharing)\n",
      "  Starting server from C:\\ProgramData\\Anaconda3\\lib\\site-packages\\h2o\\backend\\bin\\h2o.jar\n",
      "  Ice root: C:\\Users\\ayush\\AppData\\Local\\Temp\\tmpk3u9q99_\n",
      "  JVM stdout: C:\\Users\\ayush\\AppData\\Local\\Temp\\tmpk3u9q99_\\h2o_ayush_started_from_python.out\n",
      "  JVM stderr: C:\\Users\\ayush\\AppData\\Local\\Temp\\tmpk3u9q99_\\h2o_ayush_started_from_python.err\n",
      "  Server is running at http://127.0.0.1:54321\n",
      "Connecting to H2O server at http://127.0.0.1:54321 ... successful.\n"
     ]
    },
    {
     "data": {
      "text/html": [
       "<div style=\"overflow:auto\"><table style=\"width:50%\"><tr><td>H2O_cluster_uptime:</td>\n",
       "<td>10 secs</td></tr>\n",
       "<tr><td>H2O_cluster_timezone:</td>\n",
       "<td>Asia/Kolkata</td></tr>\n",
       "<tr><td>H2O_data_parsing_timezone:</td>\n",
       "<td>UTC</td></tr>\n",
       "<tr><td>H2O_cluster_version:</td>\n",
       "<td>3.32.1.4</td></tr>\n",
       "<tr><td>H2O_cluster_version_age:</td>\n",
       "<td>10 days </td></tr>\n",
       "<tr><td>H2O_cluster_name:</td>\n",
       "<td>H2O_from_python_ayush_bl7ojx</td></tr>\n",
       "<tr><td>H2O_cluster_total_nodes:</td>\n",
       "<td>1</td></tr>\n",
       "<tr><td>H2O_cluster_free_memory:</td>\n",
       "<td>880 Mb</td></tr>\n",
       "<tr><td>H2O_cluster_total_cores:</td>\n",
       "<td>0</td></tr>\n",
       "<tr><td>H2O_cluster_allowed_cores:</td>\n",
       "<td>0</td></tr>\n",
       "<tr><td>H2O_cluster_status:</td>\n",
       "<td>accepting new members, healthy</td></tr>\n",
       "<tr><td>H2O_connection_url:</td>\n",
       "<td>http://127.0.0.1:54321</td></tr>\n",
       "<tr><td>H2O_connection_proxy:</td>\n",
       "<td>{\"http\": null, \"https\": null}</td></tr>\n",
       "<tr><td>H2O_internal_security:</td>\n",
       "<td>False</td></tr>\n",
       "<tr><td>H2O_API_Extensions:</td>\n",
       "<td>Amazon S3, Algos, AutoML, Core V3, TargetEncoder, Core V4</td></tr>\n",
       "<tr><td>Python_version:</td>\n",
       "<td>3.7.4 final</td></tr></table></div>"
      ],
      "text/plain": [
       "--------------------------  ---------------------------------------------------------\n",
       "H2O_cluster_uptime:         10 secs\n",
       "H2O_cluster_timezone:       Asia/Kolkata\n",
       "H2O_data_parsing_timezone:  UTC\n",
       "H2O_cluster_version:        3.32.1.4\n",
       "H2O_cluster_version_age:    10 days\n",
       "H2O_cluster_name:           H2O_from_python_ayush_bl7ojx\n",
       "H2O_cluster_total_nodes:    1\n",
       "H2O_cluster_free_memory:    880 Mb\n",
       "H2O_cluster_total_cores:    0\n",
       "H2O_cluster_allowed_cores:  0\n",
       "H2O_cluster_status:         accepting new members, healthy\n",
       "H2O_connection_url:         http://127.0.0.1:54321\n",
       "H2O_connection_proxy:       {\"http\": null, \"https\": null}\n",
       "H2O_internal_security:      False\n",
       "H2O_API_Extensions:         Amazon S3, Algos, AutoML, Core V3, TargetEncoder, Core V4\n",
       "Python_version:             3.7.4 final\n",
       "--------------------------  ---------------------------------------------------------"
      ]
     },
     "metadata": {},
     "output_type": "display_data"
    }
   ],
   "source": [
    "import h2o\n",
    "from h2o.automl import H2OAutoML\n",
    "h2o.init()"
   ]
  },
  {
   "cell_type": "code",
   "execution_count": 9,
   "metadata": {},
   "outputs": [],
   "source": [
    "data_path=r'trainh2o_new45895.csv'"
   ]
  },
  {
   "cell_type": "code",
   "execution_count": 10,
   "metadata": {},
   "outputs": [
    {
     "name": "stdout",
     "output_type": "stream",
     "text": [
      "Parse progress: |█████████████████████████████████████████████████████████| 100%\n"
     ]
    }
   ],
   "source": [
    "df=h2o.import_file(data_path)"
   ]
  },
  {
   "cell_type": "code",
   "execution_count": 11,
   "metadata": {},
   "outputs": [
    {
     "data": {
      "text/html": [
       "<table>\n",
       "<thead>\n",
       "<tr><th style=\"text-align: right;\">  Price</th><th style=\"text-align: right;\">     Levy</th><th style=\"text-align: right;\">  Manufacturer</th><th style=\"text-align: right;\">   Model</th><th style=\"text-align: right;\">  Prod. year</th><th style=\"text-align: right;\">  Category</th><th style=\"text-align: right;\">  Leather interior</th><th style=\"text-align: right;\">  Fuel type</th><th style=\"text-align: right;\">  Mileage</th><th style=\"text-align: right;\">  Cylinders</th><th style=\"text-align: right;\">  Gear box type</th><th style=\"text-align: right;\">  Drive wheels</th><th style=\"text-align: right;\">  Doors</th><th style=\"text-align: right;\">   Wheel</th><th style=\"text-align: right;\">   Color</th><th style=\"text-align: right;\">  Airbags</th><th style=\"text-align: right;\">  Engine volume num</th><th style=\"text-align: right;\">  turbo</th><th style=\"text-align: right;\">  Model_variant</th></tr>\n",
       "</thead>\n",
       "<tbody>\n",
       "<tr><td style=\"text-align: right;\">  13328</td><td style=\"text-align: right;\">0.350714 </td><td style=\"text-align: right;\">      0.325595</td><td style=\"text-align: right;\">0.282619</td><td style=\"text-align: right;\">        2010</td><td style=\"text-align: right;\">  0.253864</td><td style=\"text-align: right;\">          0.228325</td><td style=\"text-align: right;\">   0.192156</td><td style=\"text-align: right;\"> 0.465122</td><td style=\"text-align: right;\">      0.375</td><td style=\"text-align: right;\">       0.226503</td><td style=\"text-align: right;\">      0.284141</td><td style=\"text-align: right;\">    0.8</td><td style=\"text-align: right;\">0.226294</td><td style=\"text-align: right;\">0.228835</td><td style=\"text-align: right;\">    0.75 </td><td style=\"text-align: right;\">           0.522388</td><td style=\"text-align: right;\">      0</td><td style=\"text-align: right;\">       0.235508</td></tr>\n",
       "<tr><td style=\"text-align: right;\">  16621</td><td style=\"text-align: right;\">0.255202 </td><td style=\"text-align: right;\">      0.184267</td><td style=\"text-align: right;\">0.218837</td><td style=\"text-align: right;\">        2011</td><td style=\"text-align: right;\">  0.253864</td><td style=\"text-align: right;\">          0.230846</td><td style=\"text-align: right;\">   0.239354</td><td style=\"text-align: right;\"> 0.480113</td><td style=\"text-align: right;\">      0.375</td><td style=\"text-align: right;\">       0.228221</td><td style=\"text-align: right;\">      0.284141</td><td style=\"text-align: right;\">    0.8</td><td style=\"text-align: right;\">0.226294</td><td style=\"text-align: right;\">0.239345</td><td style=\"text-align: right;\">    0.5  </td><td style=\"text-align: right;\">           0.447761</td><td style=\"text-align: right;\">      0</td><td style=\"text-align: right;\">       0.235508</td></tr>\n",
       "<tr><td style=\"text-align: right;\">   8467</td><td style=\"text-align: right;\">0.202426 </td><td style=\"text-align: right;\">      0.216303</td><td style=\"text-align: right;\">0.211642</td><td style=\"text-align: right;\">        2006</td><td style=\"text-align: right;\">  0.195431</td><td style=\"text-align: right;\">          0.230846</td><td style=\"text-align: right;\">   0.239354</td><td style=\"text-align: right;\"> 0.500118</td><td style=\"text-align: right;\">      0.25 </td><td style=\"text-align: right;\">       0.218058</td><td style=\"text-align: right;\">      0.204944</td><td style=\"text-align: right;\">    0.8</td><td style=\"text-align: right;\">0.261289</td><td style=\"text-align: right;\">0.239345</td><td style=\"text-align: right;\">    0.125</td><td style=\"text-align: right;\">           0.19403 </td><td style=\"text-align: right;\">      0</td><td style=\"text-align: right;\">       0.235508</td></tr>\n",
       "<tr><td style=\"text-align: right;\">   3607</td><td style=\"text-align: right;\">0.216094 </td><td style=\"text-align: right;\">      0.212757</td><td style=\"text-align: right;\">0.213339</td><td style=\"text-align: right;\">        2011</td><td style=\"text-align: right;\">  0.253864</td><td style=\"text-align: right;\">          0.228325</td><td style=\"text-align: right;\">   0.192156</td><td style=\"text-align: right;\"> 0.422514</td><td style=\"text-align: right;\">      0.25 </td><td style=\"text-align: right;\">       0.226503</td><td style=\"text-align: right;\">      0.284141</td><td style=\"text-align: right;\">    0.8</td><td style=\"text-align: right;\">0.226294</td><td style=\"text-align: right;\">0.223137</td><td style=\"text-align: right;\">    0    </td><td style=\"text-align: right;\">           0.373134</td><td style=\"text-align: right;\">      0</td><td style=\"text-align: right;\">       0.235508</td></tr>\n",
       "<tr><td style=\"text-align: right;\">  11726</td><td style=\"text-align: right;\">0.111807 </td><td style=\"text-align: right;\">      0.216303</td><td style=\"text-align: right;\">0.211642</td><td style=\"text-align: right;\">        2014</td><td style=\"text-align: right;\">  0.195431</td><td style=\"text-align: right;\">          0.228325</td><td style=\"text-align: right;\">   0.239354</td><td style=\"text-align: right;\"> 0.229807</td><td style=\"text-align: right;\">      0.25 </td><td style=\"text-align: right;\">       0.226503</td><td style=\"text-align: right;\">      0.204944</td><td style=\"text-align: right;\">    0.8</td><td style=\"text-align: right;\">0.226294</td><td style=\"text-align: right;\">0.228835</td><td style=\"text-align: right;\">    0.25 </td><td style=\"text-align: right;\">           0.19403 </td><td style=\"text-align: right;\">      0</td><td style=\"text-align: right;\">       0.217289</td></tr>\n",
       "<tr><td style=\"text-align: right;\">  39493</td><td style=\"text-align: right;\">0.223364 </td><td style=\"text-align: right;\">      0.20169 </td><td style=\"text-align: right;\">0.211685</td><td style=\"text-align: right;\">        2016</td><td style=\"text-align: right;\">  0.253864</td><td style=\"text-align: right;\">          0.228325</td><td style=\"text-align: right;\">   0.235918</td><td style=\"text-align: right;\"> 0.402422</td><td style=\"text-align: right;\">      0.25 </td><td style=\"text-align: right;\">       0.226503</td><td style=\"text-align: right;\">      0.204944</td><td style=\"text-align: right;\">    0.8</td><td style=\"text-align: right;\">0.226294</td><td style=\"text-align: right;\">0.223137</td><td style=\"text-align: right;\">    0.25 </td><td style=\"text-align: right;\">           0.298507</td><td style=\"text-align: right;\">      0</td><td style=\"text-align: right;\">       0.217289</td></tr>\n",
       "<tr><td style=\"text-align: right;\">   1803</td><td style=\"text-align: right;\">0.190775 </td><td style=\"text-align: right;\">      0.215946</td><td style=\"text-align: right;\">0.18407 </td><td style=\"text-align: right;\">        2010</td><td style=\"text-align: right;\">  0.195431</td><td style=\"text-align: right;\">          0.228325</td><td style=\"text-align: right;\">   0.192156</td><td style=\"text-align: right;\"> 0.647425</td><td style=\"text-align: right;\">      0.25 </td><td style=\"text-align: right;\">       0.226503</td><td style=\"text-align: right;\">      0.204944</td><td style=\"text-align: right;\">    0.8</td><td style=\"text-align: right;\">0.226294</td><td style=\"text-align: right;\">0.223137</td><td style=\"text-align: right;\">    0.75 </td><td style=\"text-align: right;\">           0.268657</td><td style=\"text-align: right;\">      0</td><td style=\"text-align: right;\">       0.235508</td></tr>\n",
       "<tr><td style=\"text-align: right;\">    549</td><td style=\"text-align: right;\">0.188268 </td><td style=\"text-align: right;\">      0.20169 </td><td style=\"text-align: right;\">0.200159</td><td style=\"text-align: right;\">        2013</td><td style=\"text-align: right;\">  0.218055</td><td style=\"text-align: right;\">          0.228325</td><td style=\"text-align: right;\">   0.239354</td><td style=\"text-align: right;\"> 0.540422</td><td style=\"text-align: right;\">      0.25 </td><td style=\"text-align: right;\">       0.226503</td><td style=\"text-align: right;\">      0.204944</td><td style=\"text-align: right;\">    0.8</td><td style=\"text-align: right;\">0.226294</td><td style=\"text-align: right;\">0.222789</td><td style=\"text-align: right;\">    0.75 </td><td style=\"text-align: right;\">           0.358209</td><td style=\"text-align: right;\">      0</td><td style=\"text-align: right;\">       0.235508</td></tr>\n",
       "<tr><td style=\"text-align: right;\">   1098</td><td style=\"text-align: right;\">0.0987716</td><td style=\"text-align: right;\">      0.215946</td><td style=\"text-align: right;\">0.196474</td><td style=\"text-align: right;\">        2014</td><td style=\"text-align: right;\">  0.218055</td><td style=\"text-align: right;\">          0.228325</td><td style=\"text-align: right;\">   0.192156</td><td style=\"text-align: right;\"> 0.995406</td><td style=\"text-align: right;\">      0.25 </td><td style=\"text-align: right;\">       0.226503</td><td style=\"text-align: right;\">      0.204944</td><td style=\"text-align: right;\">    0.8</td><td style=\"text-align: right;\">0.226294</td><td style=\"text-align: right;\">0.239345</td><td style=\"text-align: right;\">    0.75 </td><td style=\"text-align: right;\">           0.373134</td><td style=\"text-align: right;\">      0</td><td style=\"text-align: right;\">       0.217289</td></tr>\n",
       "<tr><td style=\"text-align: right;\">  26657</td><td style=\"text-align: right;\">0.233204 </td><td style=\"text-align: right;\">      0.325595</td><td style=\"text-align: right;\">0.33075 </td><td style=\"text-align: right;\">        2007</td><td style=\"text-align: right;\">  0.253864</td><td style=\"text-align: right;\">          0.228325</td><td style=\"text-align: right;\">   0.239354</td><td style=\"text-align: right;\"> 0.321326</td><td style=\"text-align: right;\">      0.375</td><td style=\"text-align: right;\">       0.226503</td><td style=\"text-align: right;\">      0.284141</td><td style=\"text-align: right;\">    0.8</td><td style=\"text-align: right;\">0.226294</td><td style=\"text-align: right;\">0.228835</td><td style=\"text-align: right;\">    0.75 </td><td style=\"text-align: right;\">           0.522388</td><td style=\"text-align: right;\">      0</td><td style=\"text-align: right;\">       0.235508</td></tr>\n",
       "</tbody>\n",
       "</table>"
      ]
     },
     "metadata": {},
     "output_type": "display_data"
    },
    {
     "data": {
      "text/plain": []
     },
     "execution_count": 11,
     "metadata": {},
     "output_type": "execute_result"
    }
   ],
   "source": [
    "df"
   ]
  },
  {
   "cell_type": "code",
   "execution_count": 12,
   "metadata": {},
   "outputs": [],
   "source": [
    "y='Price'\n",
    "x=df.columns"
   ]
  },
  {
   "cell_type": "code",
   "execution_count": 13,
   "metadata": {},
   "outputs": [
    {
     "name": "stdout",
     "output_type": "stream",
     "text": [
      "AutoML progress: |\n",
      "11:21:52.277: AutoML: XGBoost is not available; skipping it.\n",
      "\n",
      "████████████████████████████████████████████████████████| 100%\n"
     ]
    }
   ],
   "source": [
    "aml = H2OAutoML(max_models=10,seed=1)\n",
    "aml.train(x=x,y=y,training_frame=df)"
   ]
  },
  {
   "cell_type": "code",
   "execution_count": 14,
   "metadata": {},
   "outputs": [],
   "source": [
    "lb = aml.leaderboard"
   ]
  },
  {
   "cell_type": "code",
   "execution_count": 15,
   "metadata": {},
   "outputs": [
    {
     "data": {
      "text/html": [
       "<table>\n",
       "<thead>\n",
       "<tr><th>model_id                                           </th><th style=\"text-align: right;\">  mean_residual_deviance</th><th style=\"text-align: right;\">   rmse</th><th style=\"text-align: right;\">        mse</th><th style=\"text-align: right;\">    mae</th><th style=\"text-align: right;\">    rmsle</th></tr>\n",
       "</thead>\n",
       "<tbody>\n",
       "<tr><td>StackedEnsemble_AllModels_AutoML_20210719_112152   </td><td style=\"text-align: right;\">             5.02273e+07</td><td style=\"text-align: right;\">7087.12</td><td style=\"text-align: right;\">5.02273e+07</td><td style=\"text-align: right;\">4002.54</td><td style=\"text-align: right;\">nan      </td></tr>\n",
       "<tr><td>StackedEnsemble_BestOfFamily_AutoML_20210719_112152</td><td style=\"text-align: right;\">             5.0581e+07 </td><td style=\"text-align: right;\">7112.04</td><td style=\"text-align: right;\">5.0581e+07 </td><td style=\"text-align: right;\">3970.07</td><td style=\"text-align: right;\">nan      </td></tr>\n",
       "<tr><td>GBM_4_AutoML_20210719_112152                       </td><td style=\"text-align: right;\">             5.26998e+07</td><td style=\"text-align: right;\">7259.46</td><td style=\"text-align: right;\">5.26998e+07</td><td style=\"text-align: right;\">4204.68</td><td style=\"text-align: right;\">nan      </td></tr>\n",
       "<tr><td>DRF_1_AutoML_20210719_112152                       </td><td style=\"text-align: right;\">             5.30348e+07</td><td style=\"text-align: right;\">7282.5 </td><td style=\"text-align: right;\">5.30348e+07</td><td style=\"text-align: right;\">4006.47</td><td style=\"text-align: right;\">  1.03095</td></tr>\n",
       "<tr><td>XRT_1_AutoML_20210719_112152                       </td><td style=\"text-align: right;\">             5.41416e+07</td><td style=\"text-align: right;\">7358.1 </td><td style=\"text-align: right;\">5.41416e+07</td><td style=\"text-align: right;\">4139.41</td><td style=\"text-align: right;\">  1.07916</td></tr>\n",
       "<tr><td>GBM_3_AutoML_20210719_112152                       </td><td style=\"text-align: right;\">             5.45792e+07</td><td style=\"text-align: right;\">7387.77</td><td style=\"text-align: right;\">5.45792e+07</td><td style=\"text-align: right;\">4404.71</td><td style=\"text-align: right;\">nan      </td></tr>\n",
       "<tr><td>GBM_1_AutoML_20210719_112152                       </td><td style=\"text-align: right;\">             5.51417e+07</td><td style=\"text-align: right;\">7425.74</td><td style=\"text-align: right;\">5.51417e+07</td><td style=\"text-align: right;\">4518.96</td><td style=\"text-align: right;\">nan      </td></tr>\n",
       "<tr><td>GBM_2_AutoML_20210719_112152                       </td><td style=\"text-align: right;\">             5.61172e+07</td><td style=\"text-align: right;\">7491.14</td><td style=\"text-align: right;\">5.61172e+07</td><td style=\"text-align: right;\">4532.78</td><td style=\"text-align: right;\">nan      </td></tr>\n",
       "<tr><td>GBM_5_AutoML_20210719_112152                       </td><td style=\"text-align: right;\">             6.00394e+07</td><td style=\"text-align: right;\">7748.51</td><td style=\"text-align: right;\">6.00394e+07</td><td style=\"text-align: right;\">4699.08</td><td style=\"text-align: right;\">nan      </td></tr>\n",
       "<tr><td>GBM_grid__1_AutoML_20210719_112152_model_1         </td><td style=\"text-align: right;\">             6.70073e+07</td><td style=\"text-align: right;\">8185.8 </td><td style=\"text-align: right;\">6.70073e+07</td><td style=\"text-align: right;\">5250.79</td><td style=\"text-align: right;\">nan      </td></tr>\n",
       "</tbody>\n",
       "</table>"
      ]
     },
     "metadata": {},
     "output_type": "display_data"
    },
    {
     "data": {
      "text/plain": []
     },
     "execution_count": 15,
     "metadata": {},
     "output_type": "execute_result"
    }
   ],
   "source": [
    "lb"
   ]
  },
  {
   "cell_type": "code",
   "execution_count": 16,
   "metadata": {},
   "outputs": [],
   "source": [
    "data_path=r'testh2onew45.csv'"
   ]
  },
  {
   "cell_type": "code",
   "execution_count": 17,
   "metadata": {},
   "outputs": [
    {
     "name": "stdout",
     "output_type": "stream",
     "text": [
      "Parse progress: |█████████████████████████████████████████████████████████| 100%\n"
     ]
    }
   ],
   "source": [
    "test=h2o.import_file(data_path)"
   ]
  },
  {
   "cell_type": "code",
   "execution_count": 18,
   "metadata": {},
   "outputs": [
    {
     "data": {
      "text/html": [
       "<table>\n",
       "<thead>\n",
       "<tr><th style=\"text-align: right;\">     Levy</th><th style=\"text-align: right;\">  Manufacturer</th><th style=\"text-align: right;\">   Model</th><th style=\"text-align: right;\">  Prod. year</th><th style=\"text-align: right;\">  Category</th><th style=\"text-align: right;\">  Leather interior</th><th style=\"text-align: right;\">  Fuel type</th><th style=\"text-align: right;\">    Mileage</th><th style=\"text-align: right;\">  Cylinders</th><th style=\"text-align: right;\">  Gear box type</th><th style=\"text-align: right;\">  Drive wheels</th><th style=\"text-align: right;\">  Doors</th><th style=\"text-align: right;\">   Wheel</th><th style=\"text-align: right;\">  Color</th><th style=\"text-align: right;\">  Airbags</th><th style=\"text-align: right;\">  Model_variant</th><th style=\"text-align: right;\">  Engine volume num</th><th style=\"text-align: right;\">  turbo</th></tr>\n",
       "</thead>\n",
       "<tbody>\n",
       "<tr><td style=\"text-align: right;\">0.121812 </td><td style=\"text-align: right;\">       868.24 </td><td style=\"text-align: right;\">1158.74 </td><td style=\"text-align: right;\">        2012</td><td style=\"text-align: right;\">   778.586</td><td style=\"text-align: right;\">           908.456</td><td style=\"text-align: right;\">    959.825</td><td style=\"text-align: right;\">0          </td><td style=\"text-align: right;\">  0.0314961</td><td style=\"text-align: right;\">        971.508</td><td style=\"text-align: right;\">       821.977</td><td style=\"text-align: right;\">    0.4</td><td style=\"text-align: right;\"> 904.848</td><td style=\"text-align: right;\">898.191</td><td style=\"text-align: right;\">    0.625</td><td style=\"text-align: right;\">        935.334</td><td style=\"text-align: right;\">           0.185185</td><td style=\"text-align: right;\">      1</td></tr>\n",
       "<tr><td style=\"text-align: right;\">0.121812 </td><td style=\"text-align: right;\">       812.011</td><td style=\"text-align: right;\"> 799.502</td><td style=\"text-align: right;\">        2012</td><td style=\"text-align: right;\">   872.44 </td><td style=\"text-align: right;\">           921.086</td><td style=\"text-align: right;\">    960.839</td><td style=\"text-align: right;\">1.21072e-05</td><td style=\"text-align: right;\">  0.0314961</td><td style=\"text-align: right;\">        906.783</td><td style=\"text-align: right;\">       821.977</td><td style=\"text-align: right;\">    0.8</td><td style=\"text-align: right;\"> 904.848</td><td style=\"text-align: right;\">898.191</td><td style=\"text-align: right;\">    0.625</td><td style=\"text-align: right;\">        935.334</td><td style=\"text-align: right;\">           0.222222</td><td style=\"text-align: right;\">      0</td></tr>\n",
       "<tr><td style=\"text-align: right;\">0.121812 </td><td style=\"text-align: right;\">       899.898</td><td style=\"text-align: right;\"> 917    </td><td style=\"text-align: right;\">        2005</td><td style=\"text-align: right;\">   872.44 </td><td style=\"text-align: right;\">           908.456</td><td style=\"text-align: right;\">    960.839</td><td style=\"text-align: right;\">7.82311e-05</td><td style=\"text-align: right;\">  0.0314961</td><td style=\"text-align: right;\">        915.524</td><td style=\"text-align: right;\">       821.977</td><td style=\"text-align: right;\">    0.8</td><td style=\"text-align: right;\">1076.14 </td><td style=\"text-align: right;\">972    </td><td style=\"text-align: right;\">    0.5  </td><td style=\"text-align: right;\">        935.334</td><td style=\"text-align: right;\">           0.138889</td><td style=\"text-align: right;\">      0</td></tr>\n",
       "<tr><td style=\"text-align: right;\">0.129516 </td><td style=\"text-align: right;\">       983.843</td><td style=\"text-align: right;\">1288.18 </td><td style=\"text-align: right;\">        2012</td><td style=\"text-align: right;\">  1016.41 </td><td style=\"text-align: right;\">           921.086</td><td style=\"text-align: right;\">    960.839</td><td style=\"text-align: right;\">6.65896e-05</td><td style=\"text-align: right;\">  0.0472441</td><td style=\"text-align: right;\">        915.524</td><td style=\"text-align: right;\">      1143.46 </td><td style=\"text-align: right;\">    0.8</td><td style=\"text-align: right;\"> 904.848</td><td style=\"text-align: right;\">893.522</td><td style=\"text-align: right;\">    0.75 </td><td style=\"text-align: right;\">        935.334</td><td style=\"text-align: right;\">           0.296296</td><td style=\"text-align: right;\">      0</td></tr>\n",
       "<tr><td style=\"text-align: right;\">0.121812 </td><td style=\"text-align: right;\">       967.974</td><td style=\"text-align: right;\"> 957.603</td><td style=\"text-align: right;\">        1993</td><td style=\"text-align: right;\">   778.586</td><td style=\"text-align: right;\">           908.456</td><td style=\"text-align: right;\">    960.839</td><td style=\"text-align: right;\">9.31323e-05</td><td style=\"text-align: right;\">  0.0314961</td><td style=\"text-align: right;\">        971.508</td><td style=\"text-align: right;\">       821.977</td><td style=\"text-align: right;\">    0.8</td><td style=\"text-align: right;\"> 904.848</td><td style=\"text-align: right;\">965.137</td><td style=\"text-align: right;\">    0    </td><td style=\"text-align: right;\">        935.334</td><td style=\"text-align: right;\">           0.148148</td><td style=\"text-align: right;\">      0</td></tr>\n",
       "<tr><td style=\"text-align: right;\">0.0848831</td><td style=\"text-align: right;\">       971.241</td><td style=\"text-align: right;\"> 889.2  </td><td style=\"text-align: right;\">        2014</td><td style=\"text-align: right;\">   872.44 </td><td style=\"text-align: right;\">           921.086</td><td style=\"text-align: right;\">    960.839</td><td style=\"text-align: right;\">2.78153e-05</td><td style=\"text-align: right;\">  0.0314961</td><td style=\"text-align: right;\">        906.783</td><td style=\"text-align: right;\">      1049.53 </td><td style=\"text-align: right;\">    0.8</td><td style=\"text-align: right;\"> 904.848</td><td style=\"text-align: right;\">965.137</td><td style=\"text-align: right;\">    0.75 </td><td style=\"text-align: right;\">        885.612</td><td style=\"text-align: right;\">           0.185185</td><td style=\"text-align: right;\">      1</td></tr>\n",
       "<tr><td style=\"text-align: right;\">0.21865  </td><td style=\"text-align: right;\">      1319.38 </td><td style=\"text-align: right;\">1593.91 </td><td style=\"text-align: right;\">        2015</td><td style=\"text-align: right;\">  1016.41 </td><td style=\"text-align: right;\">           921.086</td><td style=\"text-align: right;\">    960.839</td><td style=\"text-align: right;\">4.79198e-05</td><td style=\"text-align: right;\">  0.0629921</td><td style=\"text-align: right;\">        915.524</td><td style=\"text-align: right;\">      1143.46 </td><td style=\"text-align: right;\">    0.8</td><td style=\"text-align: right;\"> 904.848</td><td style=\"text-align: right;\">965.137</td><td style=\"text-align: right;\">    0    </td><td style=\"text-align: right;\">        885.612</td><td style=\"text-align: right;\">           0.425926</td><td style=\"text-align: right;\">      0</td></tr>\n",
       "<tr><td style=\"text-align: right;\">0.155685 </td><td style=\"text-align: right;\">      1116.04 </td><td style=\"text-align: right;\">1277.67 </td><td style=\"text-align: right;\">        2011</td><td style=\"text-align: right;\">   872.44 </td><td style=\"text-align: right;\">           921.086</td><td style=\"text-align: right;\">    959.825</td><td style=\"text-align: right;\">3.00333e-05</td><td style=\"text-align: right;\">  0.0472441</td><td style=\"text-align: right;\">        915.524</td><td style=\"text-align: right;\">      1143.46 </td><td style=\"text-align: right;\">    0.8</td><td style=\"text-align: right;\"> 904.848</td><td style=\"text-align: right;\">893.522</td><td style=\"text-align: right;\">    0.75 </td><td style=\"text-align: right;\">        935.334</td><td style=\"text-align: right;\">           0.324074</td><td style=\"text-align: right;\">      0</td></tr>\n",
       "<tr><td style=\"text-align: right;\">0.118358 </td><td style=\"text-align: right;\">       812.011</td><td style=\"text-align: right;\"> 799.502</td><td style=\"text-align: right;\">        2016</td><td style=\"text-align: right;\">   872.44 </td><td style=\"text-align: right;\">           921.086</td><td style=\"text-align: right;\">    830.359</td><td style=\"text-align: right;\">0.000139807</td><td style=\"text-align: right;\">  0.0314961</td><td style=\"text-align: right;\">        915.524</td><td style=\"text-align: right;\">       821.977</td><td style=\"text-align: right;\">    0.8</td><td style=\"text-align: right;\"> 904.848</td><td style=\"text-align: right;\">917.401</td><td style=\"text-align: right;\">    0.25 </td><td style=\"text-align: right;\">        885.612</td><td style=\"text-align: right;\">           0.185185</td><td style=\"text-align: right;\">      0</td></tr>\n",
       "<tr><td style=\"text-align: right;\">0.0856801</td><td style=\"text-align: right;\">       983.843</td><td style=\"text-align: right;\"> 762.547</td><td style=\"text-align: right;\">        2011</td><td style=\"text-align: right;\">   872.44 </td><td style=\"text-align: right;\">           921.086</td><td style=\"text-align: right;\">    960.839</td><td style=\"text-align: right;\">7.91624e-05</td><td style=\"text-align: right;\">  0.0314961</td><td style=\"text-align: right;\">        915.524</td><td style=\"text-align: right;\">       821.977</td><td style=\"text-align: right;\">    0.8</td><td style=\"text-align: right;\"> 904.848</td><td style=\"text-align: right;\">898.063</td><td style=\"text-align: right;\">    0.25 </td><td style=\"text-align: right;\">        935.334</td><td style=\"text-align: right;\">           0.166667</td><td style=\"text-align: right;\">      0</td></tr>\n",
       "</tbody>\n",
       "</table>"
      ]
     },
     "metadata": {},
     "output_type": "display_data"
    },
    {
     "data": {
      "text/plain": []
     },
     "execution_count": 18,
     "metadata": {},
     "output_type": "execute_result"
    }
   ],
   "source": [
    "test"
   ]
  },
  {
   "cell_type": "code",
   "execution_count": 19,
   "metadata": {},
   "outputs": [
    {
     "name": "stdout",
     "output_type": "stream",
     "text": [
      "stackedensemble prediction progress: |████████████████████████████████████| 100%\n"
     ]
    }
   ],
   "source": [
    "pred=aml.leader.predict(test)"
   ]
  },
  {
   "cell_type": "code",
   "execution_count": 20,
   "metadata": {},
   "outputs": [
    {
     "data": {
      "text/html": [
       "<table>\n",
       "<thead>\n",
       "<tr><th style=\"text-align: right;\">  predict</th></tr>\n",
       "</thead>\n",
       "<tbody>\n",
       "<tr><td style=\"text-align: right;\">  27594  </td></tr>\n",
       "<tr><td style=\"text-align: right;\">  27634.3</td></tr>\n",
       "<tr><td style=\"text-align: right;\">  16671.2</td></tr>\n",
       "<tr><td style=\"text-align: right;\">  32156.1</td></tr>\n",
       "<tr><td style=\"text-align: right;\">  14133.7</td></tr>\n",
       "<tr><td style=\"text-align: right;\">  30503.7</td></tr>\n",
       "<tr><td style=\"text-align: right;\">  42738.2</td></tr>\n",
       "<tr><td style=\"text-align: right;\">  27022.4</td></tr>\n",
       "<tr><td style=\"text-align: right;\">  40488.6</td></tr>\n",
       "<tr><td style=\"text-align: right;\">  20505.7</td></tr>\n",
       "</tbody>\n",
       "</table>"
      ]
     },
     "metadata": {},
     "output_type": "display_data"
    },
    {
     "data": {
      "text/plain": []
     },
     "execution_count": 20,
     "metadata": {},
     "output_type": "execute_result"
    }
   ],
   "source": [
    "pred"
   ]
  },
  {
   "cell_type": "code",
   "execution_count": 21,
   "metadata": {},
   "outputs": [
    {
     "name": "stdout",
     "output_type": "stream",
     "text": [
      "Export File progress: |███████████████████████████████████████████████████| 100%\n"
     ]
    }
   ],
   "source": [
    "h2o.export_file(pred, path = \"F:\\Participant_Data_TheMathCompany_.DSHH\\pred3.csv\", force = True)"
   ]
  },
  {
   "cell_type": "code",
   "execution_count": 22,
   "metadata": {},
   "outputs": [],
   "source": [
    "import pandas as pd\n",
    "df=pd.read_csv(\"pred3.csv\")"
   ]
  },
  {
   "cell_type": "code",
   "execution_count": 23,
   "metadata": {},
   "outputs": [
    {
     "data": {
      "text/html": [
       "<div>\n",
       "<style scoped>\n",
       "    .dataframe tbody tr th:only-of-type {\n",
       "        vertical-align: middle;\n",
       "    }\n",
       "\n",
       "    .dataframe tbody tr th {\n",
       "        vertical-align: top;\n",
       "    }\n",
       "\n",
       "    .dataframe thead th {\n",
       "        text-align: right;\n",
       "    }\n",
       "</style>\n",
       "<table border=\"1\" class=\"dataframe\">\n",
       "  <thead>\n",
       "    <tr style=\"text-align: right;\">\n",
       "      <th></th>\n",
       "      <th>predict</th>\n",
       "    </tr>\n",
       "  </thead>\n",
       "  <tbody>\n",
       "    <tr>\n",
       "      <th>0</th>\n",
       "      <td>27593.981339</td>\n",
       "    </tr>\n",
       "    <tr>\n",
       "      <th>1</th>\n",
       "      <td>27634.326497</td>\n",
       "    </tr>\n",
       "    <tr>\n",
       "      <th>2</th>\n",
       "      <td>16671.159396</td>\n",
       "    </tr>\n",
       "    <tr>\n",
       "      <th>3</th>\n",
       "      <td>32156.127971</td>\n",
       "    </tr>\n",
       "    <tr>\n",
       "      <th>4</th>\n",
       "      <td>14133.736832</td>\n",
       "    </tr>\n",
       "    <tr>\n",
       "      <th>...</th>\n",
       "      <td>...</td>\n",
       "    </tr>\n",
       "    <tr>\n",
       "      <th>8240</th>\n",
       "      <td>12307.518814</td>\n",
       "    </tr>\n",
       "    <tr>\n",
       "      <th>8241</th>\n",
       "      <td>30050.814560</td>\n",
       "    </tr>\n",
       "    <tr>\n",
       "      <th>8242</th>\n",
       "      <td>42738.176760</td>\n",
       "    </tr>\n",
       "    <tr>\n",
       "      <th>8243</th>\n",
       "      <td>38237.566506</td>\n",
       "    </tr>\n",
       "    <tr>\n",
       "      <th>8244</th>\n",
       "      <td>27650.447595</td>\n",
       "    </tr>\n",
       "  </tbody>\n",
       "</table>\n",
       "<p>8245 rows × 1 columns</p>\n",
       "</div>"
      ],
      "text/plain": [
       "           predict\n",
       "0     27593.981339\n",
       "1     27634.326497\n",
       "2     16671.159396\n",
       "3     32156.127971\n",
       "4     14133.736832\n",
       "...            ...\n",
       "8240  12307.518814\n",
       "8241  30050.814560\n",
       "8242  42738.176760\n",
       "8243  38237.566506\n",
       "8244  27650.447595\n",
       "\n",
       "[8245 rows x 1 columns]"
      ]
     },
     "execution_count": 23,
     "metadata": {},
     "output_type": "execute_result"
    }
   ],
   "source": [
    "df"
   ]
  },
  {
   "cell_type": "code",
   "execution_count": 24,
   "metadata": {},
   "outputs": [],
   "source": [
    "df=df.rename(columns={\"predict\":\"Price\"})"
   ]
  },
  {
   "cell_type": "code",
   "execution_count": 25,
   "metadata": {},
   "outputs": [],
   "source": [
    "df.to_csv('submissionh20new45599.csv',index=False)"
   ]
  },
  {
   "cell_type": "code",
   "execution_count": 26,
   "metadata": {},
   "outputs": [
    {
     "data": {
      "text/html": [
       "<div>\n",
       "<style scoped>\n",
       "    .dataframe tbody tr th:only-of-type {\n",
       "        vertical-align: middle;\n",
       "    }\n",
       "\n",
       "    .dataframe tbody tr th {\n",
       "        vertical-align: top;\n",
       "    }\n",
       "\n",
       "    .dataframe thead th {\n",
       "        text-align: right;\n",
       "    }\n",
       "</style>\n",
       "<table border=\"1\" class=\"dataframe\">\n",
       "  <thead>\n",
       "    <tr style=\"text-align: right;\">\n",
       "      <th></th>\n",
       "      <th>Price</th>\n",
       "    </tr>\n",
       "  </thead>\n",
       "  <tbody>\n",
       "    <tr>\n",
       "      <th>0</th>\n",
       "      <td>27593.981339</td>\n",
       "    </tr>\n",
       "    <tr>\n",
       "      <th>1</th>\n",
       "      <td>27634.326497</td>\n",
       "    </tr>\n",
       "    <tr>\n",
       "      <th>2</th>\n",
       "      <td>16671.159396</td>\n",
       "    </tr>\n",
       "    <tr>\n",
       "      <th>3</th>\n",
       "      <td>32156.127971</td>\n",
       "    </tr>\n",
       "    <tr>\n",
       "      <th>4</th>\n",
       "      <td>14133.736832</td>\n",
       "    </tr>\n",
       "    <tr>\n",
       "      <th>...</th>\n",
       "      <td>...</td>\n",
       "    </tr>\n",
       "    <tr>\n",
       "      <th>8240</th>\n",
       "      <td>12307.518814</td>\n",
       "    </tr>\n",
       "    <tr>\n",
       "      <th>8241</th>\n",
       "      <td>30050.814560</td>\n",
       "    </tr>\n",
       "    <tr>\n",
       "      <th>8242</th>\n",
       "      <td>42738.176760</td>\n",
       "    </tr>\n",
       "    <tr>\n",
       "      <th>8243</th>\n",
       "      <td>38237.566506</td>\n",
       "    </tr>\n",
       "    <tr>\n",
       "      <th>8244</th>\n",
       "      <td>27650.447595</td>\n",
       "    </tr>\n",
       "  </tbody>\n",
       "</table>\n",
       "<p>8245 rows × 1 columns</p>\n",
       "</div>"
      ],
      "text/plain": [
       "             Price\n",
       "0     27593.981339\n",
       "1     27634.326497\n",
       "2     16671.159396\n",
       "3     32156.127971\n",
       "4     14133.736832\n",
       "...            ...\n",
       "8240  12307.518814\n",
       "8241  30050.814560\n",
       "8242  42738.176760\n",
       "8243  38237.566506\n",
       "8244  27650.447595\n",
       "\n",
       "[8245 rows x 1 columns]"
      ]
     },
     "execution_count": 26,
     "metadata": {},
     "output_type": "execute_result"
    }
   ],
   "source": [
    "df"
   ]
  },
  {
   "cell_type": "code",
   "execution_count": 27,
   "metadata": {},
   "outputs": [
    {
     "data": {
      "text/html": [
       "<div>\n",
       "<style scoped>\n",
       "    .dataframe tbody tr th:only-of-type {\n",
       "        vertical-align: middle;\n",
       "    }\n",
       "\n",
       "    .dataframe tbody tr th {\n",
       "        vertical-align: top;\n",
       "    }\n",
       "\n",
       "    .dataframe thead th {\n",
       "        text-align: right;\n",
       "    }\n",
       "</style>\n",
       "<table border=\"1\" class=\"dataframe\">\n",
       "  <thead>\n",
       "    <tr style=\"text-align: right;\">\n",
       "      <th></th>\n",
       "      <th>Price</th>\n",
       "    </tr>\n",
       "  </thead>\n",
       "  <tbody>\n",
       "    <tr>\n",
       "      <th>0</th>\n",
       "      <td>27593.981339</td>\n",
       "    </tr>\n",
       "    <tr>\n",
       "      <th>1</th>\n",
       "      <td>27634.326497</td>\n",
       "    </tr>\n",
       "    <tr>\n",
       "      <th>2</th>\n",
       "      <td>16671.159396</td>\n",
       "    </tr>\n",
       "    <tr>\n",
       "      <th>3</th>\n",
       "      <td>32156.127971</td>\n",
       "    </tr>\n",
       "    <tr>\n",
       "      <th>4</th>\n",
       "      <td>14133.736832</td>\n",
       "    </tr>\n",
       "    <tr>\n",
       "      <th>...</th>\n",
       "      <td>...</td>\n",
       "    </tr>\n",
       "    <tr>\n",
       "      <th>8240</th>\n",
       "      <td>12307.518814</td>\n",
       "    </tr>\n",
       "    <tr>\n",
       "      <th>8241</th>\n",
       "      <td>30050.814560</td>\n",
       "    </tr>\n",
       "    <tr>\n",
       "      <th>8242</th>\n",
       "      <td>42738.176760</td>\n",
       "    </tr>\n",
       "    <tr>\n",
       "      <th>8243</th>\n",
       "      <td>38237.566506</td>\n",
       "    </tr>\n",
       "    <tr>\n",
       "      <th>8244</th>\n",
       "      <td>27650.447595</td>\n",
       "    </tr>\n",
       "  </tbody>\n",
       "</table>\n",
       "<p>8245 rows × 1 columns</p>\n",
       "</div>"
      ],
      "text/plain": [
       "             Price\n",
       "0     27593.981339\n",
       "1     27634.326497\n",
       "2     16671.159396\n",
       "3     32156.127971\n",
       "4     14133.736832\n",
       "...            ...\n",
       "8240  12307.518814\n",
       "8241  30050.814560\n",
       "8242  42738.176760\n",
       "8243  38237.566506\n",
       "8244  27650.447595\n",
       "\n",
       "[8245 rows x 1 columns]"
      ]
     },
     "execution_count": 27,
     "metadata": {},
     "output_type": "execute_result"
    }
   ],
   "source": [
    "submission=pd.DataFrame({\n",
    "    'Price':abs(df[\"Price\"])\n",
    "})\n",
    "submission"
   ]
  },
  {
   "cell_type": "code",
   "execution_count": 28,
   "metadata": {},
   "outputs": [],
   "source": [
    "submission.to_csv('submissionh20new458899999999.csv',index=False)"
   ]
  },
  {
   "cell_type": "code",
   "execution_count": null,
   "metadata": {},
   "outputs": [],
   "source": []
  }
 ],
 "metadata": {
  "kernelspec": {
   "display_name": "Python 3",
   "language": "python",
   "name": "python3"
  },
  "language_info": {
   "codemirror_mode": {
    "name": "ipython",
    "version": 3
   },
   "file_extension": ".py",
   "mimetype": "text/x-python",
   "name": "python",
   "nbconvert_exporter": "python",
   "pygments_lexer": "ipython3",
   "version": "3.7.4"
  }
 },
 "nbformat": 4,
 "nbformat_minor": 2
}
